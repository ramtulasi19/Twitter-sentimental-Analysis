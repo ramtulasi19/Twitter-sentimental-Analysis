{
  "nbformat": 4,
  "nbformat_minor": 0,
  "metadata": {
    "colab": {
      "name": "Group6_IPL_Term_Project_Final.ipynb",
      "provenance": [],
      "collapsed_sections": []
    },
    "kernelspec": {
      "name": "python3",
      "display_name": "Python 3"
    }
  },
  "cells": [
    {
      "cell_type": "code",
      "metadata": {
        "id": "hyTnPOkcTAoN",
        "colab": {
          "base_uri": "https://localhost:8080/"
        },
        "outputId": "b6a0b22c-5b21-4669-a6c0-7eb957546876"
      },
      "source": [
        "!pip install tweepy  #Installing Tweepy for twitter data"
      ],
      "execution_count": null,
      "outputs": [
        {
          "output_type": "stream",
          "text": [
            "Requirement already satisfied: tweepy in /usr/local/lib/python3.6/dist-packages (3.6.0)\n",
            "Requirement already satisfied: requests>=2.11.1 in /usr/local/lib/python3.6/dist-packages (from tweepy) (2.23.0)\n",
            "Requirement already satisfied: six>=1.10.0 in /usr/local/lib/python3.6/dist-packages (from tweepy) (1.15.0)\n",
            "Requirement already satisfied: requests-oauthlib>=0.7.0 in /usr/local/lib/python3.6/dist-packages (from tweepy) (1.3.0)\n",
            "Requirement already satisfied: PySocks>=1.5.7 in /usr/local/lib/python3.6/dist-packages (from tweepy) (1.7.1)\n",
            "Requirement already satisfied: chardet<4,>=3.0.2 in /usr/local/lib/python3.6/dist-packages (from requests>=2.11.1->tweepy) (3.0.4)\n",
            "Requirement already satisfied: certifi>=2017.4.17 in /usr/local/lib/python3.6/dist-packages (from requests>=2.11.1->tweepy) (2020.6.20)\n",
            "Requirement already satisfied: urllib3!=1.25.0,!=1.25.1,<1.26,>=1.21.1 in /usr/local/lib/python3.6/dist-packages (from requests>=2.11.1->tweepy) (1.24.3)\n",
            "Requirement already satisfied: idna<3,>=2.5 in /usr/local/lib/python3.6/dist-packages (from requests>=2.11.1->tweepy) (2.10)\n",
            "Requirement already satisfied: oauthlib>=3.0.0 in /usr/local/lib/python3.6/dist-packages (from requests-oauthlib>=0.7.0->tweepy) (3.1.0)\n"
          ],
          "name": "stdout"
        }
      ]
    },
    {
      "cell_type": "markdown",
      "metadata": {
        "id": "UmeUFsajLCoX"
      },
      "source": [
        "**Tweets extracted 11/8/2020**"
      ]
    },
    {
      "cell_type": "code",
      "metadata": {
        "id": "gG9pci1qU5ax",
        "colab": {
          "base_uri": "https://localhost:8080/"
        },
        "outputId": "87dec30b-6df3-45b9-a9f8-ac637fbb2252"
      },
      "source": [
        "#Program to get twitter data using Twitter API \n",
        "\n",
        "import json\n",
        "import csv\n",
        "import tweepy\n",
        "import re\n",
        "import os\n",
        "def twitter_hashtag(api_key, api_key_secret, access_token, access_token_secret, hashtag):\n",
        "    \n",
        "    auth = tweepy.OAuthHandler(api_key, api_key_secret)\n",
        "    auth.set_access_token(access_token, access_token_secret)\n",
        "\n",
        "    api = tweepy.API(auth,wait_on_rate_limit=True)\n",
        "    \n",
        "    file_name = '_'.join(re.findall(r\"#(\\w+)\", hashtag))\n",
        "\n",
        "    with open('%s.csv' % (file_name), 'w') as file:\n",
        "\n",
        "        w = csv.writer(file)\n",
        "\n",
        "        w.writerow(['created', 'user_location', 'tweet_text', 'username', 'all_hashtags'])\n",
        "\n",
        "        for tweet in tweepy.Cursor(api.search, q=hashtag+' -filter:retweets', lang=\"en\", tweet_mode='extended').items(1000):\n",
        "            w.writerow([tweet.created_at, tweet.full_text.replace('\\n',' ').encode('utf-8'), tweet.user.screen_name.encode('utf-8'),[e['text'] for e in tweet._json['entities']['hashtags']]])\n",
        "            \n",
        "\n",
        "\n",
        "api_key = input('Please give twitter api key')\n",
        "api_key_secret = input('Please give twitter api key secret')\n",
        "access_token = input('Please give twitter access token')\n",
        "access_token_secret = input('Please give twitter access token secret')\n",
        "    \n",
        "hashtag = input('enter the hashtag')\n",
        "\n",
        "twitter_hashtag(api_key, api_key_secret, access_token, access_token_secret, hashtag)\n",
        "\n"
      ],
      "execution_count": null,
      "outputs": [
        {
          "output_type": "stream",
          "text": [
            "Please give twitter api keyePjdnPqsmA5Mgjewf5i5Vtnuw\n",
            "Please give twitter api key secretV83Stor4JRihnxggUa9OODxIrAc8EHmQdJxlnpxAGZXjqbJA7v\n",
            "Please give twitter access token1287853629869821952-ZsnNF12Y53o5JfCOUBPn72lO0OJau1\n",
            "Please give twitter access token secretTSYcER5dl5L72dcbpo8f0LzQqfn6qX3r2n1QsLpOGxRAz\n",
            "enter the hashtag#IPL2020\n"
          ],
          "name": "stdout"
        }
      ]
    },
    {
      "cell_type": "code",
      "metadata": {
        "id": "X3vnZxYQU5d9",
        "colab": {
          "base_uri": "https://localhost:8080/",
          "height": 289
        },
        "outputId": "8acd63c7-9858-4610-f7e1-e9a27fd1b487"
      },
      "source": [
        "#Saving the twitter data to a csv file\n",
        "import pandas as pd\n",
        "tweets=pd.read_csv('/content/sample_data/IPL2020_final.csv')\n",
        "tweets.head()"
      ],
      "execution_count": 122,
      "outputs": [
        {
          "output_type": "execute_result",
          "data": {
            "text/html": [
              "<div>\n",
              "<style scoped>\n",
              "    .dataframe tbody tr th:only-of-type {\n",
              "        vertical-align: middle;\n",
              "    }\n",
              "\n",
              "    .dataframe tbody tr th {\n",
              "        vertical-align: top;\n",
              "    }\n",
              "\n",
              "    .dataframe thead th {\n",
              "        text-align: right;\n",
              "    }\n",
              "</style>\n",
              "<table border=\"1\" class=\"dataframe\">\n",
              "  <thead>\n",
              "    <tr style=\"text-align: right;\">\n",
              "      <th></th>\n",
              "      <th>created</th>\n",
              "      <th>user_location</th>\n",
              "      <th>tweet_text</th>\n",
              "      <th>username</th>\n",
              "      <th>all_hashtags</th>\n",
              "    </tr>\n",
              "  </thead>\n",
              "  <tbody>\n",
              "    <tr>\n",
              "      <th>0</th>\n",
              "      <td>11/9/2020 4:49</td>\n",
              "      <td>Gotham City</td>\n",
              "      <td>b'Look at #SRH youngster Priyam Garg after Kan...</td>\n",
              "      <td>b'SteadyTheShip'</td>\n",
              "      <td>['SRH', 'SRHvDC', 'DCvSRH', 'IPL2020']</td>\n",
              "    </tr>\n",
              "    <tr>\n",
              "      <th>1</th>\n",
              "      <td>11/9/2020 4:49</td>\n",
              "      <td>Bengaluru South, India</td>\n",
              "      <td>b'This is Mr.360\\xc2\\xb0 @ABdeVilliers17 . Mos...</td>\n",
              "      <td>b'imsapien'</td>\n",
              "      <td>['Cricket', 'IPL2020', 'Eliminater', 'IPLQuali...</td>\n",
              "    </tr>\n",
              "    <tr>\n",
              "      <th>2</th>\n",
              "      <td>11/9/2020 4:48</td>\n",
              "      <td>Chennai, India</td>\n",
              "      <td>b\"Great things happen to those who don't stop ...</td>\n",
              "      <td>b'CricketGirl_45'</td>\n",
              "      <td>['RohitSharma', 'MumbaiIndians', 'IPL2020', 'I...</td>\n",
              "    </tr>\n",
              "    <tr>\n",
              "      <th>3</th>\n",
              "      <td>11/9/2020 4:48</td>\n",
              "      <td>Chennai, India</td>\n",
              "      <td>b'T Natarajan made a mark with his yorkers in ...</td>\n",
              "      <td>b'ESPNcricinfo'</td>\n",
              "      <td>['IPL2020']</td>\n",
              "    </tr>\n",
              "    <tr>\n",
              "      <th>4</th>\n",
              "      <td>11/9/2020 4:47</td>\n",
              "      <td>Kerala, India</td>\n",
              "      <td>b'#IPL2020 Final: Marcus Stoinis warning to @m...</td>\n",
              "      <td>b'InsideSportIND'</td>\n",
              "      <td>['IPL2020', 'iplseason13', 'IPLfinal', 'Mumbai...</td>\n",
              "    </tr>\n",
              "  </tbody>\n",
              "</table>\n",
              "</div>"
            ],
            "text/plain": [
              "          created  ...                                       all_hashtags\n",
              "0  11/9/2020 4:49  ...             ['SRH', 'SRHvDC', 'DCvSRH', 'IPL2020']\n",
              "1  11/9/2020 4:49  ...  ['Cricket', 'IPL2020', 'Eliminater', 'IPLQuali...\n",
              "2  11/9/2020 4:48  ...  ['RohitSharma', 'MumbaiIndians', 'IPL2020', 'I...\n",
              "3  11/9/2020 4:48  ...                                        ['IPL2020']\n",
              "4  11/9/2020 4:47  ...  ['IPL2020', 'iplseason13', 'IPLfinal', 'Mumbai...\n",
              "\n",
              "[5 rows x 5 columns]"
            ]
          },
          "metadata": {
            "tags": []
          },
          "execution_count": 122
        }
      ]
    },
    {
      "cell_type": "code",
      "metadata": {
        "id": "ftm2a5e-2CZD"
      },
      "source": [
        "import pandas as pd\n",
        "import numpy as np\n",
        "import sklearn\n",
        "from scipy import stats\n",
        "import matplotlib.pyplot as plt\n",
        "import os\n",
        "import seaborn as sns\n"
      ],
      "execution_count": 123,
      "outputs": []
    },
    {
      "cell_type": "code",
      "metadata": {
        "colab": {
          "base_uri": "https://localhost:8080/",
          "height": 295
        },
        "id": "tVdnYEeY2Hmb",
        "outputId": "dd3c171a-4c9b-4b18-b68a-aa8bffca3ef1"
      },
      "source": [
        "ds = tweets['user_location'].value_counts().reset_index()\n",
        "ds.columns = ['user_location', 'count']\n",
        "ds = ds[ds['user_location']!='NA']\n",
        "ds = ds.sort_values(['count'],ascending=False)\n",
        "\n",
        "fig = sns.barplot(\n",
        "    \n",
        "    x=ds.head(20)[\"count\"], \n",
        "    y=ds.head(20)[\"user_location\"], \n",
        "    orientation='horizontal'\n",
        ").set_title('Top 20 user locations by number of tweets')"
      ],
      "execution_count": 124,
      "outputs": [
        {
          "output_type": "display_data",
          "data": {
            "image/png": "[encoded data removed]",
            "text/plain": [
              "<Figure size 432x288 with 1 Axes>"
            ]
          },
          "metadata": {
            "tags": [],
            "needs_background": "light"
          }
        }
      ]
    },
    {
      "cell_type": "code",
      "metadata": {
        "colab": {
          "base_uri": "https://localhost:8080/",
          "height": 617
        },
        "id": "8e5eRPfd2YAR",
        "outputId": "a52ff361-7977-4a12-a98e-a01e910ba663"
      },
      "source": [
        "from plotly.offline import init_notebook_mode, iplot\n",
        "import matplotlib.pyplot as plt\n",
        "import plotly.express as px\n",
        "import plotly.graph_objects as go\n",
        "import plotly.figure_factory as ff\n",
        "from plotly.colors import n_colors\n",
        "from plotly.subplots import make_subplots\n",
        "def pie_count(data, field, percent_limit, title):\n",
        "    \n",
        "    data[field] = data[field].fillna('NA')\n",
        "    data = data[field].value_counts().to_frame()\n",
        "\n",
        "    total = data[field].sum()\n",
        "    data['percentage'] = 100 * data[field]/total    \n",
        "\n",
        "    percent_limit = percent_limit\n",
        "    otherdata = data[data['percentage'] < percent_limit] \n",
        "    others = otherdata['percentage'].sum()  \n",
        "    maindata = data[data['percentage'] >= percent_limit]\n",
        "\n",
        "    data = maindata\n",
        "    #other_label = \"Others(<\" + str(percent_limit) + \"% each)\"\n",
        "    #data.loc[other_label] = pd.Series({field:otherdata[field].sum()}) \n",
        "    \n",
        "    labels = data.index.tolist()   \n",
        "    datavals = data[field].tolist()\n",
        "    \n",
        "    trace=go.Pie(labels=labels,values=datavals)\n",
        "    \n",
        "    layout = go.Layout(\n",
        "        title = title,\n",
        "        height=600,\n",
        "        width=600\n",
        "        )\n",
        "    \n",
        "    fig = go.Figure(data=[trace], layout=layout)\n",
        "    iplot(fig)\n",
        "    \n",
        "pie_count(tweets, 'user_location', 0.5, 'Number of tweets per location')"
      ],
      "execution_count": 125,
      "outputs": [
        {
          "output_type": "display_data",
          "data": {
            "text/html": [
              "<html>\n",
              "<head><meta charset=\"utf-8\" /></head>\n",
              "<body>\n",
              "    <div>\n",
              "            <script src=\"https://cdnjs.cloudflare.com/ajax/libs/mathjax/2.7.5/MathJax.js?config=TeX-AMS-MML_SVG\"></script><script type=\"text/javascript\">if (window.MathJax) {MathJax.Hub.Config({SVG: {font: \"STIX-Web\"}});}</script>\n",
              "                <script type=\"text/javascript\">window.PlotlyConfig = {MathJaxConfig: 'local'};</script>\n",
              "        <script src=\"https://cdn.plot.ly/plotly-latest.min.js\"></script>    \n",
              "            <div id=\"3ab1ef01-1c2a-4bdb-9530-339b4979c056\" class=\"plotly-graph-div\" style=\"height:600px; width:600px;\"></div>\n",
              "            <script type=\"text/javascript\">\n",
              "                \n",
              "                    window.PLOTLYENV=window.PLOTLYENV || {};\n",
              "                    \n",
              "                if (document.getElementById(\"3ab1ef01-1c2a-4bdb-9530-339b4979c056\")) {\n",
              "                    Plotly.newPlot(\n",
              "                        '3ab1ef01-1c2a-4bdb-9530-339b4979c056',\n",
              "                        [{\"labels\": [\"NA\", \"India\", \"New Delhi, India\", \"Chennai, India\", \"Mumbai, India\", \"Mumbai\", \"Saket, New Delhi\", \"Bengaluru, India\", \"Hyderabad, India\", \"Tamil Nadu, India\", \"New Delhi\", \"Kolkata\", \"Ahmadabad City, India\", \"Pune, India\", \"Sri Lanka\"], \"type\": \"pie\", \"values\": [413, 78, 64, 30, 19, 15, 14, 13, 10, 8, 6, 6, 5, 5, 5]}],\n",
              "                        {\"height\": 600, \"template\": {\"data\": {\"bar\": [{\"error_x\": {\"color\": \"#2a3f5f\"}, \"error_y\": {\"color\": \"#2a3f5f\"}, \"marker\": {\"line\": {\"color\": \"#E5ECF6\", \"width\": 0.5}}, \"type\": \"bar\"}], \"barpolar\": [{\"marker\": {\"line\": {\"color\": \"#E5ECF6\", \"width\": 0.5}}, \"type\": \"barpolar\"}], \"carpet\": [{\"aaxis\": {\"endlinecolor\": \"#2a3f5f\", \"gridcolor\": \"white\", \"linecolor\": \"white\", \"minorgridcolor\": \"white\", \"startlinecolor\": \"#2a3f5f\"}, \"baxis\": {\"endlinecolor\": \"#2a3f5f\", \"gridcolor\": \"white\", \"linecolor\": \"white\", \"minorgridcolor\": \"white\", \"startlinecolor\": \"#2a3f5f\"}, \"type\": \"carpet\"}], \"choropleth\": [{\"colorbar\": {\"outlinewidth\": 0, \"ticks\": \"\"}, \"type\": \"choropleth\"}], \"contour\": [{\"colorbar\": {\"outlinewidth\": 0, \"ticks\": \"\"}, \"colorscale\": [[0.0, \"#0d0887\"], [0.1111111111111111, \"#46039f\"], [0.2222222222222222, \"#7201a8\"], [0.3333333333333333, \"#9c179e\"], [0.4444444444444444, \"#bd3786\"], [0.5555555555555556, \"#d8576b\"], [0.6666666666666666, \"#ed7953\"], [0.7777777777777778, \"#fb9f3a\"], [0.8888888888888888, \"#fdca26\"], [1.0, \"#f0f921\"]], \"type\": \"contour\"}], \"contourcarpet\": [{\"colorbar\": {\"outlinewidth\": 0, \"ticks\": \"\"}, \"type\": \"contourcarpet\"}], \"heatmap\": [{\"colorbar\": {\"outlinewidth\": 0, \"ticks\": \"\"}, \"colorscale\": [[0.0, \"#0d0887\"], [0.1111111111111111, \"#46039f\"], [0.2222222222222222, \"#7201a8\"], [0.3333333333333333, \"#9c179e\"], [0.4444444444444444, \"#bd3786\"], [0.5555555555555556, \"#d8576b\"], [0.6666666666666666, \"#ed7953\"], [0.7777777777777778, \"#fb9f3a\"], [0.8888888888888888, \"#fdca26\"], [1.0, \"#f0f921\"]], \"type\": \"heatmap\"}], \"heatmapgl\": [{\"colorbar\": {\"outlinewidth\": 0, \"ticks\": \"\"}, \"colorscale\": [[0.0, \"#0d0887\"], [0.1111111111111111, \"#46039f\"], [0.2222222222222222, \"#7201a8\"], [0.3333333333333333, \"#9c179e\"], [0.4444444444444444, \"#bd3786\"], [0.5555555555555556, \"#d8576b\"], [0.6666666666666666, \"#ed7953\"], [0.7777777777777778, \"#fb9f3a\"], [0.8888888888888888, \"#fdca26\"], [1.0, \"#f0f921\"]], \"type\": \"heatmapgl\"}], \"histogram\": [{\"marker\": {\"colorbar\": {\"outlinewidth\": 0, \"ticks\": \"\"}}, \"type\": \"histogram\"}], \"histogram2d\": [{\"colorbar\": {\"outlinewidth\": 0, \"ticks\": \"\"}, \"colorscale\": [[0.0, \"#0d0887\"], [0.1111111111111111, \"#46039f\"], [0.2222222222222222, \"#7201a8\"], [0.3333333333333333, \"#9c179e\"], [0.4444444444444444, \"#bd3786\"], [0.5555555555555556, \"#d8576b\"], [0.6666666666666666, \"#ed7953\"], [0.7777777777777778, \"#fb9f3a\"], [0.8888888888888888, \"#fdca26\"], [1.0, \"#f0f921\"]], \"type\": \"histogram2d\"}], \"histogram2dcontour\": [{\"colorbar\": {\"outlinewidth\": 0, \"ticks\": \"\"}, \"colorscale\": [[0.0, \"#0d0887\"], [0.1111111111111111, \"#46039f\"], [0.2222222222222222, \"#7201a8\"], [0.3333333333333333, \"#9c179e\"], [0.4444444444444444, \"#bd3786\"], [0.5555555555555556, \"#d8576b\"], [0.6666666666666666, \"#ed7953\"], [0.7777777777777778, \"#fb9f3a\"], [0.8888888888888888, \"#fdca26\"], [1.0, \"#f0f921\"]], \"type\": \"histogram2dcontour\"}], \"mesh3d\": [{\"colorbar\": {\"outlinewidth\": 0, \"ticks\": \"\"}, \"type\": \"mesh3d\"}], \"parcoords\": [{\"line\": {\"colorbar\": {\"outlinewidth\": 0, \"ticks\": \"\"}}, \"type\": \"parcoords\"}], \"pie\": [{\"automargin\": true, \"type\": \"pie\"}], \"scatter\": [{\"marker\": {\"colorbar\": {\"outlinewidth\": 0, \"ticks\": \"\"}}, \"type\": \"scatter\"}], \"scatter3d\": [{\"line\": {\"colorbar\": {\"outlinewidth\": 0, \"ticks\": \"\"}}, \"marker\": {\"colorbar\": {\"outlinewidth\": 0, \"ticks\": \"\"}}, \"type\": \"scatter3d\"}], \"scattercarpet\": [{\"marker\": {\"colorbar\": {\"outlinewidth\": 0, \"ticks\": \"\"}}, \"type\": \"scattercarpet\"}], \"scattergeo\": [{\"marker\": {\"colorbar\": {\"outlinewidth\": 0, \"ticks\": \"\"}}, \"type\": \"scattergeo\"}], \"scattergl\": [{\"marker\": {\"colorbar\": {\"outlinewidth\": 0, \"ticks\": \"\"}}, \"type\": \"scattergl\"}], \"scattermapbox\": [{\"marker\": {\"colorbar\": {\"outlinewidth\": 0, \"ticks\": \"\"}}, \"type\": \"scattermapbox\"}], \"scatterpolar\": [{\"marker\": {\"colorbar\": {\"outlinewidth\": 0, \"ticks\": \"\"}}, \"type\": \"scatterpolar\"}], \"scatterpolargl\": [{\"marker\": {\"colorbar\": {\"outlinewidth\": 0, \"ticks\": \"\"}}, \"type\": \"scatterpolargl\"}], \"scatterternary\": [{\"marker\": {\"colorbar\": {\"outlinewidth\": 0, \"ticks\": \"\"}}, \"type\": \"scatterternary\"}], \"surface\": [{\"colorbar\": {\"outlinewidth\": 0, \"ticks\": \"\"}, \"colorscale\": [[0.0, \"#0d0887\"], [0.1111111111111111, \"#46039f\"], [0.2222222222222222, \"#7201a8\"], [0.3333333333333333, \"#9c179e\"], [0.4444444444444444, \"#bd3786\"], [0.5555555555555556, \"#d8576b\"], [0.6666666666666666, \"#ed7953\"], [0.7777777777777778, \"#fb9f3a\"], [0.8888888888888888, \"#fdca26\"], [1.0, \"#f0f921\"]], \"type\": \"surface\"}], \"table\": [{\"cells\": {\"fill\": {\"color\": \"#EBF0F8\"}, \"line\": {\"color\": \"white\"}}, \"header\": {\"fill\": {\"color\": \"#C8D4E3\"}, \"line\": {\"color\": \"white\"}}, \"type\": \"table\"}]}, \"layout\": {\"annotationdefaults\": {\"arrowcolor\": \"#2a3f5f\", \"arrowhead\": 0, \"arrowwidth\": 1}, \"coloraxis\": {\"colorbar\": {\"outlinewidth\": 0, \"ticks\": \"\"}}, \"colorscale\": {\"diverging\": [[0, \"#8e0152\"], [0.1, \"#c51b7d\"], [0.2, \"#de77ae\"], [0.3, \"#f1b6da\"], [0.4, \"#fde0ef\"], [0.5, \"#f7f7f7\"], [0.6, \"#e6f5d0\"], [0.7, \"#b8e186\"], [0.8, \"#7fbc41\"], [0.9, \"#4d9221\"], [1, \"#276419\"]], \"sequential\": [[0.0, \"#0d0887\"], [0.1111111111111111, \"#46039f\"], [0.2222222222222222, \"#7201a8\"], [0.3333333333333333, \"#9c179e\"], [0.4444444444444444, \"#bd3786\"], [0.5555555555555556, \"#d8576b\"], [0.6666666666666666, \"#ed7953\"], [0.7777777777777778, \"#fb9f3a\"], [0.8888888888888888, \"#fdca26\"], [1.0, \"#f0f921\"]], \"sequentialminus\": [[0.0, \"#0d0887\"], [0.1111111111111111, \"#46039f\"], [0.2222222222222222, \"#7201a8\"], [0.3333333333333333, \"#9c179e\"], [0.4444444444444444, \"#bd3786\"], [0.5555555555555556, \"#d8576b\"], [0.6666666666666666, \"#ed7953\"], [0.7777777777777778, \"#fb9f3a\"], [0.8888888888888888, \"#fdca26\"], [1.0, \"#f0f921\"]]}, \"colorway\": [\"#636efa\", \"#EF553B\", \"#00cc96\", \"#ab63fa\", \"#FFA15A\", \"#19d3f3\", \"#FF6692\", \"#B6E880\", \"#FF97FF\", \"#FECB52\"], \"font\": {\"color\": \"#2a3f5f\"}, \"geo\": {\"bgcolor\": \"white\", \"lakecolor\": \"white\", \"landcolor\": \"#E5ECF6\", \"showlakes\": true, \"showland\": true, \"subunitcolor\": \"white\"}, \"hoverlabel\": {\"align\": \"left\"}, \"hovermode\": \"closest\", \"mapbox\": {\"style\": \"light\"}, \"paper_bgcolor\": \"white\", \"plot_bgcolor\": \"#E5ECF6\", \"polar\": {\"angularaxis\": {\"gridcolor\": \"white\", \"linecolor\": \"white\", \"ticks\": \"\"}, \"bgcolor\": \"#E5ECF6\", \"radialaxis\": {\"gridcolor\": \"white\", \"linecolor\": \"white\", \"ticks\": \"\"}}, \"scene\": {\"xaxis\": {\"backgroundcolor\": \"#E5ECF6\", \"gridcolor\": \"white\", \"gridwidth\": 2, \"linecolor\": \"white\", \"showbackground\": true, \"ticks\": \"\", \"zerolinecolor\": \"white\"}, \"yaxis\": {\"backgroundcolor\": \"#E5ECF6\", \"gridcolor\": \"white\", \"gridwidth\": 2, \"linecolor\": \"white\", \"showbackground\": true, \"ticks\": \"\", \"zerolinecolor\": \"white\"}, \"zaxis\": {\"backgroundcolor\": \"#E5ECF6\", \"gridcolor\": \"white\", \"gridwidth\": 2, \"linecolor\": \"white\", \"showbackground\": true, \"ticks\": \"\", \"zerolinecolor\": \"white\"}}, \"shapedefaults\": {\"line\": {\"color\": \"#2a3f5f\"}}, \"ternary\": {\"aaxis\": {\"gridcolor\": \"white\", \"linecolor\": \"white\", \"ticks\": \"\"}, \"baxis\": {\"gridcolor\": \"white\", \"linecolor\": \"white\", \"ticks\": \"\"}, \"bgcolor\": \"#E5ECF6\", \"caxis\": {\"gridcolor\": \"white\", \"linecolor\": \"white\", \"ticks\": \"\"}}, \"title\": {\"x\": 0.05}, \"xaxis\": {\"automargin\": true, \"gridcolor\": \"white\", \"linecolor\": \"white\", \"ticks\": \"\", \"title\": {\"standoff\": 15}, \"zerolinecolor\": \"white\", \"zerolinewidth\": 2}, \"yaxis\": {\"automargin\": true, \"gridcolor\": \"white\", \"linecolor\": \"white\", \"ticks\": \"\", \"title\": {\"standoff\": 15}, \"zerolinecolor\": \"white\", \"zerolinewidth\": 2}}}, \"title\": {\"text\": \"Number of tweets per location\"}, \"width\": 600},\n",
              "                        {\"responsive\": true}\n",
              "                    ).then(function(){\n",
              "                            \n",
              "var gd = document.getElementById('3ab1ef01-1c2a-4bdb-9530-339b4979c056');\n",
              "var x = new MutationObserver(function (mutations, observer) {{\n",
              "        var display = window.getComputedStyle(gd).display;\n",
              "        if (!display || display === 'none') {{\n",
              "            console.log([gd, 'removed!']);\n",
              "            Plotly.purge(gd);\n",
              "            observer.disconnect();\n",
              "        }}\n",
              "}});\n",
              "\n",
              "// Listen for the removal of the full notebook cells\n",
              "var notebookContainer = gd.closest('#notebook-container');\n",
              "if (notebookContainer) {{\n",
              "    x.observe(notebookContainer, {childList: true});\n",
              "}}\n",
              "\n",
              "// Listen for the clearing of the current output cell\n",
              "var outputEl = gd.closest('.output');\n",
              "if (outputEl) {{\n",
              "    x.observe(outputEl, {childList: true});\n",
              "}}\n",
              "\n",
              "                        })\n",
              "                };\n",
              "                \n",
              "            </script>\n",
              "        </div>\n",
              "</body>\n",
              "</html>"
            ]
          },
          "metadata": {
            "tags": []
          }
        }
      ]
    },
    {
      "cell_type": "code",
      "metadata": {
        "colab": {
          "base_uri": "https://localhost:8080/",
          "height": 295
        },
        "id": "bPJDfPEU2bty",
        "outputId": "b6097349-1bca-4994-e4a4-a265af1cf3d1"
      },
      "source": [
        "ds = tweets['all_hashtags'].value_counts().reset_index()\n",
        "ds.columns = ['all_hashtags', 'count']\n",
        "ds = ds.sort_values(['count'],ascending=False)\n",
        "fig = sns.barplot(\n",
        "    x=ds.head(10)[\"count\"], \n",
        "    y=ds.head(10)['all_hashtags'], \n",
        "    orientation='horizontal', \n",
        "    #title='Top 20 hashtags', \n",
        "    #width=800, \n",
        "    #height=700\n",
        ").set_title('Top 10 hashtags')"
      ],
      "execution_count": 126,
      "outputs": [
        {
          "output_type": "display_data",
          "data": {
            "image/png": "[encoded data removed]",
            "text/plain": [
              "<Figure size 432x288 with 1 Axes>"
            ]
          },
          "metadata": {
            "tags": [],
            "needs_background": "light"
          }
        }
      ]
    },
    {
      "cell_type": "code",
      "metadata": {
        "id": "hJpkDEYoQeRW"
      },
      "source": [
        "#Functions to clean Tweets\n",
        "\n",
        "def remove_tag(string):\n",
        "    tweet_text=re.sub('<.*?>','',string)\n",
        "    return tweet_text\n",
        "def remove_mention(tweet_text):\n",
        "    line=re.sub(r'@\\w+','',tweet_text)\n",
        "    return line\n",
        "def remove_hash(tweet_text):\n",
        "    line=re.sub(r'#\\w+','',tweet_text)\n",
        "    return line\n",
        "\n",
        "def remove_newline(string):\n",
        "    tweet_text=re.sub('\\n','',string)\n",
        "    return tweet_text\n",
        "def remove_url(string): \n",
        "    tweet_text = re.sub('http[s]?://(?:[a-zA-Z]|[0-9]|[$-_@.&+]|[!*\\(\\),]|(?:%[0-9a-fA-F][0-9a-fA-F]))+','',string)\n",
        "    return tweet_text\n",
        "def remove_number(tweet_text):\n",
        "    line=re.sub(r'[0-9]+','',tweet_text)\n",
        "    return line\n",
        "def remove_punct(tweet_text):\n",
        "    line = re.sub(r'[!\"\\$%&\\'()*+,\\-.\\/:;=#@?\\[\\\\\\]^_`{|}~]*','',tweet_text)\n",
        "    return line\n",
        "def text_strip(string):\n",
        "    line=re.sub('\\s{2,}', ' ', string.strip())\n",
        "    return line\n",
        "\n"
      ],
      "execution_count": 127,
      "outputs": []
    },
    {
      "cell_type": "code",
      "metadata": {
        "id": "EbyPFD1m-dQd",
        "colab": {
          "base_uri": "https://localhost:8080/"
        },
        "outputId": "72663009-33f6-44ba-86ea-f0a84a5c5bca"
      },
      "source": [
        "!pip install nltk #installing NLTK Package"
      ],
      "execution_count": 128,
      "outputs": [
        {
          "output_type": "stream",
          "text": [
            "Requirement already satisfied: nltk in /usr/local/lib/python3.6/dist-packages (3.2.5)\n",
            "Requirement already satisfied: six in /usr/local/lib/python3.6/dist-packages (from nltk) (1.15.0)\n"
          ],
          "name": "stdout"
        }
      ]
    },
    {
      "cell_type": "code",
      "metadata": {
        "id": "kiRzYjf2RCOf",
        "colab": {
          "base_uri": "https://localhost:8080/"
        },
        "outputId": "ba650b8c-0f7b-4c8d-bb78-6a612e99513f"
      },
      "source": [
        "#Clensing the tweets\n",
        "\n",
        "import nltk\n",
        "import json\n",
        "import csv\n",
        "import tweepy\n",
        "import re\n",
        "import os\n",
        "\n",
        "\n",
        "tweets['refine_text']=tweets['tweet_text'].str.lower()\n",
        "tweets['refine_text'] = tweets['refine_text'].str[2:]\n",
        "tweets['refine_text']=tweets['refine_text'].apply(lambda x:remove_tag(str(x)))\n",
        "tweets['refine_text']=tweets['refine_text'].apply(lambda x:remove_mention(str(x)))\n",
        "tweets['refine_text']=tweets['refine_text'].apply(lambda x:remove_hash(str(x)))\n",
        "tweets['refine_text']=tweets['refine_text'].apply(lambda x:remove_newline(x))\n",
        "tweets['refine_text']=tweets['refine_text'].apply(lambda x:remove_url(x))\n",
        "tweets['refine_text']=tweets['refine_text'].apply(lambda x:remove_number(x))\n",
        "tweets['refine_text']=tweets['refine_text'].apply(lambda x:remove_punct(x))\n",
        "\n",
        "tweets['refine_text']=tweets['refine_text'].apply(lambda x:text_strip(x))\n",
        "\n",
        "tweets['text_length']=tweets['refine_text'].str.split().map(lambda x: len(x))\n",
        "\n",
        "#Remove noise\n",
        "tweets['refine_text'] = tweets['refine_text'].str.replace('[^\\w\\s]','')\n",
        "\n",
        "\n",
        "#Remove stopwords\n",
        "nltk.download('stopwords')\n",
        "from nltk.corpus import stopwords\n",
        "stop = stopwords.words('english')\n",
        "stop.extend(['amp','r','j','v','u','xcxa','via','xexcx','th','ipl','final','v','from','xexcxxefxbxf','xfxfxaxa','xfxfxx','xfxfxcxb','xfxfxxf','xfxfxx', 'xfxfxxd','xfxfxxa','i','the','we','it', 'subject', 're', 'edu', 'use'])\n",
        "tweets['refine_text'] = tweets['refine_text'].apply(lambda x: \" \".join(x for x in x.split() if x not in stop))\n",
        "\n",
        "\n",
        "\n",
        "#stemming\n",
        "from nltk.stem import PorterStemmer\n",
        "st = PorterStemmer()\n",
        "tweets['refine_text'][:5].apply(lambda x: \" \".join([st.stem(word) for word in x.split()]))\n",
        "\n",
        "#lemmatization\n",
        "!pip install -U textblob\n",
        "from textblob import Word\n",
        "import nltk\n",
        "nltk.download('wordnet')\n",
        "\n",
        "tweets['refine_text'] = tweets['refine_text'].apply(lambda x: \" \".join([Word(word).lemmatize() for word in x.split()]))\n"
      ],
      "execution_count": 129,
      "outputs": [
        {
          "output_type": "stream",
          "text": [
            "[nltk_data] Downloading package stopwords to /root/nltk_data...\n",
            "[nltk_data]   Package stopwords is already up-to-date!\n",
            "Requirement already up-to-date: textblob in /usr/local/lib/python3.6/dist-packages (0.15.3)\n",
            "Requirement already satisfied, skipping upgrade: nltk>=3.1 in /usr/local/lib/python3.6/dist-packages (from textblob) (3.2.5)\n",
            "Requirement already satisfied, skipping upgrade: six in /usr/local/lib/python3.6/dist-packages (from nltk>=3.1->textblob) (1.15.0)\n",
            "[nltk_data] Downloading package wordnet to /root/nltk_data...\n",
            "[nltk_data]   Package wordnet is already up-to-date!\n"
          ],
          "name": "stdout"
        }
      ]
    },
    {
      "cell_type": "code",
      "metadata": {
        "colab": {
          "base_uri": "https://localhost:8080/"
        },
        "id": "NmvN8X6lEgeX",
        "outputId": "ed1f635b-ba5b-40a0-f9e4-49ecaea903a0"
      },
      "source": [
        "tweets['refine_text']"
      ],
      "execution_count": 130,
      "outputs": [
        {
          "output_type": "execute_result",
          "data": {
            "text/plain": [
              "0      look youngster priyam garg kane williamson mas...\n",
              "1                        mrxcxb dangerous animal cricket\n",
              "2      great thing happen dont stop believing trying ...\n",
              "3      natarajan made mark yorkers xfxfxxc see play t...\n",
              "4                           marcus stoinis warning check\n",
              "                             ...                        \n",
              "995    congratulation entering final first time keep ...\n",
              "996    well played ur fight back frm ending rd place ...\n",
              "997    shikhar dhawan would take another former team ...\n",
              "998    winning heart art kane williamson artistxexdxa...\n",
              "999         dilli tu roar macha xfxfxaxxfxfxx made first\n",
              "Name: refine_text, Length: 1000, dtype: object"
            ]
          },
          "metadata": {
            "tags": []
          },
          "execution_count": 130
        }
      ]
    },
    {
      "cell_type": "code",
      "metadata": {
        "id": "AuKl4G8DgAtD"
      },
      "source": [
        "#Saaving the clensed data to a new CSV file\n",
        "tweets.to_csv('clean_tweets.csv') "
      ],
      "execution_count": 131,
      "outputs": []
    },
    {
      "cell_type": "code",
      "metadata": {
        "id": "TVT96iN-nTOX"
      },
      "source": [
        "# importing pandas module  \n",
        "import pandas as pd \n",
        "  \n",
        "# importing module for regex \n",
        "import re \n",
        "# importing numpy module \n",
        "import numpy as np\n",
        "# importing P=mathplot lib\n",
        "import matplotlib.pyplot as plt\n",
        "# reading csv file from url  \n",
        "dat = pd.read_csv(\"/content/clean_tweets.csv\")\n",
        "selected_columns = dat[[\"refine_text\"]]\n",
        "data = selected_columns.copy()\n"
      ],
      "execution_count": 132,
      "outputs": []
    },
    {
      "cell_type": "code",
      "metadata": {
        "id": "NJAN6oDhnTRT"
      },
      "source": [
        "# count of occurrence of each team mentions and creating new column \n",
        "data[\"count1\"]= data[\"refine_text\"].str.count(\"csk\", re.I) \n",
        "data[\"count2\"]= data[\"refine_text\"].str.count( \"DC\", re.I) \n",
        "data[\"count3\"]= data[\"refine_text\"].str.count( \"KXIP\", re.I) \n",
        "data[\"count4\"]= data[\"refine_text\"].str.count( \"KKR\", re.I) \n",
        "data[\"count5\"]= data[\"refine_text\"].str.count( \"MI\", re.I) \n",
        "data[\"count6\"]= data[\"refine_text\"].str.count( \"RR\", re.I) \n",
        "data[\"count7\"]= data[\"refine_text\"].str.count( \"RCB\", re.I) \n",
        "data[\"count8\"]= data[\"refine_text\"].str.count( \"SRH\", re.I)"
      ],
      "execution_count": 133,
      "outputs": []
    },
    {
      "cell_type": "code",
      "metadata": {
        "id": "4jh3_upAnTUs"
      },
      "source": [
        "# count of occurrence of each team mention with their state name and creating new column \n",
        "data[\"count11\"]= data[\"refine_text\"].str.count(\"Chennai\", re.I) \n",
        "data[\"count22\"]= data[\"refine_text\"].str.count( \"Delhi\", re.I) \n",
        "data[\"count33\"]= data[\"refine_text\"].str.count( \"Punjab\", re.I) \n",
        "data[\"count44\"]= data[\"refine_text\"].str.count( \"Kolkata\", re.I) \n",
        "data[\"count55\"]= data[\"refine_text\"].str.count( \"Mumbai\", re.I) \n",
        "data[\"count66\"]= data[\"refine_text\"].str.count( \"Rajasthan\", re.I) \n",
        "data[\"count77\"]= data[\"refine_text\"].str.count( \"Bangalore\", re.I) \n",
        "data[\"count88\"]= data[\"refine_text\"].str.count( \"Hyderabad\", re.I)"
      ],
      "execution_count": 134,
      "outputs": []
    },
    {
      "cell_type": "code",
      "metadata": {
        "id": "qkInndSxnTXt"
      },
      "source": [
        "#aggrigating the total mentions\n",
        "data[\"csk\"] = data[\"count1\"] + data[\"count11\"]\n",
        "data[\"DC\"] = data[\"count2\"] + data[\"count22\"]\n",
        "data[\"KXIP\"]= data[\"count3\"] + data[\"count33\"]\n",
        "data[\"KKR\"]= data[\"count4\"] + data[\"count44\"]\n",
        "data[\"MI\"]= data[\"count5\"] + data[\"count55\"]\n",
        "data[\"RR\"]= data[\"count6\"] + data[\"count66\"]\n",
        "data[\"RCB\"]= data[\"count7\"] + data[\"count77\"]\n",
        "data[\"SRH\"]= data[\"count8\"] + data[\"count88\"]"
      ],
      "execution_count": 135,
      "outputs": []
    },
    {
      "cell_type": "code",
      "metadata": {
        "id": "xyfsV-NhALO4",
        "colab": {
          "base_uri": "https://localhost:8080/",
          "height": 1000
        },
        "outputId": "4c8638b3-35f5-4fb1-dc29-b66d930976dd"
      },
      "source": [
        "data"
      ],
      "execution_count": 136,
      "outputs": [
        {
          "output_type": "execute_result",
          "data": {
            "text/html": [
              "<div>\n",
              "<style scoped>\n",
              "    .dataframe tbody tr th:only-of-type {\n",
              "        vertical-align: middle;\n",
              "    }\n",
              "\n",
              "    .dataframe tbody tr th {\n",
              "        vertical-align: top;\n",
              "    }\n",
              "\n",
              "    .dataframe thead th {\n",
              "        text-align: right;\n",
              "    }\n",
              "</style>\n",
              "<table border=\"1\" class=\"dataframe\">\n",
              "  <thead>\n",
              "    <tr style=\"text-align: right;\">\n",
              "      <th></th>\n",
              "      <th>refine_text</th>\n",
              "      <th>count1</th>\n",
              "      <th>count2</th>\n",
              "      <th>count3</th>\n",
              "      <th>count4</th>\n",
              "      <th>count5</th>\n",
              "      <th>count6</th>\n",
              "      <th>count7</th>\n",
              "      <th>count8</th>\n",
              "      <th>count11</th>\n",
              "      <th>count22</th>\n",
              "      <th>count33</th>\n",
              "      <th>count44</th>\n",
              "      <th>count55</th>\n",
              "      <th>count66</th>\n",
              "      <th>count77</th>\n",
              "      <th>count88</th>\n",
              "      <th>csk</th>\n",
              "      <th>DC</th>\n",
              "      <th>KXIP</th>\n",
              "      <th>KKR</th>\n",
              "      <th>MI</th>\n",
              "      <th>RR</th>\n",
              "      <th>RCB</th>\n",
              "      <th>SRH</th>\n",
              "    </tr>\n",
              "  </thead>\n",
              "  <tbody>\n",
              "    <tr>\n",
              "      <th>0</th>\n",
              "      <td>look youngster priyam garg kane williamson mas...</td>\n",
              "      <td>0.0</td>\n",
              "      <td>0.0</td>\n",
              "      <td>0.0</td>\n",
              "      <td>0.0</td>\n",
              "      <td>0.0</td>\n",
              "      <td>0.0</td>\n",
              "      <td>0.0</td>\n",
              "      <td>0.0</td>\n",
              "      <td>0.0</td>\n",
              "      <td>0.0</td>\n",
              "      <td>0.0</td>\n",
              "      <td>0.0</td>\n",
              "      <td>0.0</td>\n",
              "      <td>0.0</td>\n",
              "      <td>0.0</td>\n",
              "      <td>0.0</td>\n",
              "      <td>0.0</td>\n",
              "      <td>0.0</td>\n",
              "      <td>0.0</td>\n",
              "      <td>0.0</td>\n",
              "      <td>0.0</td>\n",
              "      <td>0.0</td>\n",
              "      <td>0.0</td>\n",
              "      <td>0.0</td>\n",
              "    </tr>\n",
              "    <tr>\n",
              "      <th>1</th>\n",
              "      <td>mrxcxb dangerous animal cricket</td>\n",
              "      <td>0.0</td>\n",
              "      <td>0.0</td>\n",
              "      <td>0.0</td>\n",
              "      <td>0.0</td>\n",
              "      <td>0.0</td>\n",
              "      <td>0.0</td>\n",
              "      <td>0.0</td>\n",
              "      <td>0.0</td>\n",
              "      <td>0.0</td>\n",
              "      <td>0.0</td>\n",
              "      <td>0.0</td>\n",
              "      <td>0.0</td>\n",
              "      <td>0.0</td>\n",
              "      <td>0.0</td>\n",
              "      <td>0.0</td>\n",
              "      <td>0.0</td>\n",
              "      <td>0.0</td>\n",
              "      <td>0.0</td>\n",
              "      <td>0.0</td>\n",
              "      <td>0.0</td>\n",
              "      <td>0.0</td>\n",
              "      <td>0.0</td>\n",
              "      <td>0.0</td>\n",
              "      <td>0.0</td>\n",
              "    </tr>\n",
              "    <tr>\n",
              "      <th>2</th>\n",
              "      <td>great thing happen dont stop believing trying ...</td>\n",
              "      <td>0.0</td>\n",
              "      <td>0.0</td>\n",
              "      <td>0.0</td>\n",
              "      <td>0.0</td>\n",
              "      <td>0.0</td>\n",
              "      <td>0.0</td>\n",
              "      <td>0.0</td>\n",
              "      <td>0.0</td>\n",
              "      <td>0.0</td>\n",
              "      <td>0.0</td>\n",
              "      <td>0.0</td>\n",
              "      <td>0.0</td>\n",
              "      <td>0.0</td>\n",
              "      <td>0.0</td>\n",
              "      <td>0.0</td>\n",
              "      <td>0.0</td>\n",
              "      <td>0.0</td>\n",
              "      <td>0.0</td>\n",
              "      <td>0.0</td>\n",
              "      <td>0.0</td>\n",
              "      <td>0.0</td>\n",
              "      <td>0.0</td>\n",
              "      <td>0.0</td>\n",
              "      <td>0.0</td>\n",
              "    </tr>\n",
              "    <tr>\n",
              "      <th>3</th>\n",
              "      <td>natarajan made mark yorkers xfxfxxc see play t...</td>\n",
              "      <td>0.0</td>\n",
              "      <td>0.0</td>\n",
              "      <td>0.0</td>\n",
              "      <td>0.0</td>\n",
              "      <td>0.0</td>\n",
              "      <td>0.0</td>\n",
              "      <td>0.0</td>\n",
              "      <td>0.0</td>\n",
              "      <td>0.0</td>\n",
              "      <td>0.0</td>\n",
              "      <td>0.0</td>\n",
              "      <td>0.0</td>\n",
              "      <td>0.0</td>\n",
              "      <td>0.0</td>\n",
              "      <td>0.0</td>\n",
              "      <td>0.0</td>\n",
              "      <td>0.0</td>\n",
              "      <td>0.0</td>\n",
              "      <td>0.0</td>\n",
              "      <td>0.0</td>\n",
              "      <td>0.0</td>\n",
              "      <td>0.0</td>\n",
              "      <td>0.0</td>\n",
              "      <td>0.0</td>\n",
              "    </tr>\n",
              "    <tr>\n",
              "      <th>4</th>\n",
              "      <td>marcus stoinis warning check</td>\n",
              "      <td>0.0</td>\n",
              "      <td>0.0</td>\n",
              "      <td>0.0</td>\n",
              "      <td>0.0</td>\n",
              "      <td>0.0</td>\n",
              "      <td>0.0</td>\n",
              "      <td>0.0</td>\n",
              "      <td>0.0</td>\n",
              "      <td>0.0</td>\n",
              "      <td>0.0</td>\n",
              "      <td>0.0</td>\n",
              "      <td>0.0</td>\n",
              "      <td>0.0</td>\n",
              "      <td>0.0</td>\n",
              "      <td>0.0</td>\n",
              "      <td>0.0</td>\n",
              "      <td>0.0</td>\n",
              "      <td>0.0</td>\n",
              "      <td>0.0</td>\n",
              "      <td>0.0</td>\n",
              "      <td>0.0</td>\n",
              "      <td>0.0</td>\n",
              "      <td>0.0</td>\n",
              "      <td>0.0</td>\n",
              "    </tr>\n",
              "    <tr>\n",
              "      <th>...</th>\n",
              "      <td>...</td>\n",
              "      <td>...</td>\n",
              "      <td>...</td>\n",
              "      <td>...</td>\n",
              "      <td>...</td>\n",
              "      <td>...</td>\n",
              "      <td>...</td>\n",
              "      <td>...</td>\n",
              "      <td>...</td>\n",
              "      <td>...</td>\n",
              "      <td>...</td>\n",
              "      <td>...</td>\n",
              "      <td>...</td>\n",
              "      <td>...</td>\n",
              "      <td>...</td>\n",
              "      <td>...</td>\n",
              "      <td>...</td>\n",
              "      <td>...</td>\n",
              "      <td>...</td>\n",
              "      <td>...</td>\n",
              "      <td>...</td>\n",
              "      <td>...</td>\n",
              "      <td>...</td>\n",
              "      <td>...</td>\n",
              "      <td>...</td>\n",
              "    </tr>\n",
              "    <tr>\n",
              "      <th>995</th>\n",
              "      <td>congratulation entering final first time keep ...</td>\n",
              "      <td>0.0</td>\n",
              "      <td>0.0</td>\n",
              "      <td>0.0</td>\n",
              "      <td>0.0</td>\n",
              "      <td>0.0</td>\n",
              "      <td>0.0</td>\n",
              "      <td>0.0</td>\n",
              "      <td>0.0</td>\n",
              "      <td>0.0</td>\n",
              "      <td>0.0</td>\n",
              "      <td>0.0</td>\n",
              "      <td>0.0</td>\n",
              "      <td>0.0</td>\n",
              "      <td>0.0</td>\n",
              "      <td>0.0</td>\n",
              "      <td>0.0</td>\n",
              "      <td>0.0</td>\n",
              "      <td>0.0</td>\n",
              "      <td>0.0</td>\n",
              "      <td>0.0</td>\n",
              "      <td>0.0</td>\n",
              "      <td>0.0</td>\n",
              "      <td>0.0</td>\n",
              "      <td>0.0</td>\n",
              "    </tr>\n",
              "    <tr>\n",
              "      <th>996</th>\n",
              "      <td>well played ur fight back frm ending rd place ...</td>\n",
              "      <td>0.0</td>\n",
              "      <td>0.0</td>\n",
              "      <td>0.0</td>\n",
              "      <td>0.0</td>\n",
              "      <td>0.0</td>\n",
              "      <td>0.0</td>\n",
              "      <td>0.0</td>\n",
              "      <td>0.0</td>\n",
              "      <td>0.0</td>\n",
              "      <td>0.0</td>\n",
              "      <td>0.0</td>\n",
              "      <td>0.0</td>\n",
              "      <td>0.0</td>\n",
              "      <td>0.0</td>\n",
              "      <td>0.0</td>\n",
              "      <td>0.0</td>\n",
              "      <td>0.0</td>\n",
              "      <td>0.0</td>\n",
              "      <td>0.0</td>\n",
              "      <td>0.0</td>\n",
              "      <td>0.0</td>\n",
              "      <td>0.0</td>\n",
              "      <td>0.0</td>\n",
              "      <td>0.0</td>\n",
              "    </tr>\n",
              "    <tr>\n",
              "      <th>997</th>\n",
              "      <td>shikhar dhawan would take another former team ...</td>\n",
              "      <td>0.0</td>\n",
              "      <td>0.0</td>\n",
              "      <td>0.0</td>\n",
              "      <td>0.0</td>\n",
              "      <td>0.0</td>\n",
              "      <td>0.0</td>\n",
              "      <td>0.0</td>\n",
              "      <td>0.0</td>\n",
              "      <td>0.0</td>\n",
              "      <td>0.0</td>\n",
              "      <td>0.0</td>\n",
              "      <td>0.0</td>\n",
              "      <td>0.0</td>\n",
              "      <td>0.0</td>\n",
              "      <td>0.0</td>\n",
              "      <td>0.0</td>\n",
              "      <td>0.0</td>\n",
              "      <td>0.0</td>\n",
              "      <td>0.0</td>\n",
              "      <td>0.0</td>\n",
              "      <td>0.0</td>\n",
              "      <td>0.0</td>\n",
              "      <td>0.0</td>\n",
              "      <td>0.0</td>\n",
              "    </tr>\n",
              "    <tr>\n",
              "      <th>998</th>\n",
              "      <td>winning heart art kane williamson artistxexdxa...</td>\n",
              "      <td>0.0</td>\n",
              "      <td>0.0</td>\n",
              "      <td>0.0</td>\n",
              "      <td>0.0</td>\n",
              "      <td>0.0</td>\n",
              "      <td>0.0</td>\n",
              "      <td>0.0</td>\n",
              "      <td>0.0</td>\n",
              "      <td>0.0</td>\n",
              "      <td>0.0</td>\n",
              "      <td>0.0</td>\n",
              "      <td>0.0</td>\n",
              "      <td>0.0</td>\n",
              "      <td>0.0</td>\n",
              "      <td>0.0</td>\n",
              "      <td>0.0</td>\n",
              "      <td>0.0</td>\n",
              "      <td>0.0</td>\n",
              "      <td>0.0</td>\n",
              "      <td>0.0</td>\n",
              "      <td>0.0</td>\n",
              "      <td>0.0</td>\n",
              "      <td>0.0</td>\n",
              "      <td>0.0</td>\n",
              "    </tr>\n",
              "    <tr>\n",
              "      <th>999</th>\n",
              "      <td>dilli tu roar macha xfxfxaxxfxfxx made first</td>\n",
              "      <td>0.0</td>\n",
              "      <td>0.0</td>\n",
              "      <td>0.0</td>\n",
              "      <td>0.0</td>\n",
              "      <td>0.0</td>\n",
              "      <td>0.0</td>\n",
              "      <td>0.0</td>\n",
              "      <td>0.0</td>\n",
              "      <td>0.0</td>\n",
              "      <td>0.0</td>\n",
              "      <td>0.0</td>\n",
              "      <td>0.0</td>\n",
              "      <td>0.0</td>\n",
              "      <td>0.0</td>\n",
              "      <td>0.0</td>\n",
              "      <td>0.0</td>\n",
              "      <td>0.0</td>\n",
              "      <td>0.0</td>\n",
              "      <td>0.0</td>\n",
              "      <td>0.0</td>\n",
              "      <td>0.0</td>\n",
              "      <td>0.0</td>\n",
              "      <td>0.0</td>\n",
              "      <td>0.0</td>\n",
              "    </tr>\n",
              "  </tbody>\n",
              "</table>\n",
              "<p>1000 rows × 25 columns</p>\n",
              "</div>"
            ],
            "text/plain": [
              "                                           refine_text  count1  ...  RCB  SRH\n",
              "0    look youngster priyam garg kane williamson mas...     0.0  ...  0.0  0.0\n",
              "1                      mrxcxb dangerous animal cricket     0.0  ...  0.0  0.0\n",
              "2    great thing happen dont stop believing trying ...     0.0  ...  0.0  0.0\n",
              "3    natarajan made mark yorkers xfxfxxc see play t...     0.0  ...  0.0  0.0\n",
              "4                         marcus stoinis warning check     0.0  ...  0.0  0.0\n",
              "..                                                 ...     ...  ...  ...  ...\n",
              "995  congratulation entering final first time keep ...     0.0  ...  0.0  0.0\n",
              "996  well played ur fight back frm ending rd place ...     0.0  ...  0.0  0.0\n",
              "997  shikhar dhawan would take another former team ...     0.0  ...  0.0  0.0\n",
              "998  winning heart art kane williamson artistxexdxa...     0.0  ...  0.0  0.0\n",
              "999       dilli tu roar macha xfxfxaxxfxfxx made first     0.0  ...  0.0  0.0\n",
              "\n",
              "[1000 rows x 25 columns]"
            ]
          },
          "metadata": {
            "tags": []
          },
          "execution_count": 136
        }
      ]
    },
    {
      "cell_type": "code",
      "metadata": {
        "id": "6qGDUXwAnTbM"
      },
      "source": [
        "#dropping the previous count coloumns to clean the dataframe\n",
        "data1=data.drop(['count1', 'count11','count2','count22','count3','count33','count4','count44','count5','count55','count6','count66','count7','count77','count8','count88'], axis=1)"
      ],
      "execution_count": 137,
      "outputs": []
    },
    {
      "cell_type": "code",
      "metadata": {
        "id": "5MK641dMnxbd"
      },
      "source": [
        "#aggrigating the total mentions team wise and saving the results to a dictionary\n",
        "dict = data1.sum(axis = 0, skipna = True)"
      ],
      "execution_count": 138,
      "outputs": []
    },
    {
      "cell_type": "code",
      "metadata": {
        "id": "oObZVTkHnxeJ",
        "colab": {
          "base_uri": "https://localhost:8080/"
        },
        "outputId": "4776b796-50f1-44a0-b139-7faa4a6f9a2f"
      },
      "source": [
        "dict"
      ],
      "execution_count": 139,
      "outputs": [
        {
          "output_type": "execute_result",
          "data": {
            "text/plain": [
              "csk      53.0\n",
              "DC      261.0\n",
              "KXIP     23.0\n",
              "KKR      19.0\n",
              "MI      296.0\n",
              "RR       76.0\n",
              "RCB      69.0\n",
              "SRH      97.0\n",
              "dtype: float64"
            ]
          },
          "metadata": {
            "tags": []
          },
          "execution_count": 139
        }
      ]
    },
    {
      "cell_type": "code",
      "metadata": {
        "id": "k2H6xRznnxhw",
        "colab": {
          "base_uri": "https://localhost:8080/"
        },
        "outputId": "27ee36f4-5998-404f-8b81-174fa9ca5221"
      },
      "source": [
        "#saving the values to an array to use the results to plot\n",
        "y= dict.values\n",
        "#z =np.delete(y, 0, 0)\n",
        "y.tolist()\n"
      ],
      "execution_count": 140,
      "outputs": [
        {
          "output_type": "execute_result",
          "data": {
            "text/plain": [
              "[53.0, 261.0, 23.0, 19.0, 296.0, 76.0, 69.0, 97.0]"
            ]
          },
          "metadata": {
            "tags": []
          },
          "execution_count": 140
        }
      ]
    },
    {
      "cell_type": "code",
      "metadata": {
        "id": "-E6F4RPQoH9b",
        "colab": {
          "base_uri": "https://localhost:8080/",
          "height": 336
        },
        "outputId": "22f4de15-9f97-467c-809a-b67158859746"
      },
      "source": [
        "#plotting the results\n",
        "fig = plt.figure()\n",
        "ax = fig.add_axes([0,0,1,1])\n",
        "q = [\"CSK\" ,\"DC\",\"KXIP\", \"KKR\",\"MI\",\"RR\",\"RCB\",\"SRH\"]\n",
        "ax.bar(q,y)\n",
        "plt.show()"
      ],
      "execution_count": 141,
      "outputs": [
        {
          "output_type": "display_data",
          "data": {
            "image/png": "[encoded data removed]",
            "text/plain": [
              "<Figure size 432x288 with 1 Axes>"
            ]
          },
          "metadata": {
            "tags": [],
            "needs_background": "light"
          }
        }
      ]
    },
    {
      "cell_type": "code",
      "metadata": {
        "id": "RMETrzwHTFKW",
        "colab": {
          "base_uri": "https://localhost:8080/",
          "height": 511
        },
        "outputId": "4ac941c3-7fde-4d89-864a-9a4bc57f7f0d"
      },
      "source": [
        "#Importing the packages\n",
        "import pandas as pd\n",
        "import matplotlib.pyplot as plt\n",
        "from wordcloud import WordCloud\n",
        "from nltk.corpus import stopwords\n",
        "from textblob import TextBlob\n",
        "import numpy as np\n",
        "from nltk.sentiment.vader import SentimentIntensityAnalyzer\n",
        "import nltk\n",
        "nltk.download('stopwords')\n",
        "\n",
        "\n",
        "#Building a word cloud:\n",
        "words = pd.Series(tweets[\"refine_text\"].tolist()).astype(str)\n",
        "\n",
        "stop_words = [\"https\", \"co\", \"rt\"]\n",
        "stop = set(stopwords.words('english'))\n",
        "\n",
        "for i in range(0, len(words)):\n",
        "    words[i] = \" \".join([x for x in words[i].lower().split() if x not in stop_words])\n",
        "    words[i] = \" \".join([x for x in words[i].lower().split() if x not in stop])\n",
        "\n",
        "stop = set(stopwords.words('english'))    \n",
        "cloud = WordCloud(width=500, height=400,\n",
        "                  stopwords=(stop), \n",
        "                  colormap='hsv').generate(''.join(words.astype(str)))\n",
        "plt.figure(figsize=(10, 10))\n",
        "plt.imshow(cloud)\n",
        "plt.axis('off')\n",
        "plt.show()"
      ],
      "execution_count": 142,
      "outputs": [
        {
          "output_type": "stream",
          "text": [
            "[nltk_data] Downloading package stopwords to /root/nltk_data...\n",
            "[nltk_data]   Package stopwords is already up-to-date!\n"
          ],
          "name": "stdout"
        },
        {
          "output_type": "display_data",
          "data": {
            "image/png": "[encoded data removed]",
            "text/plain": [
              "<Figure size 720x720 with 1 Axes>"
            ]
          },
          "metadata": {
            "tags": [],
            "needs_background": "light"
          }
        }
      ]
    },
    {
      "cell_type": "code",
      "metadata": {
        "id": "x-t1-HYfaq3_"
      },
      "source": [
        "\n",
        "import numpy as np \n",
        "import pandas as pd \n",
        "import os\n",
        "import itertools\n",
        "\n",
        "#plots\n",
        "import matplotlib.pyplot as plt\n",
        "import plotly.express as px\n",
        "import plotly.graph_objects as go\n",
        "import plotly.figure_factory as ff\n",
        "from plotly.colors import n_colors\n",
        "from plotly.subplots import make_subplots\n",
        "\n",
        "from wordcloud import WordCloud, STOPWORDS, ImageColorGenerator\n",
        "from sklearn.feature_extraction.text import CountVectorizer\n",
        "\n",
        "from PIL import Image\n",
        "from nltk.corpus import stopwords\n",
        "stop=set(stopwords.words('english'))\n",
        "from nltk.util import ngrams\n",
        "\n",
        "\n",
        "\n",
        "def ngram_df(corpus,nrange,n=None):\n",
        "    vec = CountVectorizer(stop_words = 'english',ngram_range=nrange).fit(corpus)\n",
        "    bag_of_words = vec.transform(corpus)\n",
        "    sum_words = bag_of_words.sum(axis=0) \n",
        "    words_freq = [(word, sum_words[0, idx]) for word, idx in vec.vocabulary_.items()]\n",
        "    words_freq =sorted(words_freq, key = lambda x: x[1], reverse=True)\n",
        "    total_list=words_freq[:n]\n",
        "    df=pd.DataFrame(total_list,columns=['text','count'])\n",
        "    return df\n",
        "unigram_df=ngram_df(tweets['refine_text'],(1,1),20)\n",
        "bigram_df=ngram_df(tweets['refine_text'],(2,2),20)\n",
        "trigram_df=ngram_df(tweets['refine_text'],(3,3),20)"
      ],
      "execution_count": 143,
      "outputs": []
    },
    {
      "cell_type": "code",
      "metadata": {
        "id": "-dnRWhxwbhrM",
        "colab": {
          "base_uri": "https://localhost:8080/",
          "height": 1000
        },
        "outputId": "b59ea38b-f5e6-483e-92b7-c615668d716c"
      },
      "source": [
        "bigram_df=ngram_df(tweets['refine_text'],(2,2),20)\n",
        "trigram_df=ngram_df(tweets['refine_text'],(3,3),20)\n",
        "fig = make_subplots(\n",
        "    rows=3, cols=1,subplot_titles=(\"Unigram\",\"Bigram\",'Trigram'),\n",
        "    specs=[[{\"type\": \"scatter\"}],\n",
        "           [{\"type\": \"scatter\"}],\n",
        "           [{\"type\": \"scatter\"}]\n",
        "          ])\n",
        "\n",
        "fig.add_trace(go.Bar(\n",
        "    y=unigram_df['text'][::-1],\n",
        "    x=unigram_df['count'][::-1],\n",
        "    marker={'color': \"blue\"},  \n",
        "    text=unigram_df['count'],\n",
        "    textposition = \"outside\",\n",
        "    orientation=\"h\",\n",
        "    name=\"Months\",\n",
        "),row=1,col=1)\n",
        "\n",
        "fig.add_trace(go.Bar(\n",
        "    y=bigram_df['text'][::-1],\n",
        "    x=bigram_df['count'][::-1],\n",
        "    marker={'color': \"blue\"},  \n",
        "    text=bigram_df['count'],\n",
        "     name=\"Days\",\n",
        "    textposition = \"outside\",\n",
        "    orientation=\"h\",\n",
        "),row=2,col=1)\n",
        "\n",
        "fig.add_trace(go.Bar(\n",
        "    y=trigram_df['text'][::-1],\n",
        "    x=trigram_df['count'][::-1],\n",
        "    marker={'color': \"blue\"},  \n",
        "    text=trigram_df['count'],\n",
        "     name=\"Days\",\n",
        "    orientation=\"h\",\n",
        "    textposition = \"outside\",\n",
        "),row=3,col=1)\n",
        "\n",
        "fig.update_xaxes(showline=True, linewidth=2, linecolor='black', mirror=True)\n",
        "fig.update_yaxes(showline=True, linewidth=2, linecolor='black', mirror=True)\n",
        "fig.update_layout(title_text='Top N Grams',xaxis_title=\" \",yaxis_title=\" \",\n",
        "                  showlegend=False,title_x=0.5,height=1200,template=\"plotly_dark\")\n",
        "fig.show()"
      ],
      "execution_count": 144,
      "outputs": [
        {
          "output_type": "display_data",
          "data": {
            "text/html": [
              "<html>\n",
              "<head><meta charset=\"utf-8\" /></head>\n",
              "<body>\n",
              "    <div>\n",
              "            <script src=\"https://cdnjs.cloudflare.com/ajax/libs/mathjax/2.7.5/MathJax.js?config=TeX-AMS-MML_SVG\"></script><script type=\"text/javascript\">if (window.MathJax) {MathJax.Hub.Config({SVG: {font: \"STIX-Web\"}});}</script>\n",
              "                <script type=\"text/javascript\">window.PlotlyConfig = {MathJaxConfig: 'local'};</script>\n",
              "        <script src=\"https://cdn.plot.ly/plotly-latest.min.js\"></script>    \n",
              "            <div id=\"bba6ae5d-f6e0-42bf-9854-6a53d7343bf9\" class=\"plotly-graph-div\" style=\"height:1200px; width:100%;\"></div>\n",
              "            <script type=\"text/javascript\">\n",
              "                \n",
              "                    window.PLOTLYENV=window.PLOTLYENV || {};\n",
              "                    \n",
              "                if (document.getElementById(\"bba6ae5d-f6e0-42bf-9854-6a53d7343bf9\")) {\n",
              "                    Plotly.newPlot(\n",
              "                        'bba6ae5d-f6e0-42bf-9854-6a53d7343bf9',\n",
              "                        [{\"marker\": {\"color\": \"blue\"}, \"name\": \"Months\", \"orientation\": \"h\", \"text\": [165.0, 152.0, 141.0, 138.0, 111.0, 108.0, 98.0, 81.0, 78.0, 70.0, 69.0, 68.0, 66.0, 65.0, 60.0, 59.0, 59.0, 58.0, 57.0, 54.0], \"textposition\": \"outside\", \"type\": \"bar\", \"x\": [54, 57, 58, 59, 59, 60, 65, 66, 68, 69, 70, 78, 81, 98, 108, 111, 138, 141, 152, 165], \"xaxis\": \"x\", \"y\": [\"good\", \"best\", \"year\", \"run\", \"played\", \"player\", \"mumbai\", \"rcb\", \"season\", \"srh\", \"indian\", \"match\", \"capital\", \"mi\", \"time\", \"dc\", \"win\", \"delhi\", \"final\", \"team\"], \"yaxis\": \"y\"}, {\"marker\": {\"color\": \"blue\"}, \"name\": \"Days\", \"orientation\": \"h\", \"text\": [70.0, 43.0, 30.0, 20.0, 20.0, 16.0, 14.0, 13.0, 12.0, 11.0, 11.0, 11.0, 11.0, 10.0, 10.0, 10.0, 10.0, 9.0, 9.0, 9.0], \"textposition\": \"outside\", \"type\": \"bar\", \"x\": [9, 9, 9, 10, 10, 10, 10, 11, 11, 11, 11, 12, 13, 14, 16, 20, 20, 30, 43, 70], \"xaxis\": \"x2\", \"y\": [\"rcb kkr\", \"team csk\", \"stoinis hetmyer\", \"abdul samad\", \"purple cap\", \"kxip rr\", \"final csk\", \"csk mi\", \"final team\", \"indian win\", \"kl rahul\", \"sunrisers hyderabad\", \"shreyas iyer\", \"mi rcb\", \"mi dc\", \"rcb released\", \"marcus stoinis\", \"kane williamson\", \"mumbai indian\", \"delhi capital\"], \"yaxis\": \"y2\"}, {\"marker\": {\"color\": \"blue\"}, \"name\": \"Days\", \"orientation\": \"h\", \"text\": [11.0, 8.0, 8.0, 8.0, 8.0, 8.0, 8.0, 8.0, 8.0, 8.0, 8.0, 8.0, 8.0, 8.0, 7.0, 7.0, 7.0, 7.0, 6.0, 6.0], \"textposition\": \"outside\", \"type\": \"bar\", \"x\": [6, 6, 7, 7, 7, 7, 8, 8, 8, 8, 8, 8, 8, 8, 8, 8, 8, 8, 8, 11], \"xaxis\": \"x3\", \"y\": [\"final csk rcb\", \"watson final csk\", \"stoinis hetmyer final\", \"rcb released stoinis\", \"released watson final\", \"rcb released watson\", \"rr rps delhi\", \"kxip rr rps\", \"deccan kxip rr\", \"srh deccan kxip\", \"kkr srh deccan\", \"rcb kkr srh\", \"mi rcb kkr\", \"csk mi rcb\", \"team csk mi\", \"final team csk\", \"indian delhi capital\", \"mumbai indian delhi\", \"released stoinis hetmyer\", \"mumbai indian win\"], \"yaxis\": \"y3\"}],\n",
              "                        {\"annotations\": [{\"font\": {\"size\": 16}, \"showarrow\": false, \"text\": \"Unigram\", \"x\": 0.5, \"xanchor\": \"center\", \"xref\": \"paper\", \"y\": 1.0, \"yanchor\": \"bottom\", \"yref\": \"paper\"}, {\"font\": {\"size\": 16}, \"showarrow\": false, \"text\": \"Bigram\", \"x\": 0.5, \"xanchor\": \"center\", \"xref\": \"paper\", \"y\": 0.6111111111111112, \"yanchor\": \"bottom\", \"yref\": \"paper\"}, {\"font\": {\"size\": 16}, \"showarrow\": false, \"text\": \"Trigram\", \"x\": 0.5, \"xanchor\": \"center\", \"xref\": \"paper\", \"y\": 0.22222222222222224, \"yanchor\": \"bottom\", \"yref\": \"paper\"}], \"height\": 1200, \"showlegend\": false, \"template\": {\"data\": {\"bar\": [{\"error_x\": {\"color\": \"#f2f5fa\"}, \"error_y\": {\"color\": \"#f2f5fa\"}, \"marker\": {\"line\": {\"color\": \"rgb(17,17,17)\", \"width\": 0.5}}, \"type\": \"bar\"}], \"barpolar\": [{\"marker\": {\"line\": {\"color\": \"rgb(17,17,17)\", \"width\": 0.5}}, \"type\": \"barpolar\"}], \"carpet\": [{\"aaxis\": {\"endlinecolor\": \"#A2B1C6\", \"gridcolor\": \"#506784\", \"linecolor\": \"#506784\", \"minorgridcolor\": \"#506784\", \"startlinecolor\": \"#A2B1C6\"}, \"baxis\": {\"endlinecolor\": \"#A2B1C6\", \"gridcolor\": \"#506784\", \"linecolor\": \"#506784\", \"minorgridcolor\": \"#506784\", \"startlinecolor\": \"#A2B1C6\"}, \"type\": \"carpet\"}], \"choropleth\": [{\"colorbar\": {\"outlinewidth\": 0, \"ticks\": \"\"}, \"type\": \"choropleth\"}], \"contour\": [{\"colorbar\": {\"outlinewidth\": 0, \"ticks\": \"\"}, \"colorscale\": [[0.0, \"#0d0887\"], [0.1111111111111111, \"#46039f\"], [0.2222222222222222, \"#7201a8\"], [0.3333333333333333, \"#9c179e\"], [0.4444444444444444, \"#bd3786\"], [0.5555555555555556, \"#d8576b\"], [0.6666666666666666, \"#ed7953\"], [0.7777777777777778, \"#fb9f3a\"], [0.8888888888888888, \"#fdca26\"], [1.0, \"#f0f921\"]], \"type\": \"contour\"}], \"contourcarpet\": [{\"colorbar\": {\"outlinewidth\": 0, \"ticks\": \"\"}, \"type\": \"contourcarpet\"}], \"heatmap\": [{\"colorbar\": {\"outlinewidth\": 0, \"ticks\": \"\"}, \"colorscale\": [[0.0, \"#0d0887\"], [0.1111111111111111, \"#46039f\"], [0.2222222222222222, \"#7201a8\"], [0.3333333333333333, \"#9c179e\"], [0.4444444444444444, \"#bd3786\"], [0.5555555555555556, \"#d8576b\"], [0.6666666666666666, \"#ed7953\"], [0.7777777777777778, \"#fb9f3a\"], [0.8888888888888888, \"#fdca26\"], [1.0, \"#f0f921\"]], \"type\": \"heatmap\"}], \"heatmapgl\": [{\"colorbar\": {\"outlinewidth\": 0, \"ticks\": \"\"}, \"colorscale\": [[0.0, \"#0d0887\"], [0.1111111111111111, \"#46039f\"], [0.2222222222222222, \"#7201a8\"], [0.3333333333333333, \"#9c179e\"], [0.4444444444444444, \"#bd3786\"], [0.5555555555555556, \"#d8576b\"], [0.6666666666666666, \"#ed7953\"], [0.7777777777777778, \"#fb9f3a\"], [0.8888888888888888, \"#fdca26\"], [1.0, \"#f0f921\"]], \"type\": \"heatmapgl\"}], \"histogram\": [{\"marker\": {\"colorbar\": {\"outlinewidth\": 0, \"ticks\": \"\"}}, \"type\": \"histogram\"}], \"histogram2d\": [{\"colorbar\": {\"outlinewidth\": 0, \"ticks\": \"\"}, \"colorscale\": [[0.0, \"#0d0887\"], [0.1111111111111111, \"#46039f\"], [0.2222222222222222, \"#7201a8\"], [0.3333333333333333, \"#9c179e\"], [0.4444444444444444, \"#bd3786\"], [0.5555555555555556, \"#d8576b\"], [0.6666666666666666, \"#ed7953\"], [0.7777777777777778, \"#fb9f3a\"], [0.8888888888888888, \"#fdca26\"], [1.0, \"#f0f921\"]], \"type\": \"histogram2d\"}], \"histogram2dcontour\": [{\"colorbar\": {\"outlinewidth\": 0, \"ticks\": \"\"}, \"colorscale\": [[0.0, \"#0d0887\"], [0.1111111111111111, \"#46039f\"], [0.2222222222222222, \"#7201a8\"], [0.3333333333333333, \"#9c179e\"], [0.4444444444444444, \"#bd3786\"], [0.5555555555555556, \"#d8576b\"], [0.6666666666666666, \"#ed7953\"], [0.7777777777777778, \"#fb9f3a\"], [0.8888888888888888, \"#fdca26\"], [1.0, \"#f0f921\"]], \"type\": \"histogram2dcontour\"}], \"mesh3d\": [{\"colorbar\": {\"outlinewidth\": 0, \"ticks\": \"\"}, \"type\": \"mesh3d\"}], \"parcoords\": [{\"line\": {\"colorbar\": {\"outlinewidth\": 0, \"ticks\": \"\"}}, \"type\": \"parcoords\"}], \"pie\": [{\"automargin\": true, \"type\": \"pie\"}], \"scatter\": [{\"marker\": {\"line\": {\"color\": \"#283442\"}}, \"type\": \"scatter\"}], \"scatter3d\": [{\"line\": {\"colorbar\": {\"outlinewidth\": 0, \"ticks\": \"\"}}, \"marker\": {\"colorbar\": {\"outlinewidth\": 0, \"ticks\": \"\"}}, \"type\": \"scatter3d\"}], \"scattercarpet\": [{\"marker\": {\"colorbar\": {\"outlinewidth\": 0, \"ticks\": \"\"}}, \"type\": \"scattercarpet\"}], \"scattergeo\": [{\"marker\": {\"colorbar\": {\"outlinewidth\": 0, \"ticks\": \"\"}}, \"type\": \"scattergeo\"}], \"scattergl\": [{\"marker\": {\"line\": {\"color\": \"#283442\"}}, \"type\": \"scattergl\"}], \"scattermapbox\": [{\"marker\": {\"colorbar\": {\"outlinewidth\": 0, \"ticks\": \"\"}}, \"type\": \"scattermapbox\"}], \"scatterpolar\": [{\"marker\": {\"colorbar\": {\"outlinewidth\": 0, \"ticks\": \"\"}}, \"type\": \"scatterpolar\"}], \"scatterpolargl\": [{\"marker\": {\"colorbar\": {\"outlinewidth\": 0, \"ticks\": \"\"}}, \"type\": \"scatterpolargl\"}], \"scatterternary\": [{\"marker\": {\"colorbar\": {\"outlinewidth\": 0, \"ticks\": \"\"}}, \"type\": \"scatterternary\"}], \"surface\": [{\"colorbar\": {\"outlinewidth\": 0, \"ticks\": \"\"}, \"colorscale\": [[0.0, \"#0d0887\"], [0.1111111111111111, \"#46039f\"], [0.2222222222222222, \"#7201a8\"], [0.3333333333333333, \"#9c179e\"], [0.4444444444444444, \"#bd3786\"], [0.5555555555555556, \"#d8576b\"], [0.6666666666666666, \"#ed7953\"], [0.7777777777777778, \"#fb9f3a\"], [0.8888888888888888, \"#fdca26\"], [1.0, \"#f0f921\"]], \"type\": \"surface\"}], \"table\": [{\"cells\": {\"fill\": {\"color\": \"#506784\"}, \"line\": {\"color\": \"rgb(17,17,17)\"}}, \"header\": {\"fill\": {\"color\": \"#2a3f5f\"}, \"line\": {\"color\": \"rgb(17,17,17)\"}}, \"type\": \"table\"}]}, \"layout\": {\"annotationdefaults\": {\"arrowcolor\": \"#f2f5fa\", \"arrowhead\": 0, \"arrowwidth\": 1}, \"coloraxis\": {\"colorbar\": {\"outlinewidth\": 0, \"ticks\": \"\"}}, \"colorscale\": {\"diverging\": [[0, \"#8e0152\"], [0.1, \"#c51b7d\"], [0.2, \"#de77ae\"], [0.3, \"#f1b6da\"], [0.4, \"#fde0ef\"], [0.5, \"#f7f7f7\"], [0.6, \"#e6f5d0\"], [0.7, \"#b8e186\"], [0.8, \"#7fbc41\"], [0.9, \"#4d9221\"], [1, \"#276419\"]], \"sequential\": [[0.0, \"#0d0887\"], [0.1111111111111111, \"#46039f\"], [0.2222222222222222, \"#7201a8\"], [0.3333333333333333, \"#9c179e\"], [0.4444444444444444, \"#bd3786\"], [0.5555555555555556, \"#d8576b\"], [0.6666666666666666, \"#ed7953\"], [0.7777777777777778, \"#fb9f3a\"], [0.8888888888888888, \"#fdca26\"], [1.0, \"#f0f921\"]], \"sequentialminus\": [[0.0, \"#0d0887\"], [0.1111111111111111, \"#46039f\"], [0.2222222222222222, \"#7201a8\"], [0.3333333333333333, \"#9c179e\"], [0.4444444444444444, \"#bd3786\"], [0.5555555555555556, \"#d8576b\"], [0.6666666666666666, \"#ed7953\"], [0.7777777777777778, \"#fb9f3a\"], [0.8888888888888888, \"#fdca26\"], [1.0, \"#f0f921\"]]}, \"colorway\": [\"#636efa\", \"#EF553B\", \"#00cc96\", \"#ab63fa\", \"#FFA15A\", \"#19d3f3\", \"#FF6692\", \"#B6E880\", \"#FF97FF\", \"#FECB52\"], \"font\": {\"color\": \"#f2f5fa\"}, \"geo\": {\"bgcolor\": \"rgb(17,17,17)\", \"lakecolor\": \"rgb(17,17,17)\", \"landcolor\": \"rgb(17,17,17)\", \"showlakes\": true, \"showland\": true, \"subunitcolor\": \"#506784\"}, \"hoverlabel\": {\"align\": \"left\"}, \"hovermode\": \"closest\", \"mapbox\": {\"style\": \"dark\"}, \"paper_bgcolor\": \"rgb(17,17,17)\", \"plot_bgcolor\": \"rgb(17,17,17)\", \"polar\": {\"angularaxis\": {\"gridcolor\": \"#506784\", \"linecolor\": \"#506784\", \"ticks\": \"\"}, \"bgcolor\": \"rgb(17,17,17)\", \"radialaxis\": {\"gridcolor\": \"#506784\", \"linecolor\": \"#506784\", \"ticks\": \"\"}}, \"scene\": {\"xaxis\": {\"backgroundcolor\": \"rgb(17,17,17)\", \"gridcolor\": \"#506784\", \"gridwidth\": 2, \"linecolor\": \"#506784\", \"showbackground\": true, \"ticks\": \"\", \"zerolinecolor\": \"#C8D4E3\"}, \"yaxis\": {\"backgroundcolor\": \"rgb(17,17,17)\", \"gridcolor\": \"#506784\", \"gridwidth\": 2, \"linecolor\": \"#506784\", \"showbackground\": true, \"ticks\": \"\", \"zerolinecolor\": \"#C8D4E3\"}, \"zaxis\": {\"backgroundcolor\": \"rgb(17,17,17)\", \"gridcolor\": \"#506784\", \"gridwidth\": 2, \"linecolor\": \"#506784\", \"showbackground\": true, \"ticks\": \"\", \"zerolinecolor\": \"#C8D4E3\"}}, \"shapedefaults\": {\"line\": {\"color\": \"#f2f5fa\"}}, \"sliderdefaults\": {\"bgcolor\": \"#C8D4E3\", \"bordercolor\": \"rgb(17,17,17)\", \"borderwidth\": 1, \"tickwidth\": 0}, \"ternary\": {\"aaxis\": {\"gridcolor\": \"#506784\", \"linecolor\": \"#506784\", \"ticks\": \"\"}, \"baxis\": {\"gridcolor\": \"#506784\", \"linecolor\": \"#506784\", \"ticks\": \"\"}, \"bgcolor\": \"rgb(17,17,17)\", \"caxis\": {\"gridcolor\": \"#506784\", \"linecolor\": \"#506784\", \"ticks\": \"\"}}, \"title\": {\"x\": 0.05}, \"updatemenudefaults\": {\"bgcolor\": \"#506784\", \"borderwidth\": 0}, \"xaxis\": {\"automargin\": true, \"gridcolor\": \"#283442\", \"linecolor\": \"#506784\", \"ticks\": \"\", \"title\": {\"standoff\": 15}, \"zerolinecolor\": \"#283442\", \"zerolinewidth\": 2}, \"yaxis\": {\"automargin\": true, \"gridcolor\": \"#283442\", \"linecolor\": \"#506784\", \"ticks\": \"\", \"title\": {\"standoff\": 15}, \"zerolinecolor\": \"#283442\", \"zerolinewidth\": 2}}}, \"title\": {\"text\": \"Top N Grams\", \"x\": 0.5}, \"xaxis\": {\"anchor\": \"y\", \"domain\": [0.0, 1.0], \"linecolor\": \"black\", \"linewidth\": 2, \"mirror\": true, \"showline\": true, \"title\": {\"text\": \" \"}}, \"xaxis2\": {\"anchor\": \"y2\", \"domain\": [0.0, 1.0], \"linecolor\": \"black\", \"linewidth\": 2, \"mirror\": true, \"showline\": true}, \"xaxis3\": {\"anchor\": \"y3\", \"domain\": [0.0, 1.0], \"linecolor\": \"black\", \"linewidth\": 2, \"mirror\": true, \"showline\": true}, \"yaxis\": {\"anchor\": \"x\", \"domain\": [0.7777777777777778, 1.0], \"linecolor\": \"black\", \"linewidth\": 2, \"mirror\": true, \"showline\": true, \"title\": {\"text\": \" \"}}, \"yaxis2\": {\"anchor\": \"x2\", \"domain\": [0.3888888888888889, 0.6111111111111112], \"linecolor\": \"black\", \"linewidth\": 2, \"mirror\": true, \"showline\": true}, \"yaxis3\": {\"anchor\": \"x3\", \"domain\": [0.0, 0.22222222222222224], \"linecolor\": \"black\", \"linewidth\": 2, \"mirror\": true, \"showline\": true}},\n",
              "                        {\"responsive\": true}\n",
              "                    ).then(function(){\n",
              "                            \n",
              "var gd = document.getElementById('bba6ae5d-f6e0-42bf-9854-6a53d7343bf9');\n",
              "var x = new MutationObserver(function (mutations, observer) {{\n",
              "        var display = window.getComputedStyle(gd).display;\n",
              "        if (!display || display === 'none') {{\n",
              "            console.log([gd, 'removed!']);\n",
              "            Plotly.purge(gd);\n",
              "            observer.disconnect();\n",
              "        }}\n",
              "}});\n",
              "\n",
              "// Listen for the removal of the full notebook cells\n",
              "var notebookContainer = gd.closest('#notebook-container');\n",
              "if (notebookContainer) {{\n",
              "    x.observe(notebookContainer, {childList: true});\n",
              "}}\n",
              "\n",
              "// Listen for the clearing of the current output cell\n",
              "var outputEl = gd.closest('.output');\n",
              "if (outputEl) {{\n",
              "    x.observe(outputEl, {childList: true});\n",
              "}}\n",
              "\n",
              "                        })\n",
              "                };\n",
              "                \n",
              "            </script>\n",
              "        </div>\n",
              "</body>\n",
              "</html>"
            ]
          },
          "metadata": {
            "tags": []
          }
        }
      ]
    },
    {
      "cell_type": "code",
      "metadata": {
        "id": "pOyAG35og3Pa",
        "colab": {
          "base_uri": "https://localhost:8080/",
          "height": 581
        },
        "outputId": "1c215639-7f37-4543-fe11-fbfcf92ac653"
      },
      "source": [
        "#sentimmental Analysis\n",
        "from nltk.sentiment.vader import SentimentIntensityAnalyzer\n",
        "from nltk.sentiment.util import *\n",
        "\n",
        "from nltk import tokenize\n",
        "import nltk\n",
        "nltk.download('vader_lexicon')\n",
        "\n",
        "sid = SentimentIntensityAnalyzer()\n",
        "\n",
        "tweets['sentiment_compound_polarity']=tweets.refine_text.apply(lambda x:sid.polarity_scores(x)['compound'])\n",
        "tweets['sentiment_neutral']=tweets.refine_text.apply(lambda x:sid.polarity_scores(x)['neu'])\n",
        "tweets['sentiment_negative']=tweets.refine_text.apply(lambda x:sid.polarity_scores(x)['neg'])\n",
        "tweets['sentiment_pos']=tweets.refine_text.apply(lambda x:sid.polarity_scores(x)['pos'])\n",
        "tweets['sentiment_type']=''\n",
        "tweets.loc[tweets.sentiment_compound_polarity>0,'sentiment_type']='POSITIVE'\n",
        "tweets.loc[tweets.sentiment_compound_polarity==0,'sentiment_type']='NEUTRAL'\n",
        "tweets.loc[tweets.sentiment_compound_polarity<0,'sentiment_type']='NEGATIVE'\n",
        "tweets.head()"
      ],
      "execution_count": 145,
      "outputs": [
        {
          "output_type": "stream",
          "text": [
            "[nltk_data] Downloading package vader_lexicon to /root/nltk_data...\n",
            "[nltk_data]   Package vader_lexicon is already up-to-date!\n"
          ],
          "name": "stdout"
        },
        {
          "output_type": "execute_result",
          "data": {
            "text/html": [
              "<div>\n",
              "<style scoped>\n",
              "    .dataframe tbody tr th:only-of-type {\n",
              "        vertical-align: middle;\n",
              "    }\n",
              "\n",
              "    .dataframe tbody tr th {\n",
              "        vertical-align: top;\n",
              "    }\n",
              "\n",
              "    .dataframe thead th {\n",
              "        text-align: right;\n",
              "    }\n",
              "</style>\n",
              "<table border=\"1\" class=\"dataframe\">\n",
              "  <thead>\n",
              "    <tr style=\"text-align: right;\">\n",
              "      <th></th>\n",
              "      <th>created</th>\n",
              "      <th>user_location</th>\n",
              "      <th>tweet_text</th>\n",
              "      <th>username</th>\n",
              "      <th>all_hashtags</th>\n",
              "      <th>refine_text</th>\n",
              "      <th>text_length</th>\n",
              "      <th>sentiment_compound_polarity</th>\n",
              "      <th>sentiment_neutral</th>\n",
              "      <th>sentiment_negative</th>\n",
              "      <th>sentiment_pos</th>\n",
              "      <th>sentiment_type</th>\n",
              "    </tr>\n",
              "  </thead>\n",
              "  <tbody>\n",
              "    <tr>\n",
              "      <th>0</th>\n",
              "      <td>11/9/2020 4:49</td>\n",
              "      <td>Gotham City</td>\n",
              "      <td>b'Look at #SRH youngster Priyam Garg after Kan...</td>\n",
              "      <td>b'SteadyTheShip'</td>\n",
              "      <td>['SRH', 'SRHvDC', 'DCvSRH', 'IPL2020']</td>\n",
              "      <td>look youngster priyam garg kane williamson mas...</td>\n",
              "      <td>40</td>\n",
              "      <td>0.6969</td>\n",
              "      <td>0.720</td>\n",
              "      <td>0.062</td>\n",
              "      <td>0.218</td>\n",
              "      <td>POSITIVE</td>\n",
              "    </tr>\n",
              "    <tr>\n",
              "      <th>1</th>\n",
              "      <td>11/9/2020 4:49</td>\n",
              "      <td>Bengaluru South, India</td>\n",
              "      <td>b'This is Mr.360\\xc2\\xb0 @ABdeVilliers17 . Mos...</td>\n",
              "      <td>b'imsapien'</td>\n",
              "      <td>['Cricket', 'IPL2020', 'Eliminater', 'IPLQuali...</td>\n",
              "      <td>mrxcxb dangerous animal cricket</td>\n",
              "      <td>9</td>\n",
              "      <td>-0.4767</td>\n",
              "      <td>0.492</td>\n",
              "      <td>0.508</td>\n",
              "      <td>0.000</td>\n",
              "      <td>NEGATIVE</td>\n",
              "    </tr>\n",
              "    <tr>\n",
              "      <th>2</th>\n",
              "      <td>11/9/2020 4:48</td>\n",
              "      <td>Chennai, India</td>\n",
              "      <td>b\"Great things happen to those who don't stop ...</td>\n",
              "      <td>b'CricketGirl_45'</td>\n",
              "      <td>['RohitSharma', 'MumbaiIndians', 'IPL2020', 'I...</td>\n",
              "      <td>great thing happen dont stop believing trying ...</td>\n",
              "      <td>21</td>\n",
              "      <td>0.9134</td>\n",
              "      <td>0.356</td>\n",
              "      <td>0.000</td>\n",
              "      <td>0.644</td>\n",
              "      <td>POSITIVE</td>\n",
              "    </tr>\n",
              "    <tr>\n",
              "      <th>3</th>\n",
              "      <td>11/9/2020 4:48</td>\n",
              "      <td>Chennai, India</td>\n",
              "      <td>b'T Natarajan made a mark with his yorkers in ...</td>\n",
              "      <td>b'ESPNcricinfo'</td>\n",
              "      <td>['IPL2020']</td>\n",
              "      <td>natarajan made mark yorkers xfxfxxc see play t...</td>\n",
              "      <td>19</td>\n",
              "      <td>0.3400</td>\n",
              "      <td>0.789</td>\n",
              "      <td>0.000</td>\n",
              "      <td>0.211</td>\n",
              "      <td>POSITIVE</td>\n",
              "    </tr>\n",
              "    <tr>\n",
              "      <th>4</th>\n",
              "      <td>11/9/2020 4:47</td>\n",
              "      <td>Kerala, India</td>\n",
              "      <td>b'#IPL2020 Final: Marcus Stoinis warning to @m...</td>\n",
              "      <td>b'InsideSportIND'</td>\n",
              "      <td>['IPL2020', 'iplseason13', 'IPLfinal', 'Mumbai...</td>\n",
              "      <td>marcus stoinis warning check</td>\n",
              "      <td>7</td>\n",
              "      <td>-0.3400</td>\n",
              "      <td>0.556</td>\n",
              "      <td>0.444</td>\n",
              "      <td>0.000</td>\n",
              "      <td>NEGATIVE</td>\n",
              "    </tr>\n",
              "  </tbody>\n",
              "</table>\n",
              "</div>"
            ],
            "text/plain": [
              "          created           user_location  ... sentiment_pos sentiment_type\n",
              "0  11/9/2020 4:49            Gotham City   ...         0.218       POSITIVE\n",
              "1  11/9/2020 4:49  Bengaluru South, India  ...         0.000       NEGATIVE\n",
              "2  11/9/2020 4:48         Chennai, India   ...         0.644       POSITIVE\n",
              "3  11/9/2020 4:48          Chennai, India  ...         0.211       POSITIVE\n",
              "4  11/9/2020 4:47           Kerala, India  ...         0.000       NEGATIVE\n",
              "\n",
              "[5 rows x 12 columns]"
            ]
          },
          "metadata": {
            "tags": []
          },
          "execution_count": 145
        }
      ]
    },
    {
      "cell_type": "code",
      "metadata": {
        "id": "h1XciltLhDuD",
        "colab": {
          "base_uri": "https://localhost:8080/",
          "height": 338
        },
        "outputId": "3b9246a3-a1b1-48ac-848d-5d9699c0d825"
      },
      "source": [
        "tweets.sentiment_type.value_counts().plot(kind='bar',title=\"sentiment analysis\")"
      ],
      "execution_count": 146,
      "outputs": [
        {
          "output_type": "execute_result",
          "data": {
            "text/plain": [
              "<matplotlib.axes._subplots.AxesSubplot at 0x7f0e79c1a710>"
            ]
          },
          "metadata": {
            "tags": []
          },
          "execution_count": 146
        },
        {
          "output_type": "display_data",
          "data": {
            "image/png": "[encoded data removed]",
            "text/plain": [
              "<Figure size 432x288 with 1 Axes>"
            ]
          },
          "metadata": {
            "tags": [],
            "needs_background": "light"
          }
        }
      ]
    },
    {
      "cell_type": "code",
      "metadata": {
        "id": "Jx9SMTFchDwi",
        "colab": {
          "base_uri": "https://localhost:8080/",
          "height": 300
        },
        "outputId": "47185d47-442b-4c25-e66c-729a8588565a"
      },
      "source": [
        "#Polarity of tweets hour wise\n",
        "import pandas as pd\n",
        "import matplotlib.pyplot as plt\n",
        "\n",
        "tweets['hour'] = pd.DatetimeIndex(tweets['created']).hour\n",
        "tweets['date'] = pd.DatetimeIndex(tweets['created']).date\n",
        "tweets['minute'] = pd.DatetimeIndex(tweets['created']).minute\n",
        "df=(tweets.groupby('hour',as_index=False).sentiment_compound_polarity.mean())\n",
        "  \n",
        "plt.plot(df['hour'], df['sentiment_compound_polarity'], color='red', marker='o')\n",
        "plt.title('sentiment_compound_polarity Vs hour', fontsize=14)\n",
        "plt.xlabel('hour', fontsize=14)\n",
        "plt.ylabel('sentiment_compound_polarity', fontsize=14)\n",
        "plt.grid(True)\n",
        "plt.show()"
      ],
      "execution_count": 148,
      "outputs": [
        {
          "output_type": "display_data",
          "data": {
            "image/png": "[encoded data removed]",
            "text/plain": [
              "<Figure size 432x288 with 1 Axes>"
            ]
          },
          "metadata": {
            "tags": [],
            "needs_background": "light"
          }
        }
      ]
    },
    {
      "cell_type": "markdown",
      "metadata": {
        "id": "QoUAZerl8AEv"
      },
      "source": [
        ""
      ]
    },
    {
      "cell_type": "code",
      "metadata": {
        "id": "q2RbwxD5fOXz",
        "colab": {
          "base_uri": "https://localhost:8080/"
        },
        "outputId": "80e1820b-0c6a-49ba-c66f-f1904cdc25fe"
      },
      "source": [
        "pip install pyLDAvis"
      ],
      "execution_count": 27,
      "outputs": [
        {
          "output_type": "stream",
          "text": [
            "Collecting pyLDAvis\n",
            "\u001b[?25l  Downloading https://files.pythonhosted.org/packages/a5/3a/af82e070a8a96e13217c8f362f9a73e82d61ac8fff3a2561946a97f96266/pyLDAvis-2.1.2.tar.gz (1.6MB)\n",
            "\u001b[K     |████████████████████████████████| 1.6MB 7.2MB/s \n",
            "\u001b[?25hRequirement already satisfied: wheel>=0.23.0 in /usr/local/lib/python3.6/dist-packages (from pyLDAvis) (0.35.1)\n",
            "Requirement already satisfied: numpy>=1.9.2 in /usr/local/lib/python3.6/dist-packages (from pyLDAvis) (1.18.5)\n",
            "Requirement already satisfied: scipy>=0.18.0 in /usr/local/lib/python3.6/dist-packages (from pyLDAvis) (1.4.1)\n",
            "Requirement already satisfied: pandas>=0.17.0 in /usr/local/lib/python3.6/dist-packages (from pyLDAvis) (1.1.4)\n",
            "Requirement already satisfied: joblib>=0.8.4 in /usr/local/lib/python3.6/dist-packages (from pyLDAvis) (0.17.0)\n",
            "Requirement already satisfied: jinja2>=2.7.2 in /usr/local/lib/python3.6/dist-packages (from pyLDAvis) (2.11.2)\n",
            "Requirement already satisfied: numexpr in /usr/local/lib/python3.6/dist-packages (from pyLDAvis) (2.7.1)\n",
            "Requirement already satisfied: pytest in /usr/local/lib/python3.6/dist-packages (from pyLDAvis) (3.6.4)\n",
            "Requirement already satisfied: future in /usr/local/lib/python3.6/dist-packages (from pyLDAvis) (0.16.0)\n",
            "Collecting funcy\n",
            "  Downloading https://files.pythonhosted.org/packages/66/89/479de0afbbfb98d1c4b887936808764627300208bb771fcd823403645a36/funcy-1.15-py2.py3-none-any.whl\n",
            "Requirement already satisfied: pytz>=2017.2 in /usr/local/lib/python3.6/dist-packages (from pandas>=0.17.0->pyLDAvis) (2018.9)\n",
            "Requirement already satisfied: python-dateutil>=2.7.3 in /usr/local/lib/python3.6/dist-packages (from pandas>=0.17.0->pyLDAvis) (2.8.1)\n",
            "Requirement already satisfied: MarkupSafe>=0.23 in /usr/local/lib/python3.6/dist-packages (from jinja2>=2.7.2->pyLDAvis) (1.1.1)\n",
            "Requirement already satisfied: more-itertools>=4.0.0 in /usr/local/lib/python3.6/dist-packages (from pytest->pyLDAvis) (8.6.0)\n",
            "Requirement already satisfied: pluggy<0.8,>=0.5 in /usr/local/lib/python3.6/dist-packages (from pytest->pyLDAvis) (0.7.1)\n",
            "Requirement already satisfied: setuptools in /usr/local/lib/python3.6/dist-packages (from pytest->pyLDAvis) (50.3.2)\n",
            "Requirement already satisfied: attrs>=17.4.0 in /usr/local/lib/python3.6/dist-packages (from pytest->pyLDAvis) (20.3.0)\n",
            "Requirement already satisfied: py>=1.5.0 in /usr/local/lib/python3.6/dist-packages (from pytest->pyLDAvis) (1.9.0)\n",
            "Requirement already satisfied: six>=1.10.0 in /usr/local/lib/python3.6/dist-packages (from pytest->pyLDAvis) (1.15.0)\n",
            "Requirement already satisfied: atomicwrites>=1.0 in /usr/local/lib/python3.6/dist-packages (from pytest->pyLDAvis) (1.4.0)\n",
            "Building wheels for collected packages: pyLDAvis\n",
            "  Building wheel for pyLDAvis (setup.py) ... \u001b[?25l\u001b[?25hdone\n",
            "  Created wheel for pyLDAvis: filename=pyLDAvis-2.1.2-py2.py3-none-any.whl size=97712 sha256=d9aff3dabcd540376b69a49da9324c5eb4f78b982a41cc1ec8a4de66b45e2a12\n",
            "  Stored in directory: /root/.cache/pip/wheels/98/71/24/513a99e58bb6b8465bae4d2d5e9dba8f0bef8179e3051ac414\n",
            "Successfully built pyLDAvis\n",
            "Installing collected packages: funcy, pyLDAvis\n",
            "Successfully installed funcy-1.15 pyLDAvis-2.1.2\n"
          ],
          "name": "stdout"
        }
      ]
    },
    {
      "cell_type": "markdown",
      "metadata": {
        "id": "5anca9cad6hz"
      },
      "source": [
        "**TOPIC MODELLING**"
      ]
    },
    {
      "cell_type": "code",
      "metadata": {
        "id": "hkasnx0OFger"
      },
      "source": [
        "import gensim #the library for Topic modelling\n",
        "from gensim.models.ldamulticore import LdaMulticore\n",
        "from gensim import corpora, models\n",
        "import pyLDAvis.gensim #LDA visualization library\n",
        "\n",
        "from nltk.corpus import stopwords\n",
        "import string\n",
        "from nltk.stem.wordnet import WordNetLemmatizer\n",
        "\n",
        "import warnings\n",
        "warnings.simplefilter('ignore')\n",
        "from itertools import chain"
      ],
      "execution_count": 149,
      "outputs": []
    },
    {
      "cell_type": "code",
      "metadata": {
        "id": "6vwRMZoPFlJc"
      },
      "source": [
        "\n",
        "#spliting the data\n",
        "stop = set(stopwords.words('english'))\n",
        "exclude = set(string.punctuation)\n",
        "lemma = WordNetLemmatizer()\n",
        "\n",
        "def split(text):\n",
        "    stop_free = ' '.join([word for word in str(text).lower().split() if word not in stop])\n",
        "    punc_free = ''.join(ch for ch in stop_free if ch not in exclude)\n",
        "    normalized = ' '.join([lemma.lemmatize(word) for word in punc_free.split()])\n",
        "    return normalized.split()"
      ],
      "execution_count": 150,
      "outputs": []
    },
    {
      "cell_type": "code",
      "metadata": {
        "id": "bbKKWsgaFoSe"
      },
      "source": [
        "data['text_split']=data['refine_text'].apply(split)"
      ],
      "execution_count": 151,
      "outputs": []
    },
    {
      "cell_type": "code",
      "metadata": {
        "colab": {
          "base_uri": "https://localhost:8080/"
        },
        "id": "tkAagArJFpu_",
        "outputId": "7491d791-8556-4cbb-ce2b-08146be69b56"
      },
      "source": [
        "#create dictionary\n",
        "dictionary = corpora.Dictionary(data['text_split'])\n",
        "#Total number of non-zeroes in the BOW matrix (sum of the number of unique words per document over the entire corpus).\n",
        "print(dictionary.num_nnz)"
      ],
      "execution_count": 152,
      "outputs": [
        {
          "output_type": "stream",
          "text": [
            "9397\n"
          ],
          "name": "stdout"
        }
      ]
    },
    {
      "cell_type": "code",
      "metadata": {
        "colab": {
          "base_uri": "https://localhost:8080/"
        },
        "id": "rCok9h_XFwT0",
        "outputId": "4a793855-60de-4684-d52e-adfaeb73b3dd"
      },
      "source": [
        "\n",
        "#create document term matrix\n",
        "doc_term_matrix = [dictionary.doc2bow(doc) for doc in data['text_split'] ]\n",
        "print(len(doc_term_matrix))"
      ],
      "execution_count": 153,
      "outputs": [
        {
          "output_type": "stream",
          "text": [
            "1000\n"
          ],
          "name": "stdout"
        }
      ]
    },
    {
      "cell_type": "code",
      "metadata": {
        "id": "LxFVgHJwFyvr"
      },
      "source": [
        "lda = gensim.models.ldamodel.LdaModel"
      ],
      "execution_count": 33,
      "outputs": []
    },
    {
      "cell_type": "code",
      "metadata": {
        "colab": {
          "base_uri": "https://localhost:8080/"
        },
        "id": "vgElcj65F2J_",
        "outputId": "85a11dee-7263-4ddb-e190-8db307bc8129"
      },
      "source": [
        "num_topics=10\n",
        "%time ldamodel = lda(doc_term_matrix,num_topics=num_topics,id2word=dictionary,passes=50,minimum_probability=0)"
      ],
      "execution_count": 154,
      "outputs": [
        {
          "output_type": "stream",
          "text": [
            "CPU times: user 23 s, sys: 12.8 ms, total: 23 s\n",
            "Wall time: 23.1 s\n"
          ],
          "name": "stdout"
        }
      ]
    },
    {
      "cell_type": "code",
      "metadata": {
        "colab": {
          "base_uri": "https://localhost:8080/"
        },
        "id": "GfXHXDkdF9R0",
        "outputId": "a02934b1-dd52-484c-a8c9-160f0da30495"
      },
      "source": [
        "ldamodel.print_topics(num_topics=num_topics)"
      ],
      "execution_count": 155,
      "outputs": [
        {
          "output_type": "execute_result",
          "data": {
            "text/plain": [
              "[(0,\n",
              "  '0.027*\"mi\" + 0.020*\"dc\" + 0.017*\"well\" + 0.012*\"injured\" + 0.011*\"rcb\" + 0.010*\"team\" + 0.010*\"srh\" + 0.009*\"match\" + 0.009*\"time\" + 0.007*\"rr\"'),\n",
              " (1,\n",
              "  '0.018*\"team\" + 0.011*\"season\" + 0.010*\"back\" + 0.010*\"win\" + 0.009*\"get\" + 0.008*\"williamson\" + 0.007*\"great\" + 0.007*\"end\" + 0.007*\"time\" + 0.006*\"day\"'),\n",
              " (2,\n",
              "  '0.019*\"team\" + 0.018*\"take\" + 0.018*\"run\" + 0.011*\"dhawan\" + 0.009*\"win\" + 0.008*\"final\" + 0.008*\"wicket\" + 0.007*\"natarajan\" + 0.007*\"fan\" + 0.007*\"go\"'),\n",
              " (3,\n",
              "  '0.023*\"congratulation\" + 0.021*\"played\" + 0.021*\"final\" + 0.016*\"well\" + 0.016*\"win\" + 0.014*\"team\" + 0.010*\"csk\" + 0.010*\"play\" + 0.010*\"winning\" + 0.009*\"season\"'),\n",
              " (4,\n",
              "  '0.054*\"delhi\" + 0.032*\"capital\" + 0.027*\"final\" + 0.026*\"time\" + 0.023*\"win\" + 0.022*\"mumbai\" + 0.020*\"indian\" + 0.019*\"first\" + 0.017*\"team\" + 0.011*\"dc\"'),\n",
              " (5,\n",
              "  '0.034*\"v\" + 0.027*\"dc\" + 0.018*\"mi\" + 0.016*\"fan\" + 0.016*\"match\" + 0.012*\"team\" + 0.008*\"prediction\" + 0.006*\"big\" + 0.006*\"qualifier\" + 0.006*\"xfxfxfxf\"'),\n",
              " (6,\n",
              "  '0.013*\"good\" + 0.012*\"player\" + 0.010*\"wicket\" + 0.010*\"stoinis\" + 0.010*\"season\" + 0.008*\"top\" + 0.008*\"run\" + 0.008*\"team\" + 0.007*\"see\" + 0.007*\"order\"'),\n",
              " (7,\n",
              "  '0.013*\"rabada\" + 0.011*\"one\" + 0.011*\"v\" + 0.011*\"final\" + 0.010*\"team\" + 0.009*\"cap\" + 0.009*\"win\" + 0.009*\"purple\" + 0.009*\"wicket\" + 0.007*\"say\"'),\n",
              " (8,\n",
              "  '0.017*\"november\" + 0.008*\"day\" + 0.008*\"match\" + 0.008*\"lot\" + 0.007*\"birthday\" + 0.007*\"tweet\" + 0.007*\"new\" + 0.007*\"lead\" + 0.005*\"v\" + 0.005*\"india\"'),\n",
              " (9,\n",
              "  '0.025*\"made\" + 0.022*\"released\" + 0.021*\"final\" + 0.021*\"rcb\" + 0.013*\"warner\" + 0.011*\"stoinis\" + 0.011*\"player\" + 0.011*\"win\" + 0.009*\"dc\" + 0.009*\"fan\"')]"
            ]
          },
          "metadata": {
            "tags": []
          },
          "execution_count": 155
        }
      ]
    },
    {
      "cell_type": "code",
      "metadata": {
        "colab": {
          "base_uri": "https://localhost:8080/",
          "height": 881
        },
        "id": "EuclNUPk8Meh",
        "outputId": "8f0bf546-32f5-4e59-8fa5-7d945c5e18da"
      },
      "source": [
        "lda_display = pyLDAvis.gensim.prepare(ldamodel, doc_term_matrix, dictionary, sort_topics=False, mds='mmds')\n",
        "pyLDAvis.display(lda_display)"
      ],
      "execution_count": 156,
      "outputs": [
        {
          "output_type": "execute_result",
          "data": {
            "text/html": [
              "\n",
              "<link rel=\"stylesheet\" type=\"text/css\" href=\"https://cdn.rawgit.com/bmabey/pyLDAvis/files/ldavis.v1.0.0.css\">\n",
              "\n",
              "\n",
              "<div id=\"ldavis_el561397002474236401422770813\"></div>\n",
              "<script type=\"text/javascript\">\n",
              "\n",
              "var ldavis_el561397002474236401422770813_data = {\"mdsDat\": {\"x\": [-0.2059443559413867, 0.027683386864403154, -0.11925512704723173, 0.11700602867497573, 0.24643491947155774, 0.16589371811527054, 0.0056199812070381215, 0.01647421533017322, -0.14870801112169474, -0.10520475555310538], \"y\": [-0.07664718964599193, 0.0631063650570758, 0.15865592705486098, -0.08138855572927578, -0.10517433944761788, 0.1233159770228149, 0.20844790544939992, -0.19310522096459326, 0.057951870345280376, -0.15516273914195322], \"topics\": [1, 2, 3, 4, 5, 6, 7, 8, 9, 10], \"cluster\": [1, 1, 1, 1, 1, 1, 1, 1, 1, 1], \"Freq\": [12.373580460106984, 8.560240776067648, 7.389703573203091, 12.687798828501673, 21.208846013108744, 9.959591923613957, 6.121428768579343, 8.972235763130179, 3.844420120830947, 8.882153772857436]}, \"tinfo\": {\"Term\": [\"delhi\", \"capital\", \"v\", \"mi\", \"dc\", \"made\", \"final\", \"congratulation\", \"released\", \"mumbai\", \"rcb\", \"take\", \"fan\", \"well\", \"time\", \"first\", \"run\", \"november\", \"dhawan\", \"wicket\", \"match\", \"played\", \"injured\", \"rabada\", \"warner\", \"indian\", \"stoinis\", \"rr\", \"season\", \"csk\", \"k\", \"mine\", \"injured\", \"yadav\", \"chahal\", \"hyderbad\", \"mitchell\", \"managed\", \"believe\", \"teach\", \"predicted\", \"thrice\", \"hurdle\", \"coached\", \"curran\", \"rock\", \"tom\", \"xcxaxefxbfxbc\", \"loyal\", \"missing\", \"heartfelt\", \"marsh\", \"vijay\", \"kishan\", \"done\", \"tewatia\", \"rd\", \"ab\", \"lifting\", \"archer\", \"attitude\", \"mi\", \"saha\", \"defeated\", \"rahul\", \"xfxfxxaf\", \"till\", \"dhawan\", \"abd\", \"varun\", \"bhuvi\", \"missed\", \"well\", \"u\", \"dc\", \"tournament\", \"rr\", \"kl\", \"bumrah\", \"kxip\", \"rcb\", \"would\", \"srh\", \"proud\", \"match\", \"game\", \"say\", \"team\", \"time\", \"let\", \"season\", \"trophy\", \"last\", \"win\", \"fan\", \"played\", \"xexxs\", \"apparently\", \"scene\", \"xcxain\", \"birthdaynext\", \"ticket\", \"ha\", \"consecutive\", \"fertility\", \"difficult\", \"normal\", \"cost\", \"keemo\", \"paul\", \"film\", \"ur\", \"uae\", \"left\", \"tough\", \"consistent\", \"appearance\", \"cameo\", \"nd\", \"inglorious\", \"keeping\", \"disastrously\", \"cherry\", \"cake\", \"valid\", \"nba\", \"platform\", \"behind\", \"hold\", \"expect\", \"gt\", \"news\", \"shot\", \"beaten\", \"end\", \"get\", \"back\", \"happy\", \"cup\", \"big\", \"day\", \"team\", \"season\", \"great\", \"williamson\", \"special\", \"many\", \"win\", \"good\", \"making\", \"winning\", \"time\", \"kane\", \"player\", \"srh\", \"would\", \"game\", \"best\", \"wish\", \"nov\", \"death\", \"nan\", \"added\", \"finished\", \"shaw\", \"prithvi\", \"dislodge\", \"whoxexxs\", \"dadi\", \"appreciate\", \"book\", \"xexbxcxexbxbfxexbxadxexbxbexexbxbxexbxbxexbxbxexbx\", \"schedule\", \"reviewing\", \"yuvraj\", \"umpiring\", \"soon\", \"shikhar\", \"natarajan\", \"need\", \"considering\", \"bumrahxexaxbexefxbxf\", \"hypothetically\", \"ishanxfxfxfxf\", \"iyerxfxfxfxf\", \"padikkalxfxfxfxf\", \"pandyaxfxfxfxfxexaxbexefxbxf\", \"rahulxfxfxfxf\", \"samadxfxfxfxfxexaxbexefxbxf\", \"samsonxfxfxfxf\", \"natarajanxexaxbexefxbxf\", \"xfxfxxaexfxfxxbxfxfxxaxfxfxxa\", \"varunxexaxbexefxbxf\", \"sundarxfxfxfxfxexaxbexefxbxf\", \"might\", \"take\", \"qualified\", \"coaching\", \"singh\", \"review\", \"script\", \"xfxfxxaa\", \"putting\", \"dhawan\", \"special\", \"run\", \"open\", \"india\", \"inning\", \"go\", \"wicket\", \"team\", \"still\", \"november\", \"fan\", \"boult\", \"see\", \"end\", \"win\", \"bumrah\", \"stoinis\", \"going\", \"final\", \"moment\", \"performance\", \"cup\", \"made\", \"match\", \"dc\", \"play\", \"great\", \"season\", \"ah\", \"lo\", \"successfully\", \"chased\", \"mega\", \"q\", \"starc\", \"due\", \"better\", \"congratulation\", \"hour\", \"adayi\", \"xcxaxcxa\", \"excited\", \"defending\", \"release\", \"doesnt\", \"try\", \"royal\", \"challenger\", \"huge\", \"much\", \"whats\", \"xfxfxfx\", \"hey\", \"heart\", \"happen\", \"fantastic\", \"predict\", \"deserved\", \"played\", \"luck\", \"winning\", \"reaching\", \"way\", \"want\", \"champion\", \"mean\", \"score\", \"play\", \"well\", \"hope\", \"next\", \"cricket\", \"name\", \"csk\", \"final\", \"new\", \"win\", \"face\", \"never\", \"stage\", \"team\", \"great\", \"season\", \"dont\", \"match\", \"trophy\", \"see\", \"year\", \"best\", \"time\", \"good\", \"v\", \"first\", \"capital\", \"delhi\", \"rps\", \"shreyas\", \"deccan\", \"iyer\", \"winner\", \"qualify\", \"mumbai\", \"kkr\", \"join\", \"entered\", \"rollercoaster\", \"maiden\", \"title\", \"plzz\", \"describes\", \"meet\", \"perform\", \"challenge\", \"charger\", \"xexdxaxefxbxf\", \"first\", \"indian\", \"quell\", \"fieldxfxfxxe\", \"immense\", \"notice\", \"edition\", \"babar\", \"beat\", \"lift\", \"fourth\", \"xexbxaaxexbxxexbxaxexbxdxexbxaxexbxbexexbxaaxexbxxexbxbxexbxaaxexbxdxexbxaaxexbxbexexbxaxexbx\", \"seen\", \"finally\", \"enter\", \"bow\", \"history\", \"captain\", \"time\", \"final\", \"trophy\", \"win\", \"rr\", \"year\", \"qualifier\", \"hyderabad\", \"kxip\", \"team\", \"best\", \"sunrisers\", \"srh\", \"csk\", \"dc\", \"mi\", \"rcb\", \"v\", \"run\", \"prediction\", \"channel\", \"streaming\", \"tv\", \"okay\", \"tat\", \"question\", \"long\", \"petition\", \"xfxfxaxddc\", \"wasnt\", \"dragon\", \"underdog\", \"talking\", \"clearly\", \"thru\", \"choosing\", \"xfxfxxdxfxfxx\", \"financial\", \"perfect\", \"thinking\", \"xfxfxfxf\", \"bro\", \"live\", \"thought\", \"date\", \"hatred\", \"continuosly\", \"advantage\", \"luckily\", \"giving\", \"momentum\", \"v\", \"table\", \"allround\", \"probably\", \"fan\", \"dc\", \"every\", \"ball\", \"nov\", \"match\", \"big\", \"mi\", \"point\", \"bat\", \"yesterday\", \"u\", \"exciting\", \"young\", \"qualifier\", \"performance\", \"team\", \"marcus\", \"samad\", \"back\", \"year\", \"best\", \"hard\", \"one\", \"srh\", \"play\", \"time\", \"williamson\", \"order\", \"wk\", \"nightmare\", \"xexdxc\", \"term\", \"meme\", \"stroke\", \"video\", \"shami\", \"behavior\", \"bigg\", \"chasing\", \"five\", \"progress\", \"replace\", \"xfxfxfxfclip\", \"bos\", \"captainxfxfxax\", \"msdxfxfxxd\", \"rohitxfxfxx\", \"youre\", \"xfxfxxfxfxfxfxbc\", \"matchwinner\", \"avoiding\", \"recap\", \"sealed\", \"srhs\", \"lavishes\", \"evident\", \"unwanted\", \"turned\", \"provision\", \"thisxfxfxxb\", \"suggestion\", \"retaining\", \"valuable\", \"skip\", \"bowled\", \"smooth\", \"found\", \"latest\", \"significantly\", \"actual\", \"boom\", \"divisive\", \"glorious\", \"somewhat\", \"middle\", \"loaded\", \"inexperienced\", \"fragile\", \"commentator\", \"beacuse\", \"height\", \"elegance\", \"joffffffra\", \"nonexistent\", \"pole\", \"polly\", \"red\", \"sweat\", \"highly\", \"bangladeshi\", \"bit\", \"week\", \"move\", \"colour\", \"gone\", \"dismissal\", \"owner\", \"pleasing\", \"playerssome\", \"boost\", \"gold\", \"touched\", \"sick\", \"loading\", \"pooran\", \"c\", \"pp\", \"undiplomatic\", \"four\", \"night\", \"top\", \"underrate\", \"surpass\", \"wicket\", \"right\", \"forget\", \"xfxfxxxfxfxxxfxfxx\", \"toprated\", \"came\", \"sure\", \"good\", \"xi\", \"became\", \"auction\", \"stoinis\", \"player\", \"rahul\", \"season\", \"run\", \"see\", \"way\", \"support\", \"b\", \"marcus\", \"team\", \"people\", \"give\", \"make\", \"kl\", \"love\", \"tournament\", \"match\", \"time\", \"great\", \"kane\", \"purple\", \"runner\", \"vth\", \"nz\", \"wicketswicket\", \"race\", \"jasprit\", \"kagiso\", \"ravindra\", \"wouldve\", \"unconditional\", \"drop\", \"happened\", \"remaining\", \"sorry\", \"occupation\", \"utkarsh\", \"sinha\", \"scammer\", \"slot\", \"ton\", \"cap\", \"reason\", \"three\", \"step\", \"xfxfxaxe\", \"sharma\", \"could\", \"master\", \"bulaya\", \"aapas\", \"trick\", \"gowsami\", \"deliver\", \"ti\", \"hii\", \"rabada\", \"rohit\", \"say\", \"one\", \"wicket\", \"man\", \"stay\", \"away\", \"go\", \"v\", \"batting\", \"bumrah\", \"kane\", \"final\", \"team\", \"good\", \"win\", \"see\", \"williamson\", \"player\", \"match\", \"performance\", \"srh\", \"indian\", \"year\", \"rcb\", \"delhi\", \"exact\", \"xfxfxfxxfxfxx\", \"saving\", \"barcelona\", \"ctl\", \"incredibly\", \"ec\", \"srhvsdc\", \"roller\", \"produced\", \"joy\", \"specially\", \"coaster\", \"skill\", \"greatest\", \"fielding\", \"law\", \"regarding\", \"jofras\", \"chawal\", \"bhaji\", \"changer\", \"hebrew\", \"bar\", \"science\", \"bsh\", \"genius\", \"execution\", \"xfxfxxcxfxfxxfxfxfxxfxfxfxxd\", \"excellently\", \"coincidence\", \"decline\", \"spread\", \"knitted\", \"fixed\", \"foreign\", \"submission\", \"november\", \"sab\", \"everytime\", \"fullfill\", \"haixfxfxaxa\", \"appreciation\", \"tip\", \"performed\", \"past\", \"level\", \"lot\", \"lead\", \"tweet\", \"quality\", \"birthday\", \"day\", \"virat\", \"new\", \"management\", \"franchise\", \"work\", \"india\", \"shot\", \"check\", \"match\", \"ab\", \"side\", \"set\", \"said\", \"player\", \"run\", \"support\", \"v\", \"well\", \"hope\", \"williamson\", \"team\", \"year\", \"next\", \"stoinis\", \"best\", \"play\", \"cricket\", \"released\", \"watson\", \"dekock\", \"retweet\", \"felt\", \"sandeep\", \"gambhir\", \"heartbroken\", \"lefthanded\", \"r\", \"salary\", \"fighter\", \"exmumbai\", \"betting\", \"arrested\", \"involvement\", \"natrajan\", \"enjoyed\", \"rounder\", \"hetmyer\", \"holder\", \"soccer\", \"david\", \"made\", \"pandey\", \"following\", \"bairstow\", \"gautam\", \"xcxainteresting\", \"party\", \"warner\", \"life\", \"lose\", \"rcb\", \"rashid\", \"always\", \"stoinis\", \"really\", \"final\", \"kane\", \"player\", \"hyderabad\", \"thank\", \"fan\", \"garg\", \"williamson\", \"cricket\", \"like\", \"season\", \"win\", \"well\", \"dc\", \"team\", \"run\", \"csk\", \"mi\", \"srh\"], \"Freq\": [119.0, 69.0, 70.0, 80.0, 90.0, 35.0, 124.0, 41.0, 20.0, 55.0, 53.0, 29.0, 39.0, 61.0, 90.0, 54.0, 46.0, 13.0, 18.0, 24.0, 62.0, 48.0, 17.0, 22.0, 21.0, 58.0, 37.0, 22.0, 54.0, 41.0, 6.6114396303009, 4.979621464057268, 14.775654978870673, 3.3469611933387835, 5.785068160016834, 3.2062393031483585, 2.5306306231579536, 2.5306306231579536, 2.5306164189860887, 1.7142981687502437, 1.7142981687502437, 1.7142981687502437, 1.7142948351180713, 1.7142932407722498, 1.7142828050541448, 1.7142657020716952, 1.7142461351002485, 1.714246424981307, 1.7142404824196085, 1.7141880139480257, 1.7123769820352428, 3.346967280841011, 3.346965831435719, 4.966789589123095, 8.057500854753597, 4.16330364864301, 4.163296981378665, 4.978673552996075, 2.5306123606512703, 4.9090389048928555, 4.979605230717993, 34.1565854002755, 4.979637117634425, 4.879964994252686, 6.562429439745608, 4.163266253986468, 4.162837230019934, 8.983645906789867, 3.3469751076295897, 3.3469577147660816, 3.346967280841011, 3.3469771367969994, 20.752213928014953, 7.728903861878004, 24.92854425166343, 8.90794926599195, 9.061318376882305, 5.753887393843714, 7.281284025443656, 7.428578388872741, 13.143117907602038, 7.4286885436749595, 12.240595263020378, 6.411218783216612, 11.319866928442652, 8.047845496458123, 5.795695779382411, 12.699247392777924, 10.70694125889233, 6.14718873778009, 7.671883098152989, 7.005454661403228, 5.890993017829742, 6.832807300600476, 5.854287698444327, 5.869097721721489, 3.1795564760000414, 3.179554671100887, 3.179554671100887, 2.4040544807251583, 1.6285534881720278, 1.6285534881720278, 1.6285534881720278, 1.6285534881720278, 1.6285534881720278, 1.6285501791902444, 1.628548875651966, 1.6285464691197598, 1.6285233062472753, 1.6285232059751, 3.179574926080289, 3.179566102128866, 3.179566102128866, 4.585197097345369, 3.9550755175447185, 2.404056285624313, 3.1796160376721443, 3.179581544043856, 3.124271412171916, 0.8530519942580209, 0.8530519942580209, 0.8530519942580209, 0.8530519942580209, 0.8530519942580209, 0.8530519942580209, 0.8530518939858457, 0.8530518939858457, 1.6285565966094608, 1.6285556941598835, 1.6285503797345948, 3.1795528662017323, 2.4040681177409935, 3.179560486887052, 2.2703910694740945, 6.020236718298741, 7.66725733298791, 8.338666181495114, 4.542780362856717, 5.294299860886605, 5.505923885678485, 5.5061633356329995, 15.445203916976277, 9.217308737872733, 6.192773445909214, 6.718413023446537, 3.179572720092433, 3.911942438636028, 8.30352359168833, 5.2625007464916, 3.6537367742840074, 4.2707892798503195, 5.926928646157389, 4.450961131973585, 4.820185341149608, 4.608391254748491, 3.83826765841006, 3.7704311253162746, 3.3484978444944877, 3.228495313856131, 3.179596384325794, 2.3197192561609725, 1.571441285027741, 1.5714411119060565, 1.5714405925410027, 1.5714404194193181, 1.5714404194193181, 1.5714399000542645, 1.5714373032289957, 1.5714333214302503, 1.57140233264871, 1.5713978314849109, 1.5713831161417213, 1.5713739406924385, 1.571356801645665, 1.571356801645665, 3.068057993005492, 3.0680562617886467, 4.564488248928948, 5.3123562679130885, 3.816313804563097, 0.8231359606683457, 0.8231359606683457, 0.8231359606683457, 0.8231359606683457, 0.8231359606683457, 0.8231359606683457, 0.8231359606683457, 0.8231359606683457, 0.8231359606683457, 0.8231359606683457, 0.8231359606683457, 0.8231359606683457, 0.8231359606683457, 0.8231359606683457, 1.5714411119060565, 13.628774713152309, 2.319752668646097, 1.5714506335987086, 1.5713585328625106, 1.5714506335987086, 1.5714042369872405, 2.319808933193586, 1.5712286915990739, 8.118350272151865, 4.557936285654242, 13.42763640011057, 2.8245509176091645, 5.060317063413802, 2.319756823566527, 5.287853317164034, 5.897507908044969, 14.482892011128467, 4.5648199500766085, 3.8163013398018073, 5.312199073423487, 2.2657554958597927, 4.564315473487735, 3.320222883847786, 6.726335590337331, 3.3339434698376795, 4.230583954711074, 3.2781979411587776, 6.265032779652114, 2.216732801558279, 3.1435217353149603, 2.9206365687427187, 3.5503140674190856, 3.905070176058171, 4.065008644359621, 3.34774403804585, 3.133228612436429, 3.3694528048057446, 3.3218263170612974, 5.752439117091737, 2.5116262117778594, 2.5116262117778594, 2.5116196724454123, 2.5116181862334925, 2.5116048103262147, 2.5115991627209193, 9.672339701095252, 29.730159463966253, 1.701423579934158, 1.7014232826917741, 1.7014226882070063, 1.7014222423434302, 1.7014222423434302, 1.7014222423434302, 1.7014133250719115, 1.7014005436494013, 1.701382709106364, 1.7013714138957736, 3.321785594854695, 3.2714773213700106, 3.321827208788449, 4.887298513012031, 1.6186872027081327, 8.021558346464154, 2.511615213809653, 3.0873823315630675, 2.511596487539464, 2.789755910446217, 27.07860996684935, 10.234815031165272, 12.757524222471345, 4.942210179297055, 7.362435844220125, 6.924000949944805, 8.854830405590318, 3.321792431429526, 5.437317009255191, 12.995633206563761, 20.88571708521046, 10.97692344561666, 9.607347059358336, 8.658827588639681, 5.4766088855056685, 13.172600621245804, 26.965420067038607, 7.011923463664917, 20.32169371680479, 6.815312488796706, 4.9422354448996915, 4.797870763859564, 18.168743350415127, 7.861618164504692, 11.260371405018772, 5.752431983274522, 10.658133366762085, 8.15981529099874, 7.839752420256063, 8.273090202131291, 8.02099834181278, 9.452679957290265, 7.742688514259745, 8.115774670422168, 7.184234873644661, 68.6650763919803, 114.70541520375299, 11.95943372026114, 11.111542480268092, 11.111516643104544, 12.682905105452065, 16.932677289832345, 5.166893607231482, 47.81700155103441, 13.619569858184626, 11.959592718190667, 3.4776558795194887, 3.4775992365070953, 20.937286591728665, 15.318413048314094, 2.6294545935638656, 2.6294545935638656, 2.629447885838714, 2.629421551806636, 2.6292021843507434, 2.624951225644314, 7.604037720691326, 40.09479408477691, 42.892191732007916, 1.7812437428890444, 1.7812434944547795, 1.7812434944547795, 1.7812434944547795, 1.7812434944547795, 1.7812434944547795, 17.809185175928846, 7.60818309483518, 1.7812434944547795, 1.7812434944547795, 1.7812434944547795, 11.933155337458775, 6.867155357013435, 3.477668798101263, 8.010353451514625, 17.92346295030135, 55.55872203819295, 57.18763197649464, 20.081581597236486, 49.36745793595986, 12.807939089756982, 22.7033322442463, 14.766179452011203, 10.687197874842164, 11.111550430164568, 36.80721774566278, 18.66512270489296, 10.979029630853109, 19.036366970542588, 16.119510203910657, 23.145507473731477, 17.570181475739886, 14.393706927355986, 14.47866846473512, 13.336192817076213, 7.917184110268778, 2.430937173934516, 2.430937173934516, 2.430937173934516, 2.4309292407982688, 2.4309182744040445, 3.9993067769758097, 3.9993063103207365, 1.6467729052370972, 1.6467729052370972, 1.6467729052370972, 1.6467729052370972, 1.6467705719617305, 1.646769755315352, 1.646769755315352, 1.6467638054631666, 1.6467620555066413, 1.6467535390515524, 1.6467092068195823, 1.6150730261030457, 1.5666892947858555, 6.204556257758807, 2.43094324045047, 2.4309427737953966, 2.430928307488122, 3.2151204588261746, 0.86259551186574, 0.86259551186574, 0.86259551186574, 0.86259551186574, 2.953047202948892, 0.86259551186574, 33.905604603009394, 3.9993394428309457, 1.6467526057414057, 2.4309406738475663, 16.39031120902636, 26.703694456240424, 4.69904485977297, 5.427369765709728, 5.63006373010353, 16.252494899518023, 6.351980528572765, 18.08543949628494, 3.9992241790278236, 4.931768078138157, 3.035755514860306, 5.56767521337942, 2.430971473082409, 3.2151666576784383, 6.324968666305793, 4.834629158065375, 11.620605438043643, 4.359020373802212, 3.952429408235459, 4.733499403805127, 5.653496814612825, 5.170218087563747, 3.215159191197264, 4.4912316892242945, 4.483660677313933, 4.053082707665795, 4.775843685162758, 3.9249298914168147, 4.412932965557433, 2.242637314503614, 1.5192100677190246, 1.5192100677190246, 1.5192074863520049, 1.519196874065369, 1.5191083905403084, 2.2426456322417883, 2.2426523724778953, 0.7957767260400831, 0.7957767260400831, 0.7957767260400831, 0.7957767260400831, 0.7957767260400831, 0.7957767260400831, 0.7957767260400831, 0.7957767260400831, 0.7957767260400831, 0.7957767260400831, 0.7957767260400831, 0.7957767260400831, 0.7957767260400831, 0.7957767260400831, 0.7957767260400831, 0.7957767260400831, 0.7957767260400831, 0.7957767260400831, 0.7957767260400831, 0.7957767260400831, 0.7957767260400831, 1.5192027538458024, 0.7957767260400831, 0.7957767260400831, 0.7957767260400831, 0.7957767260400831, 0.7957767260400831, 0.7957767260400831, 0.7957767260400831, 0.7957767260400831, 0.7957767260400831, 0.7957767260400831, 0.7957767260400831, 0.7957767260400831, 0.7957767260400831, 0.7957767260400831, 0.7957767260400831, 0.7957767260400831, 0.7957767260400831, 0.7957767260400831, 0.7957767260400831, 0.7957767260400831, 0.7957767260400831, 0.7957767260400831, 0.7957767260400831, 0.7957767260400831, 0.7957767260400831, 0.7957767260400831, 0.7957767260400831, 0.7957767260400831, 0.7957767260400831, 0.7957767260400831, 0.7957767260400831, 0.7957767260400831, 1.5192145134066695, 1.519211645221092, 0.7957767260400831, 0.7957767260400831, 1.5192122188582076, 1.5192093506726303, 1.5136720315970507, 0.7957767260400831, 0.7957767260400831, 0.7957767260400831, 0.7957767260400831, 0.7957767260400831, 0.7957767260400831, 1.5192178118200834, 1.519213652950996, 3.6895260828904424, 0.7957767260400831, 0.7957767260400831, 2.966087650182101, 3.689561648391601, 5.102666202272422, 0.7957767260400831, 0.7957767260400831, 6.448568594439452, 2.9661160452193167, 1.519224695465469, 1.5192295713809503, 0.7957767260400831, 1.5192051918035432, 1.5192218272798916, 7.796427662807332, 2.9661255102317217, 0.7957767260400831, 2.4904254594904134, 6.375289894761545, 7.179684586301171, 3.010264878536817, 6.243885693447845, 5.0569949360504785, 4.413145498108713, 2.966100557017199, 2.7534194337246687, 2.242581815112693, 2.8223511113415847, 4.9908121274908686, 1.8707099388611936, 2.2427140384678075, 2.639655720985734, 2.279959722737807, 2.2427002711770365, 2.363515418157819, 2.827570635455197, 2.537114931592306, 2.242665422722272, 2.2426628413552523, 7.802407048725882, 3.167323427727709, 2.3948073538986603, 2.3948058825243512, 2.3948027295794034, 2.394714026728206, 2.3887999427914823, 3.9382539906406824, 1.6222900188916323, 1.6222900188916323, 1.6222900188916323, 1.6222883373209933, 1.622287496535674, 1.6222841333943965, 1.6222809804494487, 1.6222067811450107, 1.6222067811450107, 1.6222067811450107, 1.6222067811450107, 1.6221742007138837, 1.621758327275271, 8.43046947839789, 4.711713845990768, 3.1673404536304273, 3.1672534323498684, 3.167326790868987, 5.4374738482074765, 3.161100985775092, 0.8497710023139654, 0.8497710023139654, 0.8497710023139654, 0.8497710023139654, 0.8497710023139654, 0.8497710023139654, 2.3948323672619125, 0.8497710023139654, 11.457907879197897, 5.980669930094288, 6.257446788212593, 10.014155049545183, 7.783435568778734, 4.712496196730478, 2.394760690313433, 3.1672887453332836, 5.227686560413091, 9.529679414365903, 3.9398956239768284, 4.335182434043828, 5.484972753649514, 9.508429406203158, 9.355877317849568, 5.650631423954713, 8.040608255997038, 5.149209760662743, 4.824639722240605, 5.145932799880346, 5.484960562262383, 3.896258445506836, 4.615243399619746, 4.497667560160916, 3.9398590498154342, 3.9396665099772896, 4.011245506967205, 1.339424521620638, 1.3393988531405596, 0.7016035910434328, 0.7016035910434328, 0.7016035910434328, 0.7016035910434328, 0.7016035910434328, 0.7016035910434328, 0.7016035910434328, 0.7016035910434328, 0.7016035910434328, 0.7016035910434328, 0.7016035910434328, 0.7016035910434328, 0.7016035910434328, 0.7016035910434328, 0.7016035910434328, 0.7016035910434328, 0.7016035910434328, 0.7016035910434328, 0.7016035910434328, 0.7016035910434328, 0.7016035910434328, 0.7016035910434328, 0.7016035910434328, 0.7016035910434328, 0.7016035910434328, 0.7016035910434328, 0.7016035910434328, 0.7016035910434328, 0.7016035910434328, 0.7016035910434328, 0.7016035910434328, 0.7016035910434328, 0.7016035910434328, 0.7016035910434328, 0.7016035910434328, 6.441978636641608, 0.7016035910434328, 0.7016035910434328, 0.7016035910434328, 0.7016035910434328, 1.339431816872871, 1.3394328976509795, 1.3394344287533, 1.339427583825279, 1.3394360499204627, 3.1912625164446258, 2.579780598697448, 2.6151180799945752, 1.9773233582865026, 2.6151296082943998, 3.252995841487323, 1.9772786861246818, 2.5973580135958376, 1.3394360499204627, 1.3394537026295694, 1.3394401929032123, 1.9773269608801978, 1.3394325373916098, 1.3394561343803137, 3.2529266716883742, 1.3394331678455067, 1.3394792810448055, 1.3394302857705505, 1.3394569449638951, 1.9773193954334378, 1.9131463939403324, 1.3208379301633728, 2.0313348840028467, 1.905229334035698, 1.564783149058495, 1.5566484924946689, 1.6710409295805209, 1.4562341189463035, 1.3595090715363793, 1.3420727882460006, 1.339454783407678, 1.3394528019811456, 1.3394473080257603, 19.414624743521838, 6.2653024719758195, 5.491786267109576, 3.1713283779812462, 2.3978390162014285, 2.3978390162014285, 3.9444995763568325, 1.6243426835425778, 1.6243425794996071, 1.6243425794996071, 1.6243425794996071, 1.6243425794996071, 1.624341226940989, 1.624341226940989, 1.624341226940989, 1.624341226940989, 1.6243321752025428, 1.624323955807862, 1.6243126151240617, 7.03884073395184, 6.265219237599304, 1.538145163223003, 3.9448300168315997, 22.280356027266574, 2.39783443831072, 2.3977978151850534, 2.397842345576489, 3.171012295436428, 0.8508462468407565, 0.8508462468407565, 11.29620002006805, 7.613341879881709, 5.446394816048666, 18.407878324564944, 5.3501658886714285, 4.595820225404262, 9.921267168938082, 4.186888901239262, 19.12729967578992, 8.136233550653069, 9.632464691023014, 5.432432665560053, 3.9449078409736416, 8.18195918773569, 2.3978373515138984, 7.314388969750561, 5.002389774135631, 5.630642848075522, 7.28962923976846, 9.513446191355799, 7.36285052078925, 8.244206016212894, 6.88845286246342, 5.4224204024089895, 5.292035832456685, 4.476654400890616, 4.325008441801162], \"Total\": [119.0, 69.0, 70.0, 80.0, 90.0, 35.0, 124.0, 41.0, 20.0, 55.0, 53.0, 29.0, 39.0, 61.0, 90.0, 54.0, 46.0, 13.0, 18.0, 24.0, 62.0, 48.0, 17.0, 22.0, 21.0, 58.0, 37.0, 22.0, 54.0, 41.0, 7.299626931674014, 5.666996010984098, 17.733418240606046, 4.03433051494892, 7.205522875848651, 4.022607645470083, 3.2179975513730232, 3.2179975513730232, 3.217994786229132, 2.401665096965313, 2.401665096965313, 2.4016651188397695, 2.4016655948100603, 2.401664908452908, 2.401665472597319, 2.4016591720885176, 2.4016593057260196, 2.4016628061208607, 2.401662309901567, 2.401661025985946, 2.4017403712592325, 4.807827205837185, 4.807827213033482, 7.161486647695789, 12.078998192581775, 6.346617279948699, 6.47437512706659, 7.752875841265165, 4.0282001685928055, 8.011925164115235, 8.211628521671852, 80.40183857355855, 8.710920604139414, 8.59138938927532, 12.5052781100795, 7.1682197792691404, 7.175160326468297, 18.856225484879577, 5.540033729356379, 5.558136856654743, 5.581324132799642, 5.666718306171832, 61.34377609875951, 17.596607698942886, 90.18710468751469, 21.637874030232414, 22.471828742674056, 12.524069874639878, 18.945760808332732, 19.78055943029029, 53.88599885705048, 19.877724722136755, 56.688899746954, 17.432239097550532, 62.105269484342124, 30.917562757351075, 14.985984648565372, 132.13009309238862, 90.05661284991089, 20.443718952514516, 54.41167502499349, 38.06942116906002, 20.170024559731782, 112.96071419957264, 39.888064284540306, 48.164863955663265, 3.8710073875676843, 3.8710070765457973, 3.8710071421691667, 3.0955053995842867, 2.320003495595466, 2.320003495595466, 2.320003495595466, 2.320003495595466, 2.320003798374726, 2.3200038644796117, 2.32000426154906, 2.320003609250688, 2.3200035043205434, 2.320003442866222, 4.681207725530895, 4.68733902340418, 4.6873392763735815, 7.010302621154761, 6.247018358976861, 3.8796829937047526, 5.319029512652735, 5.404639320270449, 5.32807177162505, 1.5445020016814588, 1.5445020016814588, 1.5445020016814588, 1.5445020016814588, 1.5445020016814588, 1.5445020016814588, 1.5445019014092838, 1.5445019014092838, 3.092522935374051, 3.0925230313748355, 3.093500695121744, 6.38375940209428, 4.728520966178518, 6.618387964952342, 4.673543918059275, 16.16444929909954, 22.10548304596022, 25.85389412676846, 11.836077573369442, 14.810111915113556, 16.230746235305624, 19.75343969030993, 132.13009309238862, 54.41167502499349, 26.71916918455817, 35.69086209854216, 9.994126535987743, 15.908798678713882, 112.96071419957264, 42.61024271119812, 15.175015039090843, 24.779449314053018, 90.05661284991089, 33.557369055489, 47.145211100503644, 56.688899746954, 19.877724722136755, 30.917562757351075, 46.638810358175775, 13.583318077433482, 13.310131068868222, 3.0139172646876826, 2.2656109288395787, 2.265610755717894, 2.2656109386428924, 2.2656112588210555, 2.2656112588210555, 2.2656110950997936, 2.265611457675455, 2.265611978747761, 2.2656139696585376, 2.265613173993738, 2.265618432841082, 2.2656141952500657, 2.2656149495087616, 2.2656149495087616, 4.546399138613568, 4.5785529370861235, 7.522043167501302, 9.188823751163476, 6.904429508865734, 1.5173056044801838, 1.5173056044801838, 1.5173056044801838, 1.5173056044801838, 1.5173056044801838, 1.5173056044801838, 1.5173056044801838, 1.5173056044801838, 1.5173056044801838, 1.5173056044801838, 1.5173056044801838, 1.5173056044801838, 1.5173056044801838, 1.5173056044801838, 2.9890448480867495, 29.69800214881783, 4.596637620229865, 3.0411144648074475, 3.0411166893580184, 3.049788600418198, 3.049793050008559, 4.672322501121444, 3.0819525971026605, 18.856225484879577, 9.994126535987743, 46.58155376449473, 6.913429206519272, 16.774292786584084, 5.4184981893003155, 20.156019563120722, 24.941703188535968, 132.13009309238862, 17.895717066581717, 13.337743629685445, 39.888064284540306, 5.440982802618069, 35.7138214549975, 16.16444929909954, 112.96071419957264, 18.945760808332732, 37.88085325539286, 18.42546997759708, 124.44503543674887, 6.070393174565076, 17.866101827407974, 14.810111915113556, 35.41226285550521, 62.105269484342124, 90.18710468751469, 33.12230528424391, 26.71916918455817, 54.41167502499349, 4.009808525100137, 7.215917730537562, 3.1996061887607996, 3.1996061887607996, 3.1996062271128984, 3.199606532908051, 3.1996060563582187, 3.1996053216377165, 12.86065680821637, 41.387068196901645, 2.3894043714278768, 2.3894043313335875, 2.389404466338367, 2.389404189916963, 2.3894043232540514, 2.389404415770657, 2.389404492381877, 2.3894042284389903, 2.389406325120645, 2.3894039136504834, 4.82613017172763, 4.7827091750433635, 4.858019657126544, 7.175721902359742, 2.3932842418447855, 12.066951537455147, 3.8374327242076824, 4.78708459528743, 3.9731027830246317, 4.62484172609701, 48.164863955663265, 18.23779679306528, 24.779449314053018, 8.947364758613176, 14.853734670366471, 13.863351460640253, 19.283872795076938, 5.63351882152923, 10.623545481255954, 33.12230528424391, 61.34377609875951, 26.961226476803112, 22.81498851856, 20.319254250723304, 11.123169447534057, 41.712717087803135, 124.44503543674887, 16.973751374755228, 112.96071419957264, 19.61462850604202, 10.973665015705143, 10.517868071002027, 132.13009309238862, 26.71916918455817, 54.41167502499349, 14.832026966649803, 62.105269484342124, 38.06942116906002, 35.7138214549975, 47.74264949583849, 46.638810358175775, 90.05661284991089, 42.61024271119812, 70.43223748492672, 54.79955127941188, 69.46459108638822, 119.92956639397111, 12.64393219119997, 11.795745366935952, 11.795741894991268, 14.30380229382243, 19.143880096553108, 5.85763472033665, 55.377842260915166, 15.872379575926917, 14.190943613275481, 4.161844575731051, 4.16184285548646, 25.08658490830465, 19.062099877321625, 3.3136336485121376, 3.3136336485121376, 3.3136339166941844, 3.3136293180349754, 3.313611509378369, 3.3126074887702903, 10.018154467071254, 54.79955127941188, 58.820234160795685, 2.4654227978373164, 2.4654225494030517, 2.4654225494030517, 2.4654225494030517, 2.4654225494030517, 2.4654225494030517, 24.911329031359454, 10.656014207506795, 2.4654225494030517, 2.4654225494030517, 2.4654225494030517, 17.451121092373384, 9.87571373138951, 4.91015110535877, 11.620577191039626, 27.2548530195568, 90.05661284991089, 124.44503543674887, 38.06942116906002, 112.96071419957264, 22.471828742674056, 47.74264949583849, 28.63708104319911, 18.747253693220408, 19.78055943029029, 132.13009309238862, 46.638810358175775, 20.531630870547104, 56.688899746954, 41.712717087803135, 90.18710468751469, 80.40183857355855, 53.88599885705048, 70.43223748492672, 46.58155376449473, 10.131851449733235, 3.1215329408769534, 3.1215329511661447, 3.121532954595875, 3.121531684892492, 3.1215358867892804, 5.462410938869672, 5.506222264700176, 2.337355317592427, 2.337355317592427, 2.337355317592427, 2.337355317592427, 2.337355802493253, 2.3373556690064063, 2.337355740711046, 2.3373563026969366, 2.337356353888832, 2.3373573066230544, 2.3373540063418576, 2.3359052554980377, 2.343893639035674, 9.524366975829565, 3.8950291119083422, 3.895030185010082, 3.937865948711071, 5.602131751166603, 1.5531779242210701, 1.5531779242210701, 1.5531779242210701, 1.5531779242210701, 5.3571531248471995, 1.5531779242210701, 70.43223748492672, 7.600141981135369, 3.060790987467412, 4.672536626003126, 39.888064284540306, 90.18710468751469, 10.047300948633824, 12.623221004622664, 13.310131068868222, 62.105269484342124, 16.230746235305624, 80.40183857355855, 9.329023969100277, 13.629605879121117, 6.263802199283168, 17.596607698942886, 4.704254085074163, 7.917398975861916, 28.63708104319911, 17.866101827407974, 132.13009309238862, 18.51861995127891, 14.765779943079735, 25.85389412676846, 47.74264949583849, 46.638810358175775, 8.530565080907662, 34.864137229261914, 56.688899746954, 33.12230528424391, 90.05661284991089, 35.69086209854216, 5.109601822344622, 2.9393012355814294, 2.215866907360096, 2.215866907360096, 2.215867307204255, 2.2158685908412536, 2.2158800503122067, 3.7148027728277753, 3.723475638639313, 1.4924335656811545, 1.4924335656811545, 1.4924335656811545, 1.4924335656811545, 1.4924335656811545, 1.4924335656811545, 1.4924335656811545, 1.4924335656811545, 1.4924335656811545, 1.4924335656811545, 1.4924335656811545, 1.4924335656811545, 1.4924335656811545, 1.4924335656811545, 1.4924335656811545, 1.4924335656811545, 1.4924335656811545, 1.4924335656811545, 1.4924335656811545, 1.4924335656811545, 1.4924335656811545, 2.853689901840439, 1.4924335656811545, 1.4924335656811545, 1.4924335656811545, 1.4924335656811545, 1.4924335656811545, 1.4924335656811545, 1.4924335656811545, 1.4924335656811545, 1.4924335656811545, 1.4924335656811545, 1.4924335656811545, 1.4924335656811545, 1.4924335656811545, 1.4924335656811545, 1.4924335656811545, 1.4924335656811545, 1.4924335656811545, 1.4924335656811545, 1.4924335656811545, 1.4924335656811545, 1.4924335656811545, 1.4924335656811545, 1.4924335656811545, 1.4924335656811545, 1.4924335656811545, 1.4924335656811545, 1.4924335656811545, 1.4924335656811545, 1.4924335656811545, 1.4924335656811545, 1.4924335656811545, 1.4924335656811545, 2.9883859103336006, 2.988385938104627, 1.4924335656811545, 1.4924335656811545, 2.991368790823789, 3.0000415210410454, 2.988921246406641, 1.4924335656811545, 1.4924335656811545, 1.4924335656811545, 1.4924335656811545, 1.4924335656811545, 1.4924335656811545, 3.0640769684912272, 3.06407716401459, 8.948640193400584, 1.4924335656811545, 1.4924335656811545, 7.453665318949474, 9.946792151256878, 14.968424713615734, 1.4924335656811545, 1.4924335656811545, 24.941703188535968, 9.154680276616327, 3.701896604605704, 3.74834830262757, 1.4924335656811545, 3.762860820353437, 3.8077000926099274, 42.61024271119812, 10.860052195067421, 1.4924335656811545, 8.47146032453789, 37.88085325539286, 47.145211100503644, 12.5052781100795, 54.41167502499349, 46.58155376449473, 35.7138214549975, 14.853734670366471, 12.824930846475207, 8.27766730563089, 18.51861995127891, 132.13009309238862, 5.994559241184332, 11.544680944470484, 22.70076175414758, 12.524069874639878, 12.229187203275952, 21.637874030232414, 62.105269484342124, 90.05661284991089, 26.71916918455817, 33.557369055489, 8.494187912109105, 3.8590771676360127, 3.086557725926289, 3.086557611454098, 3.0865577165693385, 3.086547540907372, 3.0865808043002945, 5.479677847266567, 2.3140382869915803, 2.3140382869915803, 2.3140382869915803, 2.3140383977283685, 2.314038761373942, 2.314038748085224, 2.3140390029795554, 2.314046845705833, 2.314046845705833, 2.314046845705833, 2.314046845705833, 2.3140312402703116, 2.3140636736830196, 13.16492747819941, 7.592899500970386, 5.380879005340132, 5.410068740430745, 5.418756836926177, 9.320310902946549, 5.492078085059569, 1.5415192704139133, 1.5415192704139133, 1.5415192704139133, 1.5415192704139133, 1.5415192704139133, 1.5415192704139133, 4.472687358485722, 1.5415192704139133, 22.85083762063088, 13.562169164902665, 14.985984648565372, 34.864137229261914, 24.941703188535968, 13.381468747052335, 4.4978794567974765, 7.751936962915981, 20.156019563120722, 70.43223748492672, 13.241673863006463, 18.945760808332732, 33.557369055489, 124.44503543674887, 132.13009309238862, 42.61024271119812, 112.96071419957264, 35.7138214549975, 35.69086209854216, 47.145211100503644, 62.105269484342124, 17.866101827407974, 56.688899746954, 58.820234160795685, 47.74264949583849, 53.88599885705048, 119.92956639397111, 2.044643362016886, 2.0446506585822757, 1.4068216253418373, 1.4068216253418373, 1.4068216253418373, 1.4068216253418373, 1.4068216253418373, 1.4068216253418373, 1.4068216253418373, 1.4068216253418373, 1.4068216253418373, 1.4068216253418373, 1.4068216253418373, 1.4068216253418373, 1.4068216253418373, 1.4068216253418373, 1.4068216253418373, 1.4068216253418373, 1.4068216253418373, 1.4068216253418373, 1.4068216253418373, 1.4068216253418373, 1.4068216253418373, 1.4068216253418373, 1.4068216253418373, 1.4068216253418373, 1.4068216253418373, 1.4068216253418373, 1.4068216253418373, 1.4068216253418373, 1.4068216253418373, 1.4068216253418373, 1.4068216253418373, 1.4068216253418373, 1.4068216253418373, 1.4068216253418373, 1.4068216253418373, 13.337743629685445, 1.4068216253418373, 1.4068216253418373, 1.4068216253418373, 1.4068216253418373, 2.79294758991047, 2.817160740336108, 2.828820681388537, 2.828820431433084, 2.89285087506701, 8.03222612146742, 6.5586964433889285, 8.951617765547788, 6.688003483725764, 10.361378099123533, 19.75343969030993, 9.67461431747026, 16.973751374755228, 5.128127530408484, 5.222716557282746, 5.936984743520981, 16.774292786584084, 6.618387964952342, 6.707865085262973, 62.105269484342124, 7.752875841265165, 9.922847758081218, 10.106406631942084, 11.924718919212395, 47.145211100503644, 46.58155376449473, 12.824930846475207, 70.43223748492672, 61.34377609875951, 26.961226476803112, 35.69086209854216, 132.13009309238862, 47.74264949583849, 22.81498851856, 37.88085325539286, 46.638810358175775, 33.12230528424391, 20.319254250723304, 20.106418587484544, 6.956973391432825, 6.183479671633398, 3.862986676658957, 3.089489543774157, 3.089489835917, 5.359933186940441, 2.3159932111153063, 2.3159931070723356, 2.3159931070723356, 2.3159931070723356, 2.3159931258733684, 2.3159932258880263, 2.3159932258880263, 2.3159932258880263, 2.3159932258880263, 2.31599416956931, 2.3159941844961542, 2.315993384244275, 10.047132302396337, 9.201239694003583, 2.320083882339159, 6.219204363288105, 35.41226285550521, 3.8129271929260184, 3.8649930633369185, 3.873667295113857, 5.434646153131145, 1.5424967744134852, 1.5424967744134852, 21.147588853788967, 14.211991964110426, 10.99143593382205, 53.88599885705048, 10.901387420952595, 10.802457310456568, 37.88085325539286, 10.10235899373917, 124.44503543674887, 33.557369055489, 47.145211100503644, 18.747253693220408, 10.711490180912971, 39.888064284540306, 4.588425667288008, 35.69086209854216, 20.319254250723304, 27.922851341371672, 54.41167502499349, 112.96071419957264, 61.34377609875951, 90.18710468751469, 132.13009309238862, 46.58155376449473, 41.712717087803135, 80.40183857355855, 56.688899746954], \"Category\": [\"Default\", \"Default\", \"Default\", \"Default\", \"Default\", \"Default\", \"Default\", \"Default\", \"Default\", \"Default\", \"Default\", \"Default\", \"Default\", \"Default\", \"Default\", \"Default\", \"Default\", \"Default\", \"Default\", \"Default\", \"Default\", \"Default\", \"Default\", \"Default\", \"Default\", \"Default\", \"Default\", \"Default\", \"Default\", \"Default\", \"Topic1\", \"Topic1\", \"Topic1\", \"Topic1\", \"Topic1\", \"Topic1\", \"Topic1\", \"Topic1\", \"Topic1\", \"Topic1\", \"Topic1\", \"Topic1\", \"Topic1\", \"Topic1\", \"Topic1\", \"Topic1\", \"Topic1\", \"Topic1\", \"Topic1\", \"Topic1\", \"Topic1\", \"Topic1\", \"Topic1\", \"Topic1\", \"Topic1\", \"Topic1\", \"Topic1\", \"Topic1\", \"Topic1\", \"Topic1\", \"Topic1\", \"Topic1\", \"Topic1\", \"Topic1\", \"Topic1\", \"Topic1\", \"Topic1\", \"Topic1\", \"Topic1\", \"Topic1\", \"Topic1\", \"Topic1\", \"Topic1\", \"Topic1\", \"Topic1\", \"Topic1\", \"Topic1\", \"Topic1\", \"Topic1\", \"Topic1\", \"Topic1\", \"Topic1\", \"Topic1\", \"Topic1\", \"Topic1\", \"Topic1\", \"Topic1\", \"Topic1\", \"Topic1\", \"Topic1\", \"Topic1\", \"Topic1\", \"Topic1\", \"Topic1\", \"Topic1\", \"Topic1\", \"Topic2\", \"Topic2\", \"Topic2\", \"Topic2\", \"Topic2\", \"Topic2\", \"Topic2\", \"Topic2\", \"Topic2\", \"Topic2\", \"Topic2\", \"Topic2\", \"Topic2\", \"Topic2\", \"Topic2\", \"Topic2\", \"Topic2\", \"Topic2\", \"Topic2\", \"Topic2\", \"Topic2\", \"Topic2\", \"Topic2\", \"Topic2\", \"Topic2\", \"Topic2\", \"Topic2\", \"Topic2\", \"Topic2\", \"Topic2\", \"Topic2\", \"Topic2\", \"Topic2\", \"Topic2\", \"Topic2\", \"Topic2\", \"Topic2\", \"Topic2\", \"Topic2\", \"Topic2\", \"Topic2\", \"Topic2\", \"Topic2\", \"Topic2\", \"Topic2\", \"Topic2\", \"Topic2\", \"Topic2\", \"Topic2\", \"Topic2\", \"Topic2\", \"Topic2\", \"Topic2\", \"Topic2\", \"Topic2\", \"Topic2\", \"Topic2\", \"Topic2\", \"Topic2\", \"Topic2\", \"Topic2\", \"Topic2\", \"Topic2\", \"Topic2\", \"Topic3\", \"Topic3\", \"Topic3\", \"Topic3\", \"Topic3\", \"Topic3\", \"Topic3\", \"Topic3\", \"Topic3\", \"Topic3\", \"Topic3\", \"Topic3\", \"Topic3\", \"Topic3\", \"Topic3\", \"Topic3\", \"Topic3\", \"Topic3\", \"Topic3\", \"Topic3\", \"Topic3\", \"Topic3\", \"Topic3\", \"Topic3\", \"Topic3\", \"Topic3\", \"Topic3\", \"Topic3\", \"Topic3\", \"Topic3\", \"Topic3\", \"Topic3\", \"Topic3\", \"Topic3\", \"Topic3\", \"Topic3\", \"Topic3\", \"Topic3\", \"Topic3\", \"Topic3\", \"Topic3\", \"Topic3\", \"Topic3\", \"Topic3\", \"Topic3\", \"Topic3\", \"Topic3\", \"Topic3\", \"Topic3\", \"Topic3\", \"Topic3\", \"Topic3\", \"Topic3\", \"Topic3\", \"Topic3\", \"Topic3\", \"Topic3\", \"Topic3\", \"Topic3\", \"Topic3\", \"Topic3\", \"Topic3\", \"Topic3\", \"Topic3\", \"Topic3\", \"Topic3\", \"Topic3\", \"Topic3\", \"Topic3\", \"Topic3\", \"Topic3\", \"Topic3\", \"Topic4\", \"Topic4\", \"Topic4\", \"Topic4\", \"Topic4\", \"Topic4\", \"Topic4\", \"Topic4\", \"Topic4\", \"Topic4\", \"Topic4\", \"Topic4\", \"Topic4\", \"Topic4\", \"Topic4\", \"Topic4\", \"Topic4\", \"Topic4\", \"Topic4\", \"Topic4\", \"Topic4\", \"Topic4\", \"Topic4\", \"Topic4\", \"Topic4\", \"Topic4\", \"Topic4\", \"Topic4\", \"Topic4\", \"Topic4\", \"Topic4\", \"Topic4\", \"Topic4\", \"Topic4\", \"Topic4\", \"Topic4\", \"Topic4\", \"Topic4\", \"Topic4\", \"Topic4\", \"Topic4\", \"Topic4\", \"Topic4\", \"Topic4\", \"Topic4\", \"Topic4\", \"Topic4\", \"Topic4\", \"Topic4\", \"Topic4\", \"Topic4\", \"Topic4\", \"Topic4\", \"Topic4\", \"Topic4\", \"Topic4\", \"Topic4\", \"Topic4\", \"Topic4\", \"Topic4\", \"Topic4\", \"Topic4\", \"Topic4\", \"Topic4\", \"Topic4\", \"Topic5\", \"Topic5\", \"Topic5\", \"Topic5\", \"Topic5\", \"Topic5\", \"Topic5\", \"Topic5\", \"Topic5\", \"Topic5\", \"Topic5\", \"Topic5\", \"Topic5\", \"Topic5\", \"Topic5\", \"Topic5\", \"Topic5\", \"Topic5\", \"Topic5\", \"Topic5\", \"Topic5\", \"Topic5\", \"Topic5\", \"Topic5\", \"Topic5\", \"Topic5\", \"Topic5\", \"Topic5\", \"Topic5\", \"Topic5\", \"Topic5\", \"Topic5\", \"Topic5\", \"Topic5\", \"Topic5\", \"Topic5\", \"Topic5\", \"Topic5\", \"Topic5\", \"Topic5\", \"Topic5\", \"Topic5\", \"Topic5\", \"Topic5\", \"Topic5\", \"Topic5\", \"Topic5\", \"Topic5\", \"Topic5\", \"Topic5\", \"Topic5\", \"Topic5\", \"Topic5\", \"Topic5\", \"Topic5\", \"Topic5\", \"Topic5\", \"Topic5\", \"Topic5\", \"Topic6\", \"Topic6\", \"Topic6\", \"Topic6\", \"Topic6\", \"Topic6\", \"Topic6\", \"Topic6\", \"Topic6\", \"Topic6\", \"Topic6\", \"Topic6\", \"Topic6\", \"Topic6\", \"Topic6\", \"Topic6\", \"Topic6\", \"Topic6\", \"Topic6\", \"Topic6\", \"Topic6\", \"Topic6\", \"Topic6\", \"Topic6\", \"Topic6\", \"Topic6\", \"Topic6\", \"Topic6\", \"Topic6\", \"Topic6\", \"Topic6\", \"Topic6\", \"Topic6\", \"Topic6\", \"Topic6\", \"Topic6\", \"Topic6\", \"Topic6\", \"Topic6\", \"Topic6\", \"Topic6\", \"Topic6\", \"Topic6\", \"Topic6\", \"Topic6\", \"Topic6\", \"Topic6\", \"Topic6\", \"Topic6\", \"Topic6\", \"Topic6\", \"Topic6\", \"Topic6\", \"Topic6\", \"Topic6\", \"Topic6\", \"Topic6\", \"Topic6\", \"Topic6\", \"Topic6\", \"Topic6\", \"Topic6\", \"Topic6\", \"Topic6\", \"Topic7\", \"Topic7\", \"Topic7\", \"Topic7\", \"Topic7\", \"Topic7\", \"Topic7\", \"Topic7\", \"Topic7\", \"Topic7\", \"Topic7\", \"Topic7\", \"Topic7\", \"Topic7\", \"Topic7\", \"Topic7\", \"Topic7\", \"Topic7\", \"Topic7\", \"Topic7\", \"Topic7\", \"Topic7\", \"Topic7\", \"Topic7\", \"Topic7\", \"Topic7\", \"Topic7\", \"Topic7\", \"Topic7\", \"Topic7\", \"Topic7\", \"Topic7\", \"Topic7\", \"Topic7\", \"Topic7\", \"Topic7\", \"Topic7\", \"Topic7\", \"Topic7\", \"Topic7\", \"Topic7\", \"Topic7\", \"Topic7\", \"Topic7\", \"Topic7\", \"Topic7\", \"Topic7\", \"Topic7\", \"Topic7\", \"Topic7\", \"Topic7\", \"Topic7\", \"Topic7\", \"Topic7\", \"Topic7\", \"Topic7\", \"Topic7\", \"Topic7\", \"Topic7\", \"Topic7\", \"Topic7\", \"Topic7\", \"Topic7\", \"Topic7\", \"Topic7\", \"Topic7\", \"Topic7\", \"Topic7\", \"Topic7\", \"Topic7\", \"Topic7\", \"Topic7\", \"Topic7\", \"Topic7\", \"Topic7\", \"Topic7\", \"Topic7\", \"Topic7\", \"Topic7\", \"Topic7\", \"Topic7\", \"Topic7\", \"Topic7\", \"Topic7\", \"Topic7\", \"Topic7\", \"Topic7\", \"Topic7\", \"Topic7\", \"Topic7\", \"Topic7\", \"Topic7\", \"Topic7\", \"Topic7\", \"Topic7\", \"Topic7\", \"Topic7\", \"Topic7\", \"Topic7\", \"Topic7\", \"Topic7\", \"Topic7\", \"Topic7\", \"Topic7\", \"Topic7\", \"Topic7\", \"Topic7\", \"Topic7\", \"Topic7\", \"Topic7\", \"Topic7\", \"Topic7\", \"Topic7\", \"Topic7\", \"Topic7\", \"Topic7\", \"Topic7\", \"Topic7\", \"Topic8\", \"Topic8\", \"Topic8\", \"Topic8\", \"Topic8\", \"Topic8\", \"Topic8\", \"Topic8\", \"Topic8\", \"Topic8\", \"Topic8\", \"Topic8\", \"Topic8\", \"Topic8\", \"Topic8\", \"Topic8\", \"Topic8\", \"Topic8\", \"Topic8\", \"Topic8\", \"Topic8\", \"Topic8\", \"Topic8\", \"Topic8\", \"Topic8\", \"Topic8\", \"Topic8\", \"Topic8\", \"Topic8\", \"Topic8\", \"Topic8\", \"Topic8\", \"Topic8\", \"Topic8\", \"Topic8\", \"Topic8\", \"Topic8\", \"Topic8\", \"Topic8\", \"Topic8\", \"Topic8\", \"Topic8\", \"Topic8\", \"Topic8\", \"Topic8\", \"Topic8\", \"Topic8\", \"Topic8\", \"Topic8\", \"Topic8\", \"Topic8\", \"Topic8\", \"Topic8\", \"Topic8\", \"Topic8\", \"Topic8\", \"Topic8\", \"Topic8\", \"Topic8\", \"Topic8\", \"Topic8\", \"Topic8\", \"Topic8\", \"Topic9\", \"Topic9\", \"Topic9\", \"Topic9\", \"Topic9\", \"Topic9\", \"Topic9\", \"Topic9\", \"Topic9\", \"Topic9\", \"Topic9\", \"Topic9\", \"Topic9\", \"Topic9\", \"Topic9\", \"Topic9\", \"Topic9\", \"Topic9\", \"Topic9\", \"Topic9\", \"Topic9\", \"Topic9\", \"Topic9\", \"Topic9\", \"Topic9\", \"Topic9\", \"Topic9\", \"Topic9\", \"Topic9\", \"Topic9\", \"Topic9\", \"Topic9\", \"Topic9\", \"Topic9\", \"Topic9\", \"Topic9\", \"Topic9\", \"Topic9\", \"Topic9\", \"Topic9\", \"Topic9\", \"Topic9\", \"Topic9\", \"Topic9\", \"Topic9\", \"Topic9\", \"Topic9\", \"Topic9\", \"Topic9\", \"Topic9\", \"Topic9\", \"Topic9\", \"Topic9\", \"Topic9\", \"Topic9\", \"Topic9\", \"Topic9\", \"Topic9\", \"Topic9\", \"Topic9\", \"Topic9\", \"Topic9\", \"Topic9\", \"Topic9\", \"Topic9\", \"Topic9\", \"Topic9\", \"Topic9\", \"Topic9\", \"Topic9\", \"Topic9\", \"Topic9\", \"Topic9\", \"Topic9\", \"Topic9\", \"Topic9\", \"Topic9\", \"Topic9\", \"Topic9\", \"Topic9\", \"Topic10\", \"Topic10\", \"Topic10\", \"Topic10\", \"Topic10\", \"Topic10\", \"Topic10\", \"Topic10\", \"Topic10\", \"Topic10\", \"Topic10\", \"Topic10\", \"Topic10\", \"Topic10\", \"Topic10\", \"Topic10\", \"Topic10\", \"Topic10\", \"Topic10\", \"Topic10\", \"Topic10\", \"Topic10\", \"Topic10\", \"Topic10\", \"Topic10\", \"Topic10\", \"Topic10\", \"Topic10\", \"Topic10\", \"Topic10\", \"Topic10\", \"Topic10\", \"Topic10\", \"Topic10\", \"Topic10\", \"Topic10\", \"Topic10\", \"Topic10\", \"Topic10\", \"Topic10\", \"Topic10\", \"Topic10\", \"Topic10\", \"Topic10\", \"Topic10\", \"Topic10\", \"Topic10\", \"Topic10\", \"Topic10\", \"Topic10\", \"Topic10\", \"Topic10\", \"Topic10\", \"Topic10\", \"Topic10\", \"Topic10\", \"Topic10\"], \"logprob\": [30.0, 29.0, 28.0, 27.0, 26.0, 25.0, 24.0, 23.0, 22.0, 21.0, 20.0, 19.0, 18.0, 17.0, 16.0, 15.0, 14.0, 13.0, 12.0, 11.0, 10.0, 9.0, 8.0, 7.0, 6.0, 5.0, 4.0, 3.0, 2.0, 1.0, -5.238100051879883, -5.521599769592285, -4.433899879455566, -5.918900012969971, -5.371600151062012, -5.9618000984191895, -6.198400020599365, -6.198400020599365, -6.198500156402588, -6.587900161743164, -6.587900161743164, -6.587900161743164, -6.587900161743164, -6.587900161743164, -6.587900161743164, -6.587900161743164, -6.587900161743164, -6.587900161743164, -6.587900161743164, -6.5879998207092285, -6.589000225067139, -5.918900012969971, -5.918900012969971, -5.524099826812744, -5.040299892425537, -5.7006001472473145, -5.7006001472473145, -5.5218000411987305, -6.198500156402588, -5.535799980163574, -5.521599769592285, -3.5959999561309814, -5.521599769592285, -5.541800022125244, -5.24560022354126, -5.7006001472473145, -5.700699806213379, -4.93149995803833, -5.918900012969971, -5.918900012969971, -5.918900012969971, -5.918900012969971, -4.094299793243408, -5.081900119781494, -3.910900115966797, -4.940000057220459, -4.922900199890137, -5.376999855041504, -5.141600131988525, -5.121600151062012, -4.551000118255615, -5.121600151062012, -4.622200012207031, -5.268899917602539, -4.700399875640869, -5.041500091552734, -5.369800090789795, -4.585400104522705, -4.75600004196167, -5.3109002113342285, -5.089399814605713, -5.180200099945068, -5.353499889373779, -5.2052001953125, -5.3597002029418945, -5.3572001457214355, -5.6016998291015625, -5.6016998291015625, -5.6016998291015625, -5.88129997253418, -6.2708001136779785, -6.2708001136779785, -6.2708001136779785, -6.2708001136779785, -6.2708001136779785, -6.2708001136779785, -6.2708001136779785, -6.2708001136779785, -6.2708001136779785, -6.2708001136779785, -5.6016998291015625, -5.6016998291015625, -5.6016998291015625, -5.235599994659424, -5.383500099182129, -5.88129997253418, -5.6016998291015625, -5.6016998291015625, -5.61929988861084, -6.917399883270264, -6.917399883270264, -6.917399883270264, -6.917399883270264, -6.917399883270264, -6.917399883270264, -6.917399883270264, -6.917399883270264, -6.2708001136779785, -6.2708001136779785, -6.2708001136779785, -5.6016998291015625, -5.88129997253418, -5.6016998291015625, -5.938499927520752, -4.963399887084961, -4.721499919891357, -4.637599945068359, -5.244900226593018, -5.091800212860107, -5.052700042724609, -5.052599906921387, -4.021200180053711, -4.537399768829346, -4.935100078582764, -4.853600025177002, -5.6016998291015625, -5.394400119781494, -4.6417999267578125, -5.097899913787842, -5.462699890136719, -5.306700229644775, -4.979000091552734, -5.265399932861328, -5.185699939727783, -5.230599880218506, -5.41349983215332, -5.431300163269043, -5.550000190734863, -5.58650016784668, -5.6016998291015625, -5.769999980926514, -6.15939998626709, -6.15939998626709, -6.15939998626709, -6.15939998626709, -6.15939998626709, -6.15939998626709, -6.15939998626709, -6.1595001220703125, -6.1595001220703125, -6.1595001220703125, -6.1595001220703125, -6.1595001220703125, -6.1595001220703125, -6.1595001220703125, -5.4903998374938965, -5.4903998374938965, -5.093100070953369, -4.941400051116943, -5.272200107574463, -6.806099891662598, -6.806099891662598, -6.806099891662598, -6.806099891662598, -6.806099891662598, -6.806099891662598, -6.806099891662598, -6.806099891662598, -6.806099891662598, -6.806099891662598, -6.806099891662598, -6.806099891662598, -6.806099891662598, -6.806099891662598, -6.15939998626709, -3.999300003051758, -5.769999980926514, -6.15939998626709, -6.1595001220703125, -6.15939998626709, -6.1595001220703125, -5.769999980926514, -6.159599781036377, -4.517300128936768, -5.094600200653076, -4.014100074768066, -5.5731000900268555, -4.989999771118164, -5.769999980926514, -4.946000099182129, -4.836900234222412, -3.938499927520752, -5.093100070953369, -5.272200107574463, -4.941400051116943, -5.793499946594238, -5.093200206756592, -5.411399841308594, -4.705399990081787, -5.407299995422363, -5.169099807739258, -5.424099922180176, -4.776500225067139, -5.815400123596191, -5.466100215911865, -5.539599895477295, -5.344399929046631, -5.249199867248535, -5.209000110626221, -5.403200149536133, -5.469399929046631, -5.396699905395508, -5.951499938964844, -5.402400016784668, -6.231100082397461, -6.231100082397461, -6.231100082397461, -6.231100082397461, -6.231100082397461, -6.231100082397461, -4.882699966430664, -3.7597999572753906, -6.620500087738037, -6.620500087738037, -6.620500087738037, -6.620500087738037, -6.620500087738037, -6.620500087738037, -6.620500087738037, -6.620500087738037, -6.62060022354126, -6.62060022354126, -5.951499938964844, -5.966800212860107, -5.951499938964844, -5.565400123596191, -6.670400142669678, -5.069900035858154, -6.231100082397461, -6.024700164794922, -6.231100082397461, -6.125999927520752, -3.8531999588012695, -4.826200008392334, -4.605899810791016, -5.554200172424316, -5.155600070953369, -5.2170000076293945, -4.9710001945495605, -5.951499938964844, -5.458700180053711, -4.587399959564209, -4.1128997802734375, -4.756199836730957, -4.889500141143799, -4.9934000968933105, -5.451499938964844, -4.57390022277832, -3.8573999404907227, -5.204400062561035, -4.1402997970581055, -5.232800006866455, -5.554200172424316, -5.583799839019775, -4.252299785614014, -5.090000152587891, -4.7307000160217285, -5.402400016784668, -4.785699844360352, -5.052800178527832, -5.092800140380859, -5.039000034332275, -5.069900035858154, -4.905700206756592, -5.105199813842773, -5.058199882507324, -5.180099964141846, -3.436500072479248, -2.9233999252319336, -5.184199810028076, -5.257800102233887, -5.257800102233887, -5.125500202178955, -4.83650016784668, -6.023499965667725, -3.7983999252319336, -5.054299831390381, -5.184199810028076, -6.419400215148926, -6.419400215148926, -4.624199867248535, -4.936699867248535, -6.698999881744385, -6.698999881744385, -6.698999881744385, -6.698999881744385, -6.699100017547607, -6.700699806213379, -5.6371002197265625, -3.9744999408721924, -3.907099962234497, -7.088500022888184, -7.088500022888184, -7.088500022888184, -7.088500022888184, -7.088500022888184, -7.088500022888184, -4.786099910736084, -5.636499881744385, -7.088500022888184, -7.088500022888184, -7.088500022888184, -5.186399936676025, -5.738999843597412, -6.419400215148926, -5.585000038146973, -4.779699802398682, -3.6482999324798584, -3.6194000244140625, -4.665999889373779, -3.7664999961853027, -5.115699768066406, -4.543300151824951, -4.973400115966797, -5.2967000007629395, -5.257800102233887, -4.060100078582764, -4.739099979400635, -5.269800186157227, -4.719399929046631, -4.885700225830078, -4.52400016784668, -4.799600124359131, -4.999000072479248, -4.993100166320801, -5.075300216674805, -4.84089994430542, -6.021599769592285, -6.021599769592285, -6.021599769592285, -6.021599769592285, -6.021599769592285, -5.523799896240234, -5.523799896240234, -6.411099910736084, -6.411099910736084, -6.411099910736084, -6.411099910736084, -6.411099910736084, -6.411099910736084, -6.411099910736084, -6.411099910736084, -6.411099910736084, -6.411099910736084, -6.411099910736084, -6.430500030517578, -6.460899829864502, -5.08459997177124, -6.021599769592285, -6.021599769592285, -6.021599769592285, -5.742000102996826, -7.057700157165527, -7.057700157165527, -7.057700157165527, -7.057700157165527, -5.827000141143799, -7.057700157165527, -3.3863000869750977, -5.523799896240234, -6.411099910736084, -6.021599769592285, -4.1132001876831055, -3.6250998973846436, -5.362500190734863, -5.218400001525879, -5.18179988861084, -4.121600151062012, -5.061100006103516, -4.014800071716309, -5.523799896240234, -5.314199924468994, -5.7993998527526855, -5.19290018081665, -6.021599769592285, -5.742000102996826, -5.065400123596191, -5.334099769592285, -4.457099914550781, -5.437600135803223, -5.535600185394287, -5.355199813842773, -5.177599906921387, -5.267000198364258, -5.742000102996826, -5.407800197601318, -5.40939998626709, -5.51039981842041, -5.34630012512207, -5.542500019073486, -4.938600063323975, -5.615499973297119, -6.005000114440918, -6.005000114440918, -6.005000114440918, -6.005000114440918, -6.005000114440918, -5.615499973297119, -5.615499973297119, -6.651599884033203, -6.651599884033203, -6.651599884033203, -6.651599884033203, -6.651599884033203, -6.651599884033203, -6.651599884033203, -6.651599884033203, -6.651599884033203, -6.651599884033203, -6.651599884033203, -6.651599884033203, -6.651599884033203, -6.651599884033203, -6.651599884033203, -6.651599884033203, -6.651599884033203, -6.651599884033203, -6.651599884033203, -6.651599884033203, -6.651599884033203, -6.005000114440918, -6.651599884033203, -6.651599884033203, -6.651599884033203, -6.651599884033203, -6.651599884033203, -6.651599884033203, -6.651599884033203, -6.651599884033203, -6.651599884033203, -6.651599884033203, -6.651599884033203, -6.651599884033203, -6.651599884033203, -6.651599884033203, -6.651599884033203, -6.651599884033203, -6.651599884033203, -6.651599884033203, -6.651599884033203, -6.651599884033203, -6.651599884033203, -6.651599884033203, -6.651599884033203, -6.651599884033203, -6.651599884033203, -6.651599884033203, -6.651599884033203, -6.651599884033203, -6.651599884033203, -6.651599884033203, -6.651599884033203, -6.651599884033203, -6.005000114440918, -6.005000114440918, -6.651599884033203, -6.651599884033203, -6.005000114440918, -6.005000114440918, -6.008600234985352, -6.651599884033203, -6.651599884033203, -6.651599884033203, -6.651599884033203, -6.651599884033203, -6.651599884033203, -6.005000114440918, -6.005000114440918, -5.117599964141846, -6.651599884033203, -6.651599884033203, -5.335899829864502, -5.117599964141846, -4.793399810791016, -6.651599884033203, -6.651599884033203, -4.559299945831299, -5.335899829864502, -6.004899978637695, -6.004899978637695, -6.651599884033203, -6.005000114440918, -6.004899978637695, -4.369500160217285, -5.335899829864502, -6.651599884033203, -5.510700225830078, -4.570700168609619, -4.451900005340576, -5.321100234985352, -4.5914998054504395, -4.8024001121521, -4.938600063323975, -5.335899829864502, -5.410299777984619, -5.615499973297119, -5.3856000900268555, -4.815499782562256, -5.796800136566162, -5.615499973297119, -5.452499866485596, -5.598999977111816, -5.615499973297119, -5.563000202178955, -5.383699893951416, -5.492099761962891, -5.615499973297119, -5.615499973297119, -4.751100063323975, -5.652599811553955, -5.932199954986572, -5.932199954986572, -5.932199954986572, -5.932199954986572, -5.934700012207031, -5.434700012207031, -6.321599960327148, -6.321599960327148, -6.321599960327148, -6.321599960327148, -6.321599960327148, -6.321700096130371, -6.321700096130371, -6.321700096130371, -6.321700096130371, -6.321700096130371, -6.321700096130371, -6.321700096130371, -6.322000026702881, -4.673600196838379, -5.25540018081665, -5.652599811553955, -5.652599811553955, -5.652599811553955, -5.112199783325195, -5.654600143432617, -6.968299865722656, -6.968299865722656, -6.968299865722656, -6.968299865722656, -6.968299865722656, -6.968299865722656, -5.932199954986572, -6.968299865722656, -4.366799831390381, -5.017000198364258, -4.971700191497803, -4.501500129699707, -4.753499984741211, -5.255300045013428, -5.932199954986572, -5.652599811553955, -5.151500225067139, -4.55109977722168, -5.434299945831299, -5.338699817657471, -5.103499889373779, -4.553299903869629, -4.569499969482422, -5.073699951171875, -4.7210001945495605, -5.166600227355957, -5.231800079345703, -5.167300224304199, -5.103499889373779, -5.445499897003174, -5.276100158691406, -5.3018999099731445, -5.434299945831299, -5.4344000816345215, -5.416399955749512, -5.6656999588012695, -5.665800094604492, -6.312399864196777, -6.312399864196777, -6.312399864196777, -6.312399864196777, -6.312399864196777, -6.312399864196777, -6.312399864196777, -6.312399864196777, -6.312399864196777, -6.312399864196777, -6.312399864196777, -6.312399864196777, -6.312399864196777, -6.312399864196777, -6.312399864196777, -6.312399864196777, -6.312399864196777, -6.312399864196777, -6.312399864196777, -6.312399864196777, -6.312399864196777, -6.312399864196777, -6.312399864196777, -6.312399864196777, -6.312399864196777, -6.312399864196777, -6.312399864196777, -6.312399864196777, -6.312399864196777, -6.312399864196777, -6.312399864196777, -6.312399864196777, -6.312399864196777, -6.312399864196777, -6.312399864196777, -4.095099925994873, -6.312399864196777, -6.312399864196777, -6.312399864196777, -6.312399864196777, -5.6656999588012695, -5.6656999588012695, -5.6656999588012695, -5.6656999588012695, -5.6656999588012695, -4.797599792480469, -5.010300159454346, -4.996699810028076, -5.276199817657471, -4.996699810028076, -4.77839994430542, -5.276299953460693, -5.003499984741211, -5.6656999588012695, -5.6656999588012695, -5.6656999588012695, -5.276199817657471, -5.6656999588012695, -5.6656999588012695, -4.77839994430542, -5.6656999588012695, -5.6656999588012695, -5.6656999588012695, -5.6656999588012695, -5.276199817657471, -5.309199810028076, -5.679699897766113, -5.249300003051758, -5.313399791717529, -5.510200023651123, -5.515399932861328, -5.444499969482422, -5.582099914550781, -5.650899887084961, -5.66379976272583, -5.6656999588012695, -5.6656999588012695, -5.6656999588012695, -3.829400062561035, -4.960400104522705, -5.092100143432617, -5.641200065612793, -5.92080020904541, -5.92080020904541, -5.423099994659424, -6.310299873352051, -6.310299873352051, -6.310299873352051, -6.310299873352051, -6.310299873352051, -6.310299873352051, -6.310299873352051, -6.310299873352051, -6.310299873352051, -6.310299873352051, -6.310299873352051, -6.310299873352051, -4.843999862670898, -4.960400104522705, -6.364799976348877, -5.422999858856201, -3.691699981689453, -5.92080020904541, -5.92080020904541, -5.92080020904541, -5.641300201416016, -6.956900119781494, -6.956900119781494, -4.3709001541137695, -4.765500068664551, -5.100399971008301, -3.8826000690460205, -5.118299961090088, -5.270199775695801, -4.500699996948242, -5.363399982452393, -3.8443000316619873, -4.699100017547607, -4.530300140380859, -5.103000164031982, -5.422999858856201, -4.69350004196167, -5.92080020904541, -4.805600166320801, -5.185500144958496, -5.067200183868408, -4.808899879455566, -4.542699813842773, -4.798900127410889, -4.6859002113342285, -4.865499973297119, -5.104899883270264, -5.129199981689453, -5.296500205993652, -5.330999851226807], \"loglift\": [30.0, 29.0, 28.0, 27.0, 26.0, 25.0, 24.0, 23.0, 22.0, 21.0, 20.0, 19.0, 18.0, 17.0, 16.0, 15.0, 14.0, 13.0, 12.0, 11.0, 10.0, 9.0, 8.0, 7.0, 6.0, 5.0, 4.0, 3.0, 2.0, 1.0, 1.9906, 1.9603, 1.9071, 1.9028, 1.87, 1.8628, 1.8493, 1.8493, 1.8493, 1.7524, 1.7524, 1.7524, 1.7524, 1.7524, 1.7524, 1.7524, 1.7524, 1.7524, 1.7524, 1.7524, 1.7513, 1.7274, 1.7274, 1.7237, 1.6847, 1.668, 1.6481, 1.6467, 1.6247, 1.5998, 1.5894, 1.2335, 1.5304, 1.524, 1.4448, 1.5462, 1.5452, 1.3482, 1.5857, 1.5824, 1.5782, 1.5631, 1.0058, 1.2669, 0.8037, 1.2021, 1.1814, 1.3118, 1.1333, 1.1102, 0.6786, 1.1054, 0.5568, 1.0893, 0.3873, 0.7437, 1.1396, -0.2526, -0.0399, 0.8879, 0.1306, 0.3969, 0.8588, -0.7157, 0.1707, -0.0153, 2.2613, 2.2613, 2.2613, 2.2052, 2.1042, 2.1042, 2.1042, 2.1042, 2.1042, 2.1042, 2.1042, 2.1042, 2.1041, 2.1041, 2.0712, 2.0699, 2.0699, 2.0335, 2.0009, 1.9794, 1.9435, 1.9275, 1.9243, 1.8644, 1.8644, 1.8644, 1.8644, 1.8644, 1.8644, 1.8644, 1.8644, 1.8167, 1.8167, 1.8164, 1.761, 1.7816, 1.7249, 1.7361, 1.4704, 1.3992, 1.3265, 1.5004, 1.4294, 1.377, 1.1806, 0.3116, 0.6825, 0.996, 0.788, 1.3128, 1.0552, -0.1523, 0.3666, 1.0341, 0.6998, -0.2629, 0.4379, 0.1776, -0.0517, 0.8135, 0.3539, -0.1759, 1.0212, 1.0263, 2.3433, 2.2392, 2.2392, 2.2392, 2.2392, 2.2392, 2.2392, 2.2392, 2.2392, 2.2392, 2.2392, 2.2392, 2.2392, 2.2392, 2.2392, 2.2118, 2.2047, 2.1056, 2.0571, 2.0122, 1.9935, 1.9935, 1.9935, 1.9935, 1.9935, 1.9935, 1.9935, 1.9935, 1.9935, 1.9935, 1.9935, 1.9935, 1.9935, 1.9935, 1.9621, 1.8262, 1.9212, 1.9449, 1.9448, 1.942, 1.942, 1.9049, 1.9314, 1.7624, 1.82, 1.3612, 1.71, 1.4067, 1.7567, 1.267, 1.1631, 0.3943, 1.2389, 1.3538, 0.589, 1.729, 0.5478, 1.0223, -0.2159, 0.8677, 0.413, 0.8786, -0.3838, 1.5977, 0.8675, 0.9816, 0.3051, -0.1615, -0.4944, 0.3132, 0.4618, -0.1767, 1.8763, 1.8379, 1.8224, 1.8224, 1.8224, 1.8224, 1.8224, 1.8224, 1.7796, 1.7337, 1.725, 1.725, 1.725, 1.7249, 1.7249, 1.7249, 1.7249, 1.7249, 1.7249, 1.7249, 1.691, 1.6848, 1.6844, 1.6805, 1.6735, 1.6562, 1.6407, 1.6259, 1.6059, 1.559, 1.4886, 1.4868, 1.4006, 1.471, 1.3627, 1.3703, 1.2862, 1.5363, 1.3947, 1.1289, 0.9871, 1.1659, 1.1996, 1.2115, 1.356, 0.9119, 0.5352, 1.1805, 0.3492, 1.0074, 1.2668, 1.2796, 0.0804, 0.8411, 0.4892, 1.1174, 0.302, 0.5243, 0.5482, 0.3117, 0.3042, -0.1896, 0.3592, -0.0963, 0.0327, 1.5392, 1.5062, 1.4951, 1.491, 1.491, 1.4305, 1.428, 1.4253, 1.404, 1.3977, 1.3797, 1.3712, 1.3711, 1.37, 1.3321, 1.3195, 1.3195, 1.3195, 1.3195, 1.3194, 1.3181, 1.275, 1.2383, 1.235, 1.2257, 1.2257, 1.2257, 1.2257, 1.2257, 1.2257, 1.2151, 1.2139, 1.2257, 1.2257, 1.2257, 1.1707, 1.1874, 1.2058, 1.1787, 1.1316, 1.0678, 0.7732, 0.9111, 0.723, 0.9886, 0.8074, 0.8884, 0.9888, 0.974, 0.2727, 0.635, 0.9248, 0.4595, 0.6, 0.1907, 0.0299, 0.2307, -0.0312, 0.3, 2.06, 2.0566, 2.0566, 2.0566, 2.0566, 2.0566, 1.9949, 1.9869, 1.9564, 1.9564, 1.9564, 1.9564, 1.9564, 1.9564, 1.9564, 1.9564, 1.9564, 1.9564, 1.9564, 1.9376, 1.9038, 1.8781, 1.8352, 1.8352, 1.8243, 1.7514, 1.7185, 1.7185, 1.7185, 1.7185, 1.711, 1.7185, 1.5756, 1.6646, 1.6868, 1.6532, 1.4172, 1.0895, 1.5467, 1.4626, 1.4462, 0.966, 1.3685, 0.8147, 1.4596, 1.2901, 1.5823, 1.1559, 1.6465, 1.4055, 0.7964, 0.9995, -0.1244, 0.8601, 0.9887, 0.6088, 0.1731, 0.1071, 1.3309, 0.2573, -0.2305, 0.2059, -0.6302, 0.0991, 2.6468, 2.5229, 2.4159, 2.4159, 2.4159, 2.4159, 2.4158, 2.2887, 2.2864, 2.1645, 2.1645, 2.1645, 2.1645, 2.1645, 2.1645, 2.1645, 2.1645, 2.1645, 2.1645, 2.1645, 2.1645, 2.1645, 2.1645, 2.1645, 2.1645, 2.1645, 2.1645, 2.1645, 2.1645, 2.1645, 2.1629, 2.1645, 2.1645, 2.1645, 2.1645, 2.1645, 2.1645, 2.1645, 2.1645, 2.1645, 2.1645, 2.1645, 2.1645, 2.1645, 2.1645, 2.1645, 2.1645, 2.1645, 2.1645, 2.1645, 2.1645, 2.1645, 2.1645, 2.1645, 2.1645, 2.1645, 2.1645, 2.1645, 2.1645, 2.1645, 2.1645, 2.1645, 2.1645, 2.1168, 2.1168, 2.1645, 2.1645, 2.1158, 2.1129, 2.113, 2.1645, 2.1645, 2.1645, 2.1645, 2.1645, 2.1645, 2.0918, 2.0918, 1.9074, 2.1645, 2.1645, 1.8719, 1.8016, 1.7172, 2.1645, 2.1645, 1.4407, 1.6664, 1.9027, 1.8903, 2.1645, 1.8864, 1.8745, 1.0949, 1.4955, 2.1645, 1.5691, 1.0114, 0.9114, 1.3693, 0.6284, 0.5729, 0.7024, 1.1824, 1.2548, 1.4874, 0.9122, -0.4828, 1.6288, 1.1548, 0.6416, 1.0899, 1.0972, 0.5791, -0.296, -0.776, 0.3157, 0.0878, 2.3261, 2.2135, 2.1573, 2.1573, 2.1573, 2.1572, 2.1548, 2.0807, 2.0559, 2.0559, 2.0559, 2.0559, 2.0559, 2.0559, 2.0559, 2.0558, 2.0558, 2.0558, 2.0558, 2.0558, 2.0555, 1.9653, 1.9339, 1.8811, 1.8756, 1.8741, 1.8722, 1.8586, 1.8155, 1.8155, 1.8155, 1.8155, 1.8155, 1.8155, 1.7864, 1.8155, 1.7207, 1.5923, 1.5377, 1.1636, 1.2465, 1.3674, 1.7807, 1.516, 1.0615, 0.4108, 1.1988, 0.9362, 0.5998, -0.1607, -0.2367, 0.3907, -0.2315, 0.4743, 0.4099, 0.196, -0.0158, 0.8881, -0.0972, -0.1599, -0.0836, -0.2047, -0.9868, 2.8356, 2.8355, 2.5628, 2.5628, 2.5628, 2.5628, 2.5628, 2.5628, 2.5628, 2.5628, 2.5628, 2.5628, 2.5628, 2.5628, 2.5628, 2.5628, 2.5628, 2.5628, 2.5628, 2.5628, 2.5628, 2.5628, 2.5628, 2.5628, 2.5628, 2.5628, 2.5628, 2.5628, 2.5628, 2.5628, 2.5628, 2.5628, 2.5628, 2.5628, 2.5628, 2.5628, 2.5628, 2.5308, 2.5628, 2.5628, 2.5628, 2.5628, 2.5237, 2.5151, 2.5109, 2.5109, 2.4886, 2.3355, 2.3255, 2.028, 2.04, 1.8818, 1.4548, 1.6708, 1.3814, 1.9161, 1.8978, 1.7696, 1.1204, 1.6609, 1.6475, 0.3093, 1.5027, 1.256, 1.2376, 1.0722, 0.0871, 0.0661, 0.9854, -0.2874, -0.2133, 0.4119, 0.1262, -1.1118, -0.2314, 0.4383, -0.0817, -0.2916, 0.0506, 0.5392, 2.3861, 2.3164, 2.3025, 2.2238, 2.1677, 2.1677, 2.1145, 2.0664, 2.0664, 2.0664, 2.0664, 2.0664, 2.0664, 2.0664, 2.0664, 2.0664, 2.0664, 2.0664, 2.0664, 2.0653, 2.0368, 2.0101, 1.9659, 1.9578, 1.9573, 1.9437, 1.9415, 1.8824, 1.8262, 1.8262, 1.7941, 1.7969, 1.719, 1.347, 1.7094, 1.5665, 1.0814, 1.5403, 0.5484, 1.0042, 0.833, 1.1825, 1.4222, 0.837, 1.7722, 0.8361, 1.0195, 0.8199, 0.411, -0.0532, 0.3011, 0.0288, -0.5328, 0.2705, 0.3565, -0.467, -0.152]}, \"token.table\": {\"Topic\": [8, 1, 4, 9, 1, 5, 9, 7, 4, 3, 6, 4, 6, 7, 1, 3, 4, 6, 8, 9, 10, 2, 2, 4, 9, 3, 3, 9, 1, 5, 7, 8, 10, 1, 5, 2, 4, 7, 8, 7, 2, 6, 8, 10, 2, 3, 7, 8, 5, 1, 2, 3, 5, 6, 7, 8, 10, 6, 10, 1, 4, 5, 6, 7, 10, 7, 9, 9, 2, 4, 5, 6, 7, 1, 2, 3, 4, 6, 7, 8, 10, 7, 2, 4, 5, 6, 2, 4, 8, 7, 7, 2, 8, 1, 1, 2, 3, 4, 5, 6, 7, 8, 9, 10, 3, 4, 5, 10, 10, 9, 1, 10, 1, 2, 3, 6, 7, 7, 2, 3, 4, 9, 2, 7, 8, 3, 7, 7, 7, 3, 5, 7, 3, 5, 7, 6, 10, 9, 8, 1, 3, 5, 6, 7, 8, 3, 3, 7, 8, 2, 7, 10, 2, 4, 7, 3, 5, 8, 10, 5, 2, 4, 5, 6, 8, 7, 1, 7, 5, 4, 2, 4, 5, 6, 8, 9, 6, 5, 4, 7, 9, 1, 4, 7, 9, 10, 2, 6, 6, 1, 2, 3, 9, 9, 7, 7, 1, 3, 4, 5, 9, 2, 3, 2, 6, 6, 2, 5, 6, 8, 1, 2, 4, 9, 10, 1, 4, 5, 8, 10, 9, 1, 2, 3, 4, 5, 7, 10, 1, 3, 5, 6, 4, 8, 10, 1, 2, 3, 4, 5, 7, 8, 9, 1, 3, 5, 6, 8, 10, 3, 5, 9, 1, 6, 7, 9, 4, 10, 5, 6, 8, 8, 5, 2, 4, 9, 1, 3, 5, 2, 2, 3, 6, 7, 7, 4, 1, 2, 4, 6, 2, 3, 4, 6, 7, 6, 8, 4, 9, 5, 7, 2, 3, 6, 8, 10, 10, 2, 5, 8, 10, 5, 3, 4, 5, 6, 9, 10, 9, 7, 9, 9, 4, 4, 6, 8, 9, 10, 2, 10, 2, 4, 5, 6, 9, 1, 3, 4, 6, 8, 10, 2, 4, 10, 2, 9, 5, 10, 2, 4, 1, 3, 4, 5, 7, 8, 10, 1, 4, 5, 6, 6, 3, 2, 3, 4, 5, 8, 10, 7, 9, 2, 10, 9, 5, 7, 9, 7, 3, 7, 8, 10, 5, 7, 4, 6, 9, 10, 9, 7, 10, 1, 2, 4, 5, 6, 7, 8, 9, 10, 2, 7, 10, 5, 7, 10, 9, 2, 4, 5, 6, 7, 8, 9, 1, 2, 3, 4, 5, 7, 8, 3, 6, 7, 7, 2, 3, 4, 5, 6, 8, 9, 2, 3, 4, 5, 6, 7, 7, 2, 7, 1, 2, 3, 4, 5, 6, 7, 8, 9, 10, 8, 1, 2, 3, 4, 5, 7, 10, 9, 1, 2, 5, 2, 9, 4, 9, 8, 2, 4, 5, 6, 9, 1, 2, 5, 6, 9, 10, 6, 4, 5, 6, 8, 10, 1, 9, 7, 3, 6, 10, 4, 7, 8, 1, 2, 5, 2, 8, 3, 7, 8, 10, 1, 3, 4, 5, 7, 9, 10, 4, 1, 4, 1, 5, 6, 10, 1, 3, 5, 9, 1, 2, 3, 4, 5, 6, 8, 9, 1, 2, 3, 4, 5, 7, 8, 10, 7, 2, 1, 7, 10, 3, 4, 6, 10, 3, 1, 5, 3, 8, 7, 9, 5, 10, 9, 1, 5, 8, 2, 3, 4, 5, 6, 7, 8, 10, 2, 2, 1, 7, 8, 4, 5, 7, 1, 6, 7, 8, 10, 9, 1, 5, 9, 1, 2, 4, 6, 7, 8, 9, 10, 7, 7, 9, 4, 5, 6, 9, 1, 2, 8, 10, 1, 2, 4, 5, 6, 7, 5, 9, 1, 2, 5, 8, 10, 3, 4, 5, 7, 1, 4, 1, 2, 3, 5, 6, 8, 10, 6, 10, 2, 4, 7, 5, 7, 1, 6, 1, 3, 4, 10, 1, 4, 5, 8, 9, 2, 3, 6, 7, 8, 10, 1, 1, 3, 4, 7, 10, 6, 1, 3, 5, 10, 3, 4, 5, 10, 1, 4, 5, 6, 7, 8, 1, 2, 4, 5, 8, 9, 1, 2, 3, 4, 5, 8, 10, 1, 2, 3, 6, 9, 1, 2, 3, 4, 5, 6, 2, 3, 5, 6, 7, 9, 10, 1, 10, 8, 1, 3, 4, 5, 6, 7, 8, 9, 7, 2, 4, 5, 5, 4, 7, 1, 4, 5, 6, 10, 7, 3, 7, 1, 1, 5, 6, 1, 1, 3, 5, 6, 8, 9, 6, 7, 7, 4, 8, 2, 4, 5, 6, 8, 2, 4, 5, 7, 8, 3, 1, 2, 3, 10, 3, 10, 2, 1, 2, 9, 3, 4, 10, 3, 4, 5, 6, 7, 9, 3, 4, 5, 6, 8, 9, 1, 2, 1, 2, 4, 6, 8, 9, 10, 1, 3, 7, 10, 7, 7, 2, 5, 2, 5, 6, 8, 9, 1, 3, 9, 8, 8, 6, 1, 2, 3, 5, 6, 7, 8, 10, 1, 3, 5, 9, 7, 7, 10, 3, 7, 10, 3, 10, 6, 9, 2, 3, 5, 7, 9, 6, 5, 3, 4, 5, 6, 8, 9, 10, 6, 9, 6, 2, 1, 3, 4, 5, 6, 8, 9, 10, 1, 2, 3, 4, 5, 6, 7, 8, 10, 1, 2, 3, 4, 5, 6, 7, 8, 9, 10, 7, 7, 5, 3, 4, 6, 7, 10, 7, 7, 5, 7, 7, 4, 10, 1, 3, 6, 8, 3, 2, 6, 9, 7, 1, 2, 3, 4, 6, 7, 8, 10, 7, 8, 1, 3, 4, 3, 4, 8, 1, 5, 6, 8, 10, 5, 2, 4, 5, 7, 9, 5, 6, 8, 10, 1, 5, 7, 8, 10, 8, 1, 7, 8, 3, 1, 4, 7, 8, 10, 8, 1, 4, 5, 6, 8, 10, 1, 2, 5, 4, 5, 8, 2, 5, 6, 7, 10, 2, 8, 9, 7, 7, 9, 4, 10, 8, 7, 7, 10, 3, 6, 3, 4, 6, 7, 8, 1, 1, 4, 5, 6, 8, 7, 9, 5, 10, 4, 5, 1, 5, 1, 2, 3, 4, 5, 6, 7, 8, 9, 10, 8, 9, 1, 7, 10, 1, 5, 6, 9, 10, 10, 2, 3, 4, 5, 6, 8, 9, 10, 3, 3, 10, 9, 1, 2, 8, 10, 8, 2, 3, 9, 2, 4, 5, 3, 6, 7, 1, 2, 3, 4, 5, 6, 7, 10, 1, 3, 4, 5, 7, 8, 5, 3, 4, 5, 8, 9, 6, 7, 4, 6, 8, 10, 3, 1, 3, 7, 2, 3, 7, 9, 5, 7, 1, 2, 6, 8, 9, 10, 7, 2, 3, 8, 9, 7, 8, 7, 10, 7, 1, 3, 8, 2, 3, 5, 6, 9, 9, 1, 2, 3, 4, 5, 6, 8, 10, 7, 9, 2, 4, 5, 6, 4, 8, 9, 10, 2, 8, 1, 3, 4, 6, 8, 9, 10, 1, 2, 3, 5, 6, 7, 8, 9, 10, 6, 7, 9, 4, 7, 3, 1, 5, 6, 8, 10, 2, 5, 6, 7, 8, 9, 10, 1, 2, 7, 7, 7, 2, 6, 7, 9, 10, 2, 3, 4, 5, 9, 6, 6, 1, 1, 2, 3, 4, 5, 6, 7, 8, 9, 10, 7, 1, 7, 8, 2, 4, 6, 7, 9, 10, 6, 7, 1, 6, 3, 8, 10, 1, 6, 3, 8, 9, 2, 1, 2, 10, 1, 2, 3, 4, 5, 6, 7, 8, 9, 2, 4, 5, 9, 1, 8, 1, 3, 6, 7, 8, 9, 10, 7, 7, 1, 2, 6, 1, 4, 5, 6, 7, 10, 8, 1, 2, 4, 5, 4, 7, 9, 6, 1, 3, 4, 5, 9, 1, 3, 4, 6, 1, 2, 3, 6, 8, 6, 7, 7, 7, 1, 2, 8, 3, 4, 5, 6, 8, 9, 2, 7, 1, 2, 3, 3, 2, 7, 1, 10, 1, 7, 8, 9, 10, 8, 1, 4, 5, 6, 1, 2, 4, 8, 10, 6, 10, 4, 6, 7, 10, 7, 8, 1, 2, 3, 4, 5, 6, 7, 9, 10, 4, 5, 3, 1, 3, 6, 7, 8, 10, 8, 1, 2, 3, 4, 5, 6, 7, 8, 9, 10, 1, 2, 3, 4, 5, 6, 8, 10, 5, 6, 9, 1, 2, 3, 4, 5, 6, 2, 4, 5, 8, 7, 1, 6, 7, 9, 1, 2, 5, 6, 7, 10, 8, 2, 10, 4, 1, 5, 3, 4, 5, 7, 2, 6, 2, 6, 8, 2, 4, 8, 5, 6, 10, 7, 9, 3, 4, 5, 3, 1, 8, 9, 6, 7, 3, 6, 7, 2, 5, 6, 7, 8, 10, 1, 1, 2, 3, 4, 5, 6, 8, 9, 4, 6, 8, 10, 1, 2, 5, 6, 7, 7, 3], \"Freq\": [0.6487106708250815, 0.6449219750672632, 0.12898439501345266, 0.12898439501345266, 0.5415129485770349, 0.18050431619234497, 0.18050431619234497, 0.6700465756032462, 0.8370286994850089, 0.8827641707440026, 0.6438412395679054, 0.7481654002232141, 0.6534258654671675, 0.32671293273358376, 0.18514305981695842, 0.09257152990847921, 0.09257152990847921, 0.09257152990847921, 0.09257152990847921, 0.09257152990847921, 0.46285764954239605, 0.7749921249632485, 0.5640126629987101, 0.18800422099957, 0.18800422099957, 0.8827629184778687, 0.35804467065995166, 0.35804467065995166, 0.6240697332514532, 0.12481394665029064, 0.12481394665029064, 0.12481394665029064, 0.8635603842205263, 0.6088926193877584, 0.36533557163265507, 0.23608680479880523, 0.3541302071982078, 0.23608680479880523, 0.11804340239940261, 0.6700465756032462, 0.2580000340002348, 0.2580000340002348, 0.3870000510003522, 0.1290000170001174, 0.12080698137260833, 0.24161396274521665, 0.24161396274521665, 0.24161396274521665, 0.8112199673375489, 0.11603667847057039, 0.3094311425881877, 0.11603667847057039, 0.11603667847057039, 0.19339446411761732, 0.038678892823523464, 0.038678892823523464, 0.07735778564704693, 0.2581533012041003, 0.5163066024082006, 0.0792190835947336, 0.1584381671894672, 0.1584381671894672, 0.39609541797366804, 0.1584381671894672, 0.0792190835947336, 0.6700465756032462, 0.7108221696243932, 0.7108221696243932, 0.1467393861376252, 0.0733696930688126, 0.36684846534406296, 0.36684846534406296, 0.0733696930688126, 0.15103830684030373, 0.07551915342015186, 0.15103830684030373, 0.15103830684030373, 0.07551915342015186, 0.07551915342015186, 0.30207661368060745, 0.07551915342015186, 0.6700465756032462, 0.08028475708711943, 0.12042713563067915, 0.7225628137840749, 0.08028475708711943, 0.4279407736539502, 0.2139703868269751, 0.2139703868269751, 0.6700465756032462, 0.6700465756032462, 0.6467211535031326, 0.3233605767515663, 0.9322575700986204, 0.06432411069151768, 0.06432411069151768, 0.06432411069151768, 0.17153096184404715, 0.407386034379612, 0.10720685115252947, 0.021441370230505893, 0.04288274046101179, 0.021441370230505893, 0.021441370230505893, 0.0777565263510588, 0.777565263510588, 0.0777565263510588, 0.0777565263510588, 0.8635603842205263, 0.7108221696243932, 0.5375068583402938, 0.35833790556019585, 0.06161146169760014, 0.3696687701856008, 0.12322292339520027, 0.3696687701856008, 0.12322292339520027, 0.6700465756032462, 0.28953677506023734, 0.1930245167068249, 0.28953677506023734, 0.28953677506023734, 0.8620676666207644, 0.6692576059484684, 0.3346288029742342, 0.882763228496979, 0.6700465756032462, 0.6700465756032462, 0.6700465756032462, 0.3675806508775673, 0.3675806508775673, 0.18379032543878365, 0.20365972014764158, 0.6109791604429248, 0.6700465756032462, 0.5134749811972815, 0.25673749059864076, 0.7108221696243932, 0.6487106708250815, 0.3694757930714114, 0.1583467684591763, 0.10556451230611753, 0.05278225615305877, 0.05278225615305877, 0.21112902461223507, 0.6590630108049931, 0.22349764397443916, 0.44699528794887833, 0.22349764397443916, 0.6474578853969281, 0.5315104904178052, 0.5315104904178052, 0.5550786689406463, 0.18502622298021543, 0.18502622298021543, 0.15191880117166764, 0.07595940058583382, 0.6076752046866706, 0.15191880117166764, 0.9933118286723887, 0.07338142673397996, 0.11007214010096994, 0.6604328406058196, 0.03669071336698998, 0.07338142673397996, 0.6700465756032462, 0.8326946015410899, 0.13878243359018164, 0.9053565849554879, 0.8370288458029853, 0.1555704101494531, 0.4667112304483593, 0.20742721353260415, 0.10371360676630208, 0.10371360676630208, 0.7108221696243932, 0.6407108423587952, 0.9056309901399345, 0.9376153885868977, 0.6700465756032462, 0.7108221696243932, 0.29815745763789353, 0.14907872881894677, 0.29815745763789353, 0.14907872881894677, 0.14907872881894677, 0.6474578853969281, 0.8556675564992273, 0.8556677809735461, 0.8327556408726269, 0.3288268204213472, 0.6576536408426944, 0.7108221696243932, 0.7108221696243932, 0.6700465756032462, 0.6700465756032462, 0.0483242734296827, 0.02416213671484135, 0.7248641014452405, 0.1932970937187308, 0.02416213671484135, 0.8620676666207644, 0.6590630108049931, 0.5155060357367439, 0.25775301786837196, 0.6438412395679054, 0.8620676243887214, 0.18208044104841847, 0.18208044104841847, 0.5462413231452554, 0.09842880921325181, 0.14764321381987772, 0.44292964145963315, 0.049214404606625906, 0.24607202303312953, 0.11986752120403127, 0.3116555551304813, 0.3835760678529001, 0.04794700848161251, 0.11986752120403127, 0.7108221696243932, 0.06752143439101976, 0.3376071719550988, 0.2025643031730593, 0.06752143439101976, 0.13504286878203953, 0.06752143439101976, 0.13504286878203953, 0.8327554452606876, 0.8827636942074394, 0.357006955358291, 0.5355104330374365, 0.16079227206344737, 0.16079227206344737, 0.6431690882537895, 0.050624094622393846, 0.3037445677343631, 0.10124818924478769, 0.15187228386718155, 0.15187228386718155, 0.050624094622393846, 0.10124818924478769, 0.15187228386718155, 0.2772014922379579, 0.044352238758073266, 0.2550253728589213, 0.29937761161699455, 0.03326417906855495, 0.08870447751614653, 0.6635882223552843, 0.9325399027822779, 0.7108221696243932, 0.5819780449296743, 0.23279121797186975, 0.11639560898593487, 0.11639560898593487, 0.8370287023153392, 0.8086061999908256, 0.9588961542829448, 0.008338227428547347, 0.03335290971418939, 0.6487106708250815, 0.9053505360639481, 0.21622361568769158, 0.6486708470630747, 0.21622361568769158, 0.4772959470185015, 0.42426306401644576, 0.05303288300205572, 0.8620675295506932, 0.6474578853969281, 0.882764038508518, 0.33332871994817914, 0.6666574398963583, 0.6700465756032462, 0.8370286430684245, 0.6623065814276833, 0.08278832267846041, 0.08278832267846041, 0.16557664535692082, 0.1348433362814841, 0.06742166814074205, 0.40453000884445234, 0.20226500442222617, 0.1348433362814841, 0.8556679358703935, 0.8642898933584456, 0.9376156426894713, 0.7108221696243932, 0.8112199673375489, 0.6700465756032462, 0.3711849311398587, 0.18559246556992934, 0.1237283103799529, 0.1237283103799529, 0.18559246556992934, 0.8635600267861212, 0.10125850416477193, 0.7088095291534035, 0.10125850416477193, 0.10125850416477193, 0.720834222761198, 0.199058434720416, 0.099529217360208, 0.099529217360208, 0.49764608680104006, 0.099529217360208, 0.099529217360208, 0.7108221696243932, 0.6700465756032462, 0.48908284866539053, 0.7108221696243932, 0.8370287490244606, 0.21257355192034336, 0.4251471038406867, 0.21257355192034336, 0.7108221696243932, 0.8635603842205263, 0.646516744978876, 0.323258372489438, 0.05098235736108708, 0.3568765015276096, 0.5098235736108708, 0.05098235736108708, 0.05098235736108708, 0.15042093687974378, 0.12535078073311984, 0.05014031229324793, 0.40112249834598346, 0.05014031229324793, 0.20056124917299173, 0.2088954101593346, 0.6266862304780038, 0.6473561317047787, 0.8620675541139613, 0.7108221696243932, 0.8112199673375489, 0.8635604215128202, 0.6408602599791212, 0.21362008665970708, 0.03214270449569732, 0.04821405674354598, 0.2169632553459569, 0.4580335390636868, 0.01607135224784866, 0.0803567612392433, 0.15267784635456227, 0.11460581755254994, 0.05730290877627497, 0.6876349053152996, 0.11460581755254994, 0.8556684158982648, 0.8827640994697906, 0.03649664921164049, 0.05474497381746073, 0.1277382722407417, 0.7299329842328097, 0.018248324605820244, 0.03649664921164049, 0.6700465756032462, 0.7108221696243932, 0.258732676517828, 0.517465353035656, 0.7108221696243932, 0.27013180183256685, 0.5402636036651337, 0.27013180183256685, 0.6700465756032462, 0.2683243631714178, 0.40248654475712664, 0.1341621815857089, 0.1341621815857089, 0.8112199673375489, 0.6700465756032462, 0.38294247410595683, 0.19147123705297842, 0.19147123705297842, 0.19147123705297842, 0.7108221696243932, 0.1865694897907525, 0.74627795916301, 0.2587526081142308, 0.1293763040571154, 0.0646881520285577, 0.16172038007139425, 0.09703222804283655, 0.0646881520285577, 0.09703222804283655, 0.03234407601427885, 0.1293763040571154, 0.21793967528541236, 0.21793967528541236, 0.4358793505708247, 0.18400461995558898, 0.18400461995558898, 0.552013859866767, 0.7108221696243932, 0.36190116195909144, 0.18095058097954572, 0.18095058097954572, 0.13571293573465928, 0.04523764524488643, 0.04523764524488643, 0.04523764524488643, 0.08661997718342893, 0.2598599315502868, 0.17323995436685785, 0.08661997718342893, 0.08661997718342893, 0.17323995436685785, 0.08661997718342893, 0.18666630889489885, 0.5599989266846965, 0.18666630889489885, 0.6700465756032462, 0.09922594060482959, 0.24806485151207397, 0.19845188120965918, 0.09922594060482959, 0.049612970302414794, 0.24806485151207397, 0.049612970302414794, 0.1085453995166329, 0.16281809927494936, 0.05427269975831645, 0.48845429782484806, 0.1085453995166329, 0.1085453995166329, 0.6700465756032462, 0.3342951237131184, 0.6685902474262369, 0.07040560694134675, 0.11734267823557791, 0.07040560694134675, 0.18774828517692466, 0.07040560694134675, 0.07040560694134675, 0.18774828517692466, 0.1408112138826935, 0.023468535647115582, 0.07040560694134675, 0.6487106708250815, 0.11227894023493037, 0.22455788046986075, 0.11227894023493037, 0.29941050729314767, 0.07485262682328692, 0.07485262682328692, 0.07485262682328692, 0.7108221696243932, 0.15664750768519506, 0.4699425230555852, 0.3132950153703901, 0.8620676666207644, 0.7108221696243932, 0.7817726630293987, 0.2605908876764662, 0.8642897575373871, 0.42243724485633144, 0.08448744897126628, 0.2534623469137989, 0.16897489794253256, 0.08448744897126628, 0.11722552849847068, 0.11722552849847068, 0.11722552849847068, 0.35167658549541203, 0.11722552849847068, 0.23445105699694135, 0.6438412395679054, 0.6629677740205092, 0.08287097175256365, 0.1657419435051273, 0.08287097175256365, 0.8635603897288048, 0.8327294756474448, 0.7108221696243932, 0.6700465756032462, 0.09953088800885905, 0.1990617760177181, 0.6967162160620134, 0.8356717372017479, 0.6700465756032462, 0.6487106708250815, 0.17210849057843328, 0.08605424528921664, 0.6884339623137331, 0.6467211334270532, 0.3233605667135266, 0.10868100747899184, 0.10868100747899184, 0.10868100747899184, 0.652086044873951, 0.11127090240427819, 0.11127090240427819, 0.4079933088156867, 0.22254180480855637, 0.03709030080142606, 0.07418060160285211, 0.07418060160285211, 0.8370286854396379, 0.20720535178644503, 0.6216160553593351, 0.8327554028845441, 0.5867526081421698, 0.10668229238948543, 0.26670573097371353, 0.7457848899030317, 0.6590630108049931, 0.8112199673375489, 0.7108221696243932, 0.05961503192550629, 0.05961503192550629, 0.29807515962753145, 0.11923006385101258, 0.11923006385101258, 0.17884509577651886, 0.05961503192550629, 0.11923006385101258, 0.05100285714264518, 0.03400190476176345, 0.03400190476176345, 0.03400190476176345, 0.7310409523779142, 0.017000952380881725, 0.0680038095235269, 0.03400190476176345, 0.6700465756032462, 0.6474578853969281, 0.8458606116700583, 0.056390707444670556, 0.11278141488934111, 0.3691059644440442, 0.3691059644440442, 0.1845529822220221, 0.8635603842205263, 0.6590630108049931, 0.06991148083974029, 0.9088492509166237, 0.6590630108049931, 0.6479661887398362, 0.6700465756032462, 0.7108221696243932, 0.8456097301925803, 0.14093495503209671, 0.7108221696243932, 0.9589531171279597, 0.1824924800093551, 0.7299699200374204, 0.11919885594683466, 0.05959942797341733, 0.14899856993354332, 0.089399141960126, 0.089399141960126, 0.05959942797341733, 0.14899856993354332, 0.23839771189366932, 0.8620676633786972, 0.6474578853969281, 0.6981790577810757, 0.13963581155621513, 0.13963581155621513, 0.06300252556438765, 0.8820353579014271, 0.06300252556438765, 0.4790774931837025, 0.07984624886395042, 0.15969249772790084, 0.15969249772790084, 0.07984624886395042, 0.7108221696243932, 0.35388281229704693, 0.5561015621810738, 0.05055468747100671, 0.2974711301035613, 0.04957852168392689, 0.09915704336785378, 0.14873556505178065, 0.09915704336785378, 0.14873556505178065, 0.04957852168392689, 0.09915704336785378, 0.6700465756032462, 0.6700465756032462, 0.7108221696243932, 0.15246932201108127, 0.15246932201108127, 0.30493864402216253, 0.4574079660332438, 0.14264719428549813, 0.7132359714274907, 0.14264719428549813, 0.8635604285231294, 0.2934886756140823, 0.09782955853802745, 0.09782955853802745, 0.3913182341521098, 0.048914779269013726, 0.048914779269013726, 0.3456797613104879, 0.3456797613104879, 0.21108933973336788, 0.07036311324445596, 0.14072622648891192, 0.07036311324445596, 0.5629049059556477, 0.09384371872322904, 0.09384371872322904, 0.7507497497858323, 0.09384371872322904, 0.7447494847427126, 0.2482498282475709, 0.10743888449368613, 0.10743888449368613, 0.07162592299579075, 0.286503691983163, 0.1432518459915815, 0.035812961497895375, 0.21487776898737226, 0.5134748397321658, 0.2567374198660829, 0.1385825112401196, 0.8314950674407176, 0.6700465756032462, 0.3263625588662699, 0.6527251177325398, 0.18161271956108585, 0.7264508782443434, 0.09097992346230874, 0.09097992346230874, 0.2729397703869262, 0.45489961731154366, 0.12449848707910981, 0.24899697415821961, 0.12449848707910981, 0.12449848707910981, 0.37349546123732946, 0.1635431665862667, 0.08177158329313335, 0.1635431665862667, 0.1635431665862667, 0.1635431665862667, 0.1635431665862667, 0.8327565418978369, 0.10966236890853384, 0.05483118445426692, 0.5483118445426692, 0.10966236890853384, 0.16449355336280075, 0.6438412395679054, 0.05647761082540024, 0.11295522165080048, 0.19767163788890085, 0.6212537190794026, 0.03986194229526078, 0.07972388459052156, 0.8371007882004764, 0.03986194229526078, 0.17620554073561753, 0.13215415555171314, 0.4405138518390438, 0.08810277036780877, 0.13215415555171314, 0.04405138518390438, 0.0658977930120003, 0.2635911720480012, 0.2635911720480012, 0.2635911720480012, 0.0658977930120003, 0.0658977930120003, 0.07473021227361755, 0.1494604245472351, 0.1494604245472351, 0.07473021227361755, 0.1494604245472351, 0.37365106136808773, 0.07473021227361755, 0.9322567690332735, 0.39000590140173225, 0.19500295070086612, 0.19500295070086612, 0.19500295070086612, 0.06285829748653549, 0.25143318994614194, 0.12571659497307097, 0.37714978491921297, 0.12571659497307097, 0.12571659497307097, 0.10799940844738154, 0.10799940844738154, 0.1619991126710723, 0.21599881689476308, 0.1619991126710723, 0.05399970422369077, 0.1619991126710723, 0.6239824917912397, 0.2079941639304132, 0.6487106708250815, 0.17711862602533754, 0.06440677310012274, 0.17711862602533754, 0.1288135462002455, 0.257627092400491, 0.04830507982509206, 0.08050846637515342, 0.04830507982509206, 0.6700465756032462, 0.17750894808026008, 0.5325268442407802, 0.17750894808026008, 0.9053504627912916, 0.9376153773481654, 0.9025805989879123, 0.42287590188492846, 0.07462515915616384, 0.22387547746849154, 0.22387547746849154, 0.04975010610410923, 0.6700465756032462, 0.6691100674786379, 0.33455503373931894, 0.8823016621696419, 0.5294069402978068, 0.17646898009926892, 0.17646898009926892, 0.8327569870851972, 0.9322567690332735, 0.32946795083718666, 0.16473397541859333, 0.16473397541859333, 0.16473397541859333, 0.16473397541859333, 0.6438412395679054, 0.6700465756032462, 0.6700465756032462, 0.6272595489715931, 0.20908651632386435, 0.03611552776969733, 0.05417329165454599, 0.8667726664727359, 0.018057763884848664, 0.03611552776969733, 0.0899024333591982, 0.449512166795991, 0.0899024333591982, 0.0899024333591982, 0.1798048667183964, 0.8827641032895168, 0.21765571461165123, 0.10882785730582561, 0.5441392865291281, 0.10882785730582561, 0.6590630108049931, 0.8635600323518632, 0.6474579274311983, 0.18768515944652944, 0.5630554783395884, 0.18768515944652944, 0.5793382342253971, 0.28966911711269855, 0.14483455855634927, 0.09112725771825853, 0.4556362885912926, 0.18225451543651705, 0.09112725771825853, 0.09112725771825853, 0.09112725771825853, 0.05891449555973131, 0.41240146891811913, 0.11782899111946261, 0.11782899111946261, 0.11782899111946261, 0.17674348667919393, 0.4229652388781421, 0.4229652388781421, 0.1753233404761961, 0.13149250535714707, 0.4383083511904903, 0.08766167023809805, 0.08766167023809805, 0.043830835119049026, 0.043830835119049026, 0.3016047741201589, 0.10053492470671964, 0.40213969882687856, 0.20106984941343928, 0.9025812847138585, 0.6700465756032462, 0.8620673820075683, 0.8112199673375489, 0.2253922207435553, 0.2253922207435553, 0.4507844414871106, 0.07513074024785177, 0.07513074024785177, 0.22492560085822788, 0.29990080114430384, 0.44985120171645576, 0.6479710576527313, 0.8642867380629703, 0.6407111001562303, 0.11473107662743907, 0.05736553831371954, 0.0860483074705793, 0.2581449224117379, 0.11473107662743907, 0.02868276915685977, 0.28682769156859766, 0.05736553831371954, 0.28929203442396234, 0.43393805163594357, 0.14464601721198117, 0.14464601721198117, 0.7828398648418629, 0.669137737370783, 0.3345688686853915, 0.6590630108049931, 0.262265694937806, 0.524531389875612, 0.6590630108049931, 0.6482995728663596, 0.3535042340928649, 0.3535042340928649, 0.8620676862139146, 0.333635872052015, 0.1668179360260075, 0.333635872052015, 0.1668179360260075, 0.8561991096567744, 0.9053517192378774, 0.1679157562730203, 0.05597191875767343, 0.1679157562730203, 0.27985959378836717, 0.22388767503069373, 0.05597191875767343, 0.11194383751534687, 0.3535042028571236, 0.3535042028571236, 0.8556679358703935, 0.6474579274311983, 0.15095567645705119, 0.09057340587423071, 0.39248475878833305, 0.060382270582820474, 0.12076454116564095, 0.060382270582820474, 0.030191135291410237, 0.060382270582820474, 0.12457213635074568, 0.041524045450248556, 0.041524045450248556, 0.5605746135783556, 0.08304809090049711, 0.041524045450248556, 0.020762022725124278, 0.020762022725124278, 0.06228606817537284, 0.06363318627643076, 0.10605531046071795, 0.06363318627643076, 0.12726637255286152, 0.12726637255286152, 0.02121106209214359, 0.14847743464500512, 0.10605531046071795, 0.04242212418428718, 0.2121106209214359, 0.6700465756032462, 0.6700465756032462, 0.9053505360639481, 0.10719234973693004, 0.21438469947386007, 0.42876939894772015, 0.10719234973693004, 0.21438469947386007, 0.6700465756032462, 0.6700465756032462, 0.3263625380405852, 0.6527250760811704, 0.6700465756032462, 0.7550773699632731, 0.25169245665442436, 0.8327555755076561, 0.09869864406927614, 0.7895891525542091, 0.09869864406927614, 0.8827639747167966, 0.42803302789962167, 0.42803302789962167, 0.7108221696243932, 0.6700465756032462, 0.34418986375898675, 0.17209493187949337, 0.05736497729316446, 0.17209493187949337, 0.11472995458632892, 0.05736497729316446, 0.05736497729316446, 0.05736497729316446, 0.6700465756032462, 0.9418204639192638, 0.32446962388068484, 0.6489392477613697, 0.9376152877376978, 0.43510064643729424, 0.21755032321864712, 0.21755032321864712, 0.13967904040100979, 0.5237964015037867, 0.2095185606015147, 0.06983952020050489, 0.034919760100252446, 0.8535868552268893, 0.14952145321594815, 0.14952145321594815, 0.2990429064318963, 0.14952145321594815, 0.2990429064318963, 0.8112198855930155, 0.7322773853458403, 0.18306934633646008, 0.8635604285231294, 0.21881035973428606, 0.17504828778742884, 0.08752414389371442, 0.48138279141542933, 0.04376207194685721, 0.64797317180219, 0.5597636404709674, 0.23989870305898603, 0.15993246870599068, 0.6590630108049931, 0.18346288621537993, 0.09173144310768996, 0.09173144310768996, 0.18346288621537993, 0.4586572155384498, 0.8642899347184729, 0.2412500515112762, 0.055673088810294515, 0.2598077477813744, 0.01855769627009817, 0.07423078508039269, 0.33403853286176705, 0.6178202407947776, 0.1544550601986944, 0.1544550601986944, 0.5588237581559143, 0.3352942548935486, 0.11176475163118285, 0.1979735625351939, 0.09898678126759695, 0.1979735625351939, 0.09898678126759695, 0.3959471250703878, 0.2634039868095708, 0.658509967023927, 0.1317019934047854, 0.6700465756032462, 0.6700465756032462, 0.7108221696243932, 0.837028669905985, 0.9449718714115877, 0.864289762500702, 0.6700465756032462, 0.6700465756032462, 0.7766011770443532, 0.6557831581263542, 0.3278915790631771, 0.8827625366939104, 0.1092337438101783, 0.32770123143053487, 0.32770123143053487, 0.2184674876203566, 0.8327576299099805, 0.22120355258240365, 0.07373451752746789, 0.22120355258240365, 0.07373451752746789, 0.4424071051648073, 0.6700465756032462, 0.7108221696243932, 0.7208345207088177, 0.8635603251745101, 0.8370280010449945, 0.949071840827481, 0.4005014501961284, 0.5785020947277411, 0.06440317588303919, 0.04293545058869279, 0.27908042882650314, 0.021467725294346394, 0.27908042882650314, 0.021467725294346394, 0.10733862647173198, 0.021467725294346394, 0.04293545058869279, 0.10733862647173198, 0.7773879271343349, 0.7108221696243932, 0.5739921447136149, 0.11479842894272298, 0.22959685788544595, 0.2515782569236562, 0.41929709487276035, 0.16771883794910414, 0.08385941897455207, 0.08385941897455207, 0.8635604285231294, 0.06772415706145404, 0.06772415706145404, 0.1354483141229081, 0.06772415706145404, 0.2708966282458162, 0.20317247118436213, 0.06772415706145404, 0.1354483141229081, 0.6590630108049931, 0.6590630108049931, 0.6473560704906396, 0.7108221696243932, 0.4003740922405381, 0.06672901537342302, 0.4003740922405381, 0.13345803074684603, 0.8642867380629703, 0.7749921118251704, 0.8827628305794806, 0.7108221696243932, 0.09413053314116149, 0.47065266570580744, 0.37652213256464595, 0.6557822013511334, 0.3278911006755667, 0.6700465756032462, 0.1470272693558005, 0.16540567802527553, 0.05513522600842518, 0.20216249536422565, 0.12864886068632542, 0.03675681733895012, 0.11027045201685036, 0.12864886068632542, 0.11200145593605393, 0.1400018199200674, 0.22400291187210786, 0.25200327585612137, 0.11200145593605393, 0.1400018199200674, 0.8112199673375489, 0.19789427368564852, 0.19789427368564852, 0.39578854737129704, 0.19789427368564852, 0.09894713684282426, 0.2685662797475518, 0.5371325594951036, 0.1072925582003769, 0.1072925582003769, 0.5364627910018845, 0.2145851164007538, 0.8827639747167966, 0.13294260319064127, 0.6647130159532064, 0.26588520638128255, 0.4532825842012425, 0.1510941947337475, 0.1510941947337475, 0.1510941947337475, 0.9325396282996694, 0.6700465756032462, 0.3023325635079692, 0.20155504233864616, 0.10077752116932308, 0.20155504233864616, 0.10077752116932308, 0.10077752116932308, 0.6700465756032462, 0.32882657988737046, 0.6576531597747409, 0.8642867380629703, 0.7108221696243932, 0.6700465756032462, 0.8642925666666331, 0.6700465756032462, 0.8620377975228881, 0.6700465756032462, 0.2184096184408034, 0.6552288553224103, 0.8642896672980883, 0.30017630747392804, 0.5002938457898801, 0.10005876915797601, 0.10005876915797601, 0.7108221696243932, 0.7108221696243932, 0.21168165290850935, 0.08820068871187889, 0.03528027548475156, 0.08820068871187889, 0.3351626171051398, 0.07056055096950312, 0.08820068871187889, 0.07056055096950312, 0.6700465756032462, 0.7108221696243932, 0.09507630189401406, 0.4753815094700703, 0.2852289056820422, 0.19015260378802812, 0.9376154273862671, 0.4446539795497354, 0.2223269897748677, 0.2223269897748677, 0.3696810698639592, 0.5545216047959388, 0.16763787608165587, 0.2793964601360931, 0.22351716810887448, 0.16763787608165587, 0.05587929202721862, 0.05587929202721862, 0.05587929202721862, 0.05279712118721277, 0.05279712118721277, 0.10559424237442554, 0.21118848474885107, 0.07919568178081915, 0.1583913635616383, 0.026398560593606384, 0.026398560593606384, 0.26398560593606385, 0.6407108402468853, 0.9025759312730893, 0.7108221696243932, 0.9376153885868977, 0.6700465756032462, 0.6590630108049931, 0.19482134786175476, 0.5357587066198256, 0.09741067393087738, 0.04870533696543869, 0.09741067393087738, 0.07797312998961231, 0.07797312998961231, 0.15594625997922462, 0.23391938996883696, 0.23391938996883696, 0.07797312998961231, 0.07797312998961231, 0.2626257256817109, 0.2626257256817109, 0.5252514513634218, 0.6700465756032462, 0.6700465756032462, 0.13157648929219243, 0.5263059571687697, 0.13157648929219243, 0.13157648929219243, 0.13157648929219243, 0.06734459745736171, 0.47141218220153197, 0.13468919491472342, 0.3030506885581277, 0.033672298728680855, 0.855667807223445, 0.6407102376955662, 0.8327555755076561, 0.0983878819407936, 0.11352447916245416, 0.10595618055162388, 0.136229374994945, 0.28002704860072025, 0.09081958332996333, 0.03784149305415139, 0.0681146874974725, 0.015136597221660554, 0.05297809027581194, 0.9025811218467709, 0.630257005198261, 0.15756425129956525, 0.15756425129956525, 0.18671538378141278, 0.09335769189070639, 0.18671538378141278, 0.09335769189070639, 0.09335769189070639, 0.37343076756282556, 0.8532810391613337, 0.6700465756032462, 0.2539446525159945, 0.507889305031989, 0.1858432421557096, 0.5575297264671288, 0.1858432421557096, 0.832755567922887, 0.855667575239735, 0.2235792309745882, 0.4471584619491764, 0.2235792309745882, 0.8620676666207644, 0.5574788322491534, 0.2787394161245767, 0.13936970806228835, 0.12214538890478473, 0.06662475758442804, 0.01110412626407134, 0.09993713637664206, 0.621831070787995, 0.05552063132035669, 0.03331237879221402, 0.35496732070768977, 0.35496732070768977, 0.05246011753352055, 0.1049202350670411, 0.7869017630028081, 0.05246011753352055, 0.8327575835721636, 0.8642804529301643, 0.06680729730299338, 0.13361459460598676, 0.13361459460598676, 0.3340364865149669, 0.20042189190898016, 0.06680729730299338, 0.06680729730299338, 0.6700465756032462, 0.6700465756032462, 0.16007636644176285, 0.6403054657670514, 0.16007636644176285, 0.4159373507501342, 0.13864578358337806, 0.13864578358337806, 0.04621526119445936, 0.09243052238891872, 0.09243052238891872, 0.6487106708250815, 0.18387461077787745, 0.05253560307939356, 0.21014241231757425, 0.5253560307939356, 0.8370287355298647, 0.7008469976748819, 0.35042349883744095, 0.6407108395429153, 0.11171165103236574, 0.2234233020647315, 0.11171165103236574, 0.2234233020647315, 0.33513495309709723, 0.45463308251627377, 0.05682913531453422, 0.17048740594360268, 0.34097481188720535, 0.2133406482949667, 0.6400219448849002, 0.6598628735696214, 0.21995429118987378, 0.8642899347184729, 0.8556677583560893, 0.6700465756032462, 0.6700465756032462, 0.6700465756032462, 0.21334065980867542, 0.6400219794260262, 0.8642867380629703, 0.028396087806070655, 0.11358435122428262, 0.19877261464249457, 0.48273349270320115, 0.14198043903035326, 0.028396087806070655, 0.6474578853969281, 0.6700465756032462, 0.5397492140568845, 0.17991640468562817, 0.17991640468562817, 0.6590630108049931, 0.2691932953519311, 0.5383865907038622, 0.6239824908572703, 0.2079941636190901, 0.20672658716621217, 0.10336329358310609, 0.20672658716621217, 0.20672658716621217, 0.10336329358310609, 0.6479710336212137, 0.21639788968182522, 0.5049284092575922, 0.21639788968182522, 0.07213262989394174, 0.1891468586634324, 0.0472867146658581, 0.0472867146658581, 0.1418601439975743, 0.5201538613244391, 0.8556679358703935, 0.8624440058069948, 0.47126195231998824, 0.1346462720914252, 0.20196940813713782, 0.1346462720914252, 0.6692575997290674, 0.3346287998645337, 0.3423330178792932, 0.04890471683989903, 0.032603144559932684, 0.3423330178792932, 0.04890471683989903, 0.016301572279966342, 0.032603144559932684, 0.032603144559932684, 0.11411100595976441, 0.6175355827552294, 0.20584519425174314, 0.8827638972359472, 0.04009349291188875, 0.24056095747133255, 0.0801869858237775, 0.24056095747133255, 0.32074794329511, 0.0801869858237775, 0.6479710355855485, 0.08405512850087582, 0.19612863316871026, 0.028018376166958608, 0.11207350466783443, 0.056036752333917215, 0.11207350466783443, 0.056036752333917215, 0.14009188083479304, 0.056036752333917215, 0.19612863316871026, 0.06196844672593689, 0.07082108197249931, 0.06196844672593689, 0.17705270493124828, 0.43377912708155825, 0.035410540986249656, 0.07082108197249931, 0.08852635246562414, 0.8880122480009098, 0.05223601458828881, 0.05223601458828881, 0.04035602193277459, 0.16142408773109837, 0.08071204386554919, 0.5246282851260697, 0.12106806579832378, 0.08071204386554919, 0.22085914375987573, 0.3680985729331262, 0.14723942917325047, 0.14723942917325047, 0.680433830935459, 0.16843566948547375, 0.3368713389709475, 0.16843566948547375, 0.16843566948547375, 0.3521529801750638, 0.20123027438575075, 0.10061513719287538, 0.15092270578931305, 0.10061513719287538, 0.05030756859643769, 0.8642899347184729, 0.6460980492130919, 0.6482995728663596, 0.8370286521916869, 0.8327563698379365, 0.8112199673375489, 0.8827611794683375, 0.19963756863340598, 0.7985502745336239, 0.9025812847138585, 0.7749920626953454, 0.8556679358703935, 0.18454417315526858, 0.18454417315526858, 0.5536325194658057, 0.13935880091327804, 0.6967940045663902, 0.13935880091327804, 0.2099877089023863, 0.6299631267071589, 0.10499385445119315, 0.6700465756032462, 0.4890811033183449, 0.42805264395168846, 0.21402632197584423, 0.21402632197584423, 0.6590630108049931, 0.558018604782209, 0.2790093023911045, 0.7108221696243932, 0.8556672077191063, 0.6700465756032462, 0.2667841724577745, 0.2667841724577745, 0.533568344915549, 0.09208058875206832, 0.27624176625620495, 0.09208058875206832, 0.27624176625620495, 0.09208058875206832, 0.18416117750413663, 0.7436178044619094, 0.020945632690267123, 0.04189126538053425, 0.06283689807080138, 0.167565061522137, 0.4817495518761439, 0.12567379614160276, 0.0837825307610685, 0.020945632690267123, 0.1596474422698789, 0.47894232680963666, 0.1596474422698789, 0.1596474422698789, 0.1263041060642187, 0.1263041060642187, 0.2526082121284374, 0.37891231819265614, 0.1263041060642187, 0.6700465756032462, 0.8827625366939104], \"Term\": [\"aapas\", \"ab\", \"ab\", \"ab\", \"abd\", \"abd\", \"abd\", \"actual\", \"adayi\", \"added\", \"advantage\", \"ah\", \"allround\", \"allround\", \"always\", \"always\", \"always\", \"always\", \"always\", \"always\", \"always\", \"apparently\", \"appearance\", \"appearance\", \"appearance\", \"appreciate\", \"appreciation\", \"appreciation\", \"archer\", \"archer\", \"archer\", \"archer\", \"arrested\", \"attitude\", \"attitude\", \"auction\", \"auction\", \"auction\", \"auction\", \"avoiding\", \"away\", \"away\", \"away\", \"away\", \"b\", \"b\", \"b\", \"b\", \"babar\", \"back\", \"back\", \"back\", \"back\", \"back\", \"back\", \"back\", \"back\", \"bairstow\", \"bairstow\", \"ball\", \"ball\", \"ball\", \"ball\", \"ball\", \"ball\", \"bangladeshi\", \"bar\", \"barcelona\", \"bat\", \"bat\", \"bat\", \"bat\", \"bat\", \"batting\", \"batting\", \"batting\", \"batting\", \"batting\", \"batting\", \"batting\", \"batting\", \"beacuse\", \"beat\", \"beat\", \"beat\", \"beat\", \"beaten\", \"beaten\", \"beaten\", \"became\", \"behavior\", \"behind\", \"behind\", \"believe\", \"best\", \"best\", \"best\", \"best\", \"best\", \"best\", \"best\", \"best\", \"best\", \"best\", \"better\", \"better\", \"better\", \"better\", \"betting\", \"bhaji\", \"bhuvi\", \"bhuvi\", \"big\", \"big\", \"big\", \"big\", \"big\", \"bigg\", \"birthday\", \"birthday\", \"birthday\", \"birthday\", \"birthdaynext\", \"bit\", \"bit\", \"book\", \"boom\", \"boost\", \"bos\", \"boult\", \"boult\", \"boult\", \"bow\", \"bow\", \"bowled\", \"bro\", \"bro\", \"bsh\", \"bulaya\", \"bumrah\", \"bumrah\", \"bumrah\", \"bumrah\", \"bumrah\", \"bumrah\", \"bumrahxexaxbexefxbxf\", \"c\", \"c\", \"c\", \"cake\", \"came\", \"came\", \"cameo\", \"cameo\", \"cameo\", \"cap\", \"cap\", \"cap\", \"cap\", \"capital\", \"captain\", \"captain\", \"captain\", \"captain\", \"captain\", \"captainxfxfxax\", \"chahal\", \"chahal\", \"challenge\", \"challenger\", \"champion\", \"champion\", \"champion\", \"champion\", \"champion\", \"changer\", \"channel\", \"charger\", \"chased\", \"chasing\", \"chawal\", \"check\", \"check\", \"check\", \"check\", \"check\", \"cherry\", \"choosing\", \"clearly\", \"coached\", \"coaching\", \"coaching\", \"coaster\", \"coincidence\", \"colour\", \"commentator\", \"congratulation\", \"congratulation\", \"congratulation\", \"congratulation\", \"congratulation\", \"consecutive\", \"considering\", \"consistent\", \"consistent\", \"continuosly\", \"cost\", \"could\", \"could\", \"could\", \"cricket\", \"cricket\", \"cricket\", \"cricket\", \"cricket\", \"csk\", \"csk\", \"csk\", \"csk\", \"csk\", \"ctl\", \"cup\", \"cup\", \"cup\", \"cup\", \"cup\", \"cup\", \"cup\", \"curran\", \"dadi\", \"date\", \"date\", \"david\", \"david\", \"david\", \"day\", \"day\", \"day\", \"day\", \"day\", \"day\", \"day\", \"day\", \"dc\", \"dc\", \"dc\", \"dc\", \"dc\", \"dc\", \"death\", \"deccan\", \"decline\", \"defeated\", \"defeated\", \"defeated\", \"defeated\", \"defending\", \"dekock\", \"delhi\", \"delhi\", \"delhi\", \"deliver\", \"describes\", \"deserved\", \"deserved\", \"deserved\", \"dhawan\", \"dhawan\", \"dhawan\", \"difficult\", \"disastrously\", \"dislodge\", \"dismissal\", \"dismissal\", \"divisive\", \"doesnt\", \"done\", \"done\", \"done\", \"done\", \"dont\", \"dont\", \"dont\", \"dont\", \"dont\", \"dragon\", \"drop\", \"due\", \"ec\", \"edition\", \"elegance\", \"end\", \"end\", \"end\", \"end\", \"end\", \"enjoyed\", \"enter\", \"enter\", \"enter\", \"enter\", \"entered\", \"every\", \"every\", \"every\", \"every\", \"every\", \"every\", \"everytime\", \"evident\", \"exact\", \"excellently\", \"excited\", \"exciting\", \"exciting\", \"exciting\", \"execution\", \"exmumbai\", \"expect\", \"expect\", \"face\", \"face\", \"face\", \"face\", \"face\", \"fan\", \"fan\", \"fan\", \"fan\", \"fan\", \"fan\", \"fantastic\", \"fantastic\", \"felt\", \"fertility\", \"fielding\", \"fieldxfxfxxe\", \"fighter\", \"film\", \"film\", \"final\", \"final\", \"final\", \"final\", \"final\", \"final\", \"final\", \"finally\", \"finally\", \"finally\", \"finally\", \"financial\", \"finished\", \"first\", \"first\", \"first\", \"first\", \"first\", \"first\", \"five\", \"fixed\", \"following\", \"following\", \"foreign\", \"forget\", \"forget\", \"forget\", \"found\", \"four\", \"four\", \"four\", \"four\", \"fourth\", \"fragile\", \"franchise\", \"franchise\", \"franchise\", \"franchise\", \"fullfill\", \"gambhir\", \"gambhir\", \"game\", \"game\", \"game\", \"game\", \"game\", \"game\", \"game\", \"game\", \"game\", \"garg\", \"garg\", \"garg\", \"gautam\", \"gautam\", \"gautam\", \"genius\", \"get\", \"get\", \"get\", \"get\", \"get\", \"get\", \"get\", \"give\", \"give\", \"give\", \"give\", \"give\", \"give\", \"give\", \"giving\", \"giving\", \"giving\", \"glorious\", \"go\", \"go\", \"go\", \"go\", \"go\", \"go\", \"go\", \"going\", \"going\", \"going\", \"going\", \"going\", \"going\", \"gold\", \"gone\", \"gone\", \"good\", \"good\", \"good\", \"good\", \"good\", \"good\", \"good\", \"good\", \"good\", \"good\", \"gowsami\", \"great\", \"great\", \"great\", \"great\", \"great\", \"great\", \"great\", \"greatest\", \"gt\", \"gt\", \"gt\", \"ha\", \"haixfxfxaxa\", \"happen\", \"happen\", \"happened\", \"happy\", \"happy\", \"happy\", \"happy\", \"happy\", \"hard\", \"hard\", \"hard\", \"hard\", \"hard\", \"hard\", \"hatred\", \"heart\", \"heart\", \"heart\", \"heart\", \"heartbroken\", \"heartfelt\", \"hebrew\", \"height\", \"hetmyer\", \"hetmyer\", \"hetmyer\", \"hey\", \"highly\", \"hii\", \"history\", \"history\", \"history\", \"hold\", \"hold\", \"holder\", \"holder\", \"holder\", \"holder\", \"hope\", \"hope\", \"hope\", \"hope\", \"hope\", \"hope\", \"hope\", \"hour\", \"huge\", \"huge\", \"hurdle\", \"hyderabad\", \"hyderabad\", \"hyderabad\", \"hyderbad\", \"hypothetically\", \"immense\", \"incredibly\", \"india\", \"india\", \"india\", \"india\", \"india\", \"india\", \"india\", \"india\", \"indian\", \"indian\", \"indian\", \"indian\", \"indian\", \"indian\", \"indian\", \"indian\", \"inexperienced\", \"inglorious\", \"injured\", \"injured\", \"injured\", \"inning\", \"inning\", \"inning\", \"involvement\", \"ishanxfxfxfxf\", \"iyer\", \"iyer\", \"iyerxfxfxfxf\", \"jasprit\", \"joffffffra\", \"jofras\", \"join\", \"join\", \"joy\", \"k\", \"kagiso\", \"kagiso\", \"kane\", \"kane\", \"kane\", \"kane\", \"kane\", \"kane\", \"kane\", \"kane\", \"keemo\", \"keeping\", \"kishan\", \"kishan\", \"kishan\", \"kkr\", \"kkr\", \"kkr\", \"kl\", \"kl\", \"kl\", \"kl\", \"kl\", \"knitted\", \"kxip\", \"kxip\", \"kxip\", \"last\", \"last\", \"last\", \"last\", \"last\", \"last\", \"last\", \"last\", \"latest\", \"lavishes\", \"law\", \"lead\", \"lead\", \"lead\", \"lead\", \"left\", \"left\", \"left\", \"lefthanded\", \"let\", \"let\", \"let\", \"let\", \"let\", \"let\", \"level\", \"level\", \"life\", \"life\", \"life\", \"life\", \"life\", \"lift\", \"lift\", \"lift\", \"lift\", \"lifting\", \"lifting\", \"like\", \"like\", \"like\", \"like\", \"like\", \"like\", \"like\", \"live\", \"live\", \"lo\", \"lo\", \"loaded\", \"loading\", \"loading\", \"long\", \"long\", \"lose\", \"lose\", \"lose\", \"lose\", \"lot\", \"lot\", \"lot\", \"lot\", \"lot\", \"love\", \"love\", \"love\", \"love\", \"love\", \"love\", \"loyal\", \"luck\", \"luck\", \"luck\", \"luck\", \"luck\", \"luckily\", \"made\", \"made\", \"made\", \"made\", \"maiden\", \"maiden\", \"maiden\", \"maiden\", \"make\", \"make\", \"make\", \"make\", \"make\", \"make\", \"making\", \"making\", \"making\", \"making\", \"making\", \"making\", \"man\", \"man\", \"man\", \"man\", \"man\", \"man\", \"man\", \"managed\", \"management\", \"management\", \"management\", \"management\", \"many\", \"many\", \"many\", \"many\", \"many\", \"many\", \"marcus\", \"marcus\", \"marcus\", \"marcus\", \"marcus\", \"marcus\", \"marcus\", \"marsh\", \"marsh\", \"master\", \"match\", \"match\", \"match\", \"match\", \"match\", \"match\", \"match\", \"match\", \"matchwinner\", \"mean\", \"mean\", \"mean\", \"meet\", \"mega\", \"meme\", \"mi\", \"mi\", \"mi\", \"mi\", \"mi\", \"middle\", \"might\", \"might\", \"mine\", \"missed\", \"missed\", \"missed\", \"missing\", \"mitchell\", \"moment\", \"moment\", \"moment\", \"moment\", \"moment\", \"momentum\", \"move\", \"msdxfxfxxd\", \"much\", \"much\", \"mumbai\", \"mumbai\", \"mumbai\", \"mumbai\", \"mumbai\", \"name\", \"name\", \"name\", \"name\", \"name\", \"nan\", \"natarajan\", \"natarajan\", \"natarajan\", \"natarajan\", \"natarajanxexaxbexefxbxf\", \"natrajan\", \"nba\", \"nd\", \"nd\", \"nd\", \"need\", \"need\", \"need\", \"never\", \"never\", \"never\", \"never\", \"never\", \"never\", \"new\", \"new\", \"new\", \"new\", \"new\", \"new\", \"news\", \"news\", \"next\", \"next\", \"next\", \"next\", \"next\", \"next\", \"next\", \"night\", \"night\", \"night\", \"night\", \"nightmare\", \"nonexistent\", \"normal\", \"notice\", \"nov\", \"nov\", \"nov\", \"nov\", \"nov\", \"november\", \"november\", \"november\", \"nz\", \"occupation\", \"okay\", \"one\", \"one\", \"one\", \"one\", \"one\", \"one\", \"one\", \"one\", \"open\", \"open\", \"open\", \"open\", \"order\", \"owner\", \"owner\", \"padikkalxfxfxfxf\", \"pandey\", \"pandey\", \"pandyaxfxfxfxfxexaxbexefxbxf\", \"party\", \"past\", \"past\", \"paul\", \"people\", \"people\", \"people\", \"people\", \"perfect\", \"perform\", \"performance\", \"performance\", \"performance\", \"performance\", \"performance\", \"performance\", \"performance\", \"performed\", \"performed\", \"petition\", \"platform\", \"play\", \"play\", \"play\", \"play\", \"play\", \"play\", \"play\", \"play\", \"played\", \"played\", \"played\", \"played\", \"played\", \"played\", \"played\", \"played\", \"played\", \"player\", \"player\", \"player\", \"player\", \"player\", \"player\", \"player\", \"player\", \"player\", \"player\", \"playerssome\", \"pleasing\", \"plzz\", \"point\", \"point\", \"point\", \"point\", \"point\", \"pole\", \"polly\", \"pooran\", \"pooran\", \"pp\", \"predict\", \"predict\", \"predicted\", \"prediction\", \"prediction\", \"prediction\", \"prithvi\", \"probably\", \"probably\", \"produced\", \"progress\", \"proud\", \"proud\", \"proud\", \"proud\", \"proud\", \"proud\", \"proud\", \"proud\", \"provision\", \"purple\", \"putting\", \"putting\", \"q\", \"qualified\", \"qualified\", \"qualified\", \"qualifier\", \"qualifier\", \"qualifier\", \"qualifier\", \"qualifier\", \"qualify\", \"quality\", \"quality\", \"quality\", \"quality\", \"quality\", \"quell\", \"question\", \"question\", \"r\", \"rabada\", \"rabada\", \"rabada\", \"rabada\", \"rabada\", \"race\", \"rahul\", \"rahul\", \"rahul\", \"rahulxfxfxfxf\", \"rashid\", \"rashid\", \"rashid\", \"rashid\", \"rashid\", \"ravindra\", \"rcb\", \"rcb\", \"rcb\", \"rcb\", \"rcb\", \"rcb\", \"rd\", \"rd\", \"rd\", \"reaching\", \"reaching\", \"reaching\", \"really\", \"really\", \"really\", \"really\", \"really\", \"reason\", \"reason\", \"reason\", \"recap\", \"red\", \"regarding\", \"release\", \"released\", \"remaining\", \"replace\", \"retaining\", \"retweet\", \"review\", \"review\", \"reviewing\", \"right\", \"right\", \"right\", \"right\", \"rock\", \"rohit\", \"rohit\", \"rohit\", \"rohit\", \"rohit\", \"rohitxfxfxx\", \"roller\", \"rollercoaster\", \"rounder\", \"royal\", \"rps\", \"rr\", \"rr\", \"run\", \"run\", \"run\", \"run\", \"run\", \"run\", \"run\", \"run\", \"run\", \"run\", \"runner\", \"sab\", \"saha\", \"saha\", \"saha\", \"said\", \"said\", \"said\", \"said\", \"said\", \"salary\", \"samad\", \"samad\", \"samad\", \"samad\", \"samad\", \"samad\", \"samad\", \"samad\", \"samadxfxfxfxfxexaxbexefxbxf\", \"samsonxfxfxfxf\", \"sandeep\", \"saving\", \"say\", \"say\", \"say\", \"say\", \"scammer\", \"scene\", \"schedule\", \"science\", \"score\", \"score\", \"score\", \"script\", \"script\", \"sealed\", \"season\", \"season\", \"season\", \"season\", \"season\", \"season\", \"season\", \"season\", \"see\", \"see\", \"see\", \"see\", \"see\", \"see\", \"seen\", \"set\", \"set\", \"set\", \"set\", \"set\", \"shami\", \"shami\", \"sharma\", \"sharma\", \"sharma\", \"sharma\", \"shaw\", \"shikhar\", \"shikhar\", \"shikhar\", \"shot\", \"shot\", \"shot\", \"shot\", \"shreyas\", \"sick\", \"side\", \"side\", \"side\", \"side\", \"side\", \"side\", \"significantly\", \"singh\", \"singh\", \"sinha\", \"skill\", \"skip\", \"slot\", \"smooth\", \"soccer\", \"somewhat\", \"soon\", \"soon\", \"sorry\", \"special\", \"special\", \"special\", \"special\", \"specially\", \"spread\", \"srh\", \"srh\", \"srh\", \"srh\", \"srh\", \"srh\", \"srh\", \"srh\", \"srhs\", \"srhvsdc\", \"stage\", \"stage\", \"stage\", \"stage\", \"starc\", \"stay\", \"stay\", \"stay\", \"step\", \"step\", \"still\", \"still\", \"still\", \"still\", \"still\", \"still\", \"still\", \"stoinis\", \"stoinis\", \"stoinis\", \"stoinis\", \"stoinis\", \"stoinis\", \"stoinis\", \"stoinis\", \"stoinis\", \"streaming\", \"stroke\", \"submission\", \"successfully\", \"suggestion\", \"sundarxfxfxfxfxexaxbexefxbxf\", \"sunrisers\", \"sunrisers\", \"sunrisers\", \"sunrisers\", \"sunrisers\", \"support\", \"support\", \"support\", \"support\", \"support\", \"support\", \"support\", \"sure\", \"sure\", \"sure\", \"surpass\", \"sweat\", \"table\", \"table\", \"table\", \"table\", \"table\", \"take\", \"take\", \"take\", \"take\", \"take\", \"talking\", \"tat\", \"teach\", \"team\", \"team\", \"team\", \"team\", \"team\", \"team\", \"team\", \"team\", \"team\", \"team\", \"term\", \"tewatia\", \"tewatia\", \"tewatia\", \"thank\", \"thank\", \"thank\", \"thank\", \"thank\", \"thank\", \"thinking\", \"thisxfxfxxb\", \"thought\", \"thought\", \"three\", \"three\", \"three\", \"thrice\", \"thru\", \"ti\", \"ti\", \"ti\", \"ticket\", \"till\", \"till\", \"till\", \"time\", \"time\", \"time\", \"time\", \"time\", \"time\", \"time\", \"tip\", \"tip\", \"title\", \"title\", \"title\", \"title\", \"tom\", \"ton\", \"top\", \"top\", \"top\", \"top\", \"top\", \"top\", \"top\", \"toprated\", \"touched\", \"tough\", \"tough\", \"tough\", \"tournament\", \"tournament\", \"tournament\", \"tournament\", \"tournament\", \"tournament\", \"trick\", \"trophy\", \"trophy\", \"trophy\", \"trophy\", \"try\", \"turned\", \"turned\", \"tv\", \"tweet\", \"tweet\", \"tweet\", \"tweet\", \"tweet\", \"u\", \"u\", \"u\", \"u\", \"uae\", \"uae\", \"umpiring\", \"umpiring\", \"unconditional\", \"underdog\", \"underrate\", \"undiplomatic\", \"unwanted\", \"ur\", \"ur\", \"utkarsh\", \"v\", \"v\", \"v\", \"v\", \"v\", \"v\", \"valid\", \"valuable\", \"varun\", \"varun\", \"varun\", \"varunxexaxbexefxbxf\", \"video\", \"video\", \"vijay\", \"vijay\", \"virat\", \"virat\", \"virat\", \"virat\", \"virat\", \"vth\", \"want\", \"want\", \"want\", \"want\", \"warner\", \"warner\", \"warner\", \"warner\", \"warner\", \"wasnt\", \"watson\", \"way\", \"way\", \"way\", \"way\", \"week\", \"week\", \"well\", \"well\", \"well\", \"well\", \"well\", \"well\", \"well\", \"well\", \"well\", \"whats\", \"whats\", \"whoxexxs\", \"wicket\", \"wicket\", \"wicket\", \"wicket\", \"wicket\", \"wicket\", \"wicketswicket\", \"williamson\", \"williamson\", \"williamson\", \"williamson\", \"williamson\", \"williamson\", \"williamson\", \"williamson\", \"williamson\", \"williamson\", \"win\", \"win\", \"win\", \"win\", \"win\", \"win\", \"win\", \"win\", \"winner\", \"winner\", \"winner\", \"winning\", \"winning\", \"winning\", \"winning\", \"winning\", \"winning\", \"wish\", \"wish\", \"wish\", \"wish\", \"wk\", \"work\", \"work\", \"work\", \"work\", \"would\", \"would\", \"would\", \"would\", \"would\", \"would\", \"wouldve\", \"xcxain\", \"xcxainteresting\", \"xcxaxcxa\", \"xcxaxefxbfxbc\", \"xexbxaaxexbxxexbxaxexbxdxexbxaxexbxbexexbxaaxexbxxexbxbxexbxaaxexbxdxexbxaaxexbxbexexbxaxexbx\", \"xexbxcxexbxbfxexbxadxexbxbexexbxbxexbxbxexbxbxexbx\", \"xexdxaxefxbxf\", \"xexdxaxefxbxf\", \"xexdxc\", \"xexxs\", \"xfxfxaxddc\", \"xfxfxaxe\", \"xfxfxaxe\", \"xfxfxaxe\", \"xfxfxfx\", \"xfxfxfx\", \"xfxfxfx\", \"xfxfxfxf\", \"xfxfxfxf\", \"xfxfxfxf\", \"xfxfxfxfclip\", \"xfxfxfxxfxfxx\", \"xfxfxxaa\", \"xfxfxxaa\", \"xfxfxxaa\", \"xfxfxxaexfxfxxbxfxfxxaxfxfxxa\", \"xfxfxxaf\", \"xfxfxxaf\", \"xfxfxxcxfxfxxfxfxfxxfxfxfxxd\", \"xfxfxxdxfxfxx\", \"xfxfxxfxfxfxfxbc\", \"xfxfxxxfxfxxxfxfxx\", \"xfxfxxxfxfxxxfxfxx\", \"xfxfxxxfxfxxxfxfxx\", \"xi\", \"xi\", \"xi\", \"xi\", \"xi\", \"xi\", \"yadav\", \"year\", \"year\", \"year\", \"year\", \"year\", \"year\", \"year\", \"year\", \"yesterday\", \"yesterday\", \"yesterday\", \"yesterday\", \"young\", \"young\", \"young\", \"young\", \"young\", \"youre\", \"yuvraj\"]}, \"R\": 30, \"lambda.step\": 0.01, \"plot.opts\": {\"xlab\": \"PC1\", \"ylab\": \"PC2\"}, \"topic.order\": [1, 2, 3, 4, 5, 6, 7, 8, 9, 10]};\n",
              "\n",
              "function LDAvis_load_lib(url, callback){\n",
              "  var s = document.createElement('script');\n",
              "  s.src = url;\n",
              "  s.async = true;\n",
              "  s.onreadystatechange = s.onload = callback;\n",
              "  s.onerror = function(){console.warn(\"failed to load library \" + url);};\n",
              "  document.getElementsByTagName(\"head\")[0].appendChild(s);\n",
              "}\n",
              "\n",
              "if(typeof(LDAvis) !== \"undefined\"){\n",
              "   // already loaded: just create the visualization\n",
              "   !function(LDAvis){\n",
              "       new LDAvis(\"#\" + \"ldavis_el561397002474236401422770813\", ldavis_el561397002474236401422770813_data);\n",
              "   }(LDAvis);\n",
              "}else if(typeof define === \"function\" && define.amd){\n",
              "   // require.js is available: use it to load d3/LDAvis\n",
              "   require.config({paths: {d3: \"https://cdnjs.cloudflare.com/ajax/libs/d3/3.5.5/d3.min\"}});\n",
              "   require([\"d3\"], function(d3){\n",
              "      window.d3 = d3;\n",
              "      LDAvis_load_lib(\"https://cdn.rawgit.com/bmabey/pyLDAvis/files/ldavis.v1.0.0.js\", function(){\n",
              "        new LDAvis(\"#\" + \"ldavis_el561397002474236401422770813\", ldavis_el561397002474236401422770813_data);\n",
              "      });\n",
              "    });\n",
              "}else{\n",
              "    // require.js not available: dynamically load d3 & LDAvis\n",
              "    LDAvis_load_lib(\"https://cdnjs.cloudflare.com/ajax/libs/d3/3.5.5/d3.min.js\", function(){\n",
              "         LDAvis_load_lib(\"https://cdn.rawgit.com/bmabey/pyLDAvis/files/ldavis.v1.0.0.js\", function(){\n",
              "                 new LDAvis(\"#\" + \"ldavis_el561397002474236401422770813\", ldavis_el561397002474236401422770813_data);\n",
              "            })\n",
              "         });\n",
              "}\n",
              "</script>"
            ],
            "text/plain": [
              "<IPython.core.display.HTML object>"
            ]
          },
          "metadata": {
            "tags": []
          },
          "execution_count": 156
        }
      ]
    },
    {
      "cell_type": "code",
      "metadata": {
        "colab": {
          "base_uri": "https://localhost:8080/"
        },
        "id": "24u47Gl0GQNH",
        "outputId": "32b55229-fd6f-4596-a7b5-9edf54ee9a03"
      },
      "source": [
        "pip install tomotopy"
      ],
      "execution_count": 37,
      "outputs": [
        {
          "output_type": "stream",
          "text": [
            "Collecting tomotopy\n",
            "\u001b[?25l  Downloading https://files.pythonhosted.org/packages/70/39/29b0348bfcb689054abb7d627367fed37a4c282ff23feff13b3aef9a1de0/tomotopy-0.9.1-cp36-cp36m-manylinux2010_x86_64.whl (13.5MB)\n",
            "\u001b[K     |████████████████████████████████| 13.5MB 313kB/s \n",
            "\u001b[?25hRequirement already satisfied: numpy>=1.10.0 in /usr/local/lib/python3.6/dist-packages (from tomotopy) (1.18.5)\n",
            "Collecting py-cpuinfo\n",
            "\u001b[?25l  Downloading https://files.pythonhosted.org/packages/f6/f5/8e6e85ce2e9f6e05040cf0d4e26f43a4718bcc4bce988b433276d4b1a5c1/py-cpuinfo-7.0.0.tar.gz (95kB)\n",
            "\u001b[K     |████████████████████████████████| 102kB 9.6MB/s \n",
            "\u001b[?25hBuilding wheels for collected packages: py-cpuinfo\n",
            "  Building wheel for py-cpuinfo (setup.py) ... \u001b[?25l\u001b[?25hdone\n",
            "  Created wheel for py-cpuinfo: filename=py_cpuinfo-7.0.0-cp36-none-any.whl size=20071 sha256=55e578388030b93804ebdffd471172bb2a60f99416cb515af6023a0ae4cc6d11\n",
            "  Stored in directory: /root/.cache/pip/wheels/f1/93/7b/127daf0c3a5a49feb2fecd468d508067c733fba5192f726ad1\n",
            "Successfully built py-cpuinfo\n",
            "Installing collected packages: py-cpuinfo, tomotopy\n",
            "Successfully installed py-cpuinfo-7.0.0 tomotopy-0.9.1\n"
          ],
          "name": "stdout"
        }
      ]
    },
    {
      "cell_type": "markdown",
      "metadata": {
        "id": "qAsgSZ7RMGZ-"
      },
      "source": [
        "**Supervised LDA** Reference code taken: https://github.com/bab2min/tomotopy"
      ]
    },
    {
      "cell_type": "code",
      "metadata": {
        "colab": {
          "base_uri": "https://localhost:8080/"
        },
        "id": "OG1AHTvEGked",
        "outputId": "4c1fc1e7-ba12-4a0f-f380-77e41477c9cf"
      },
      "source": [
        "import tomotopy as tp\n",
        "SLDA_topic_modeling = tp.SLDAModel(k=15) #number of topics 6\n",
        "for i in tweets[\"refine_text\"]:\n",
        "    SLDA_topic_modeling.add_doc(i.split()) #splitting each sentence\n",
        "\n",
        "for k in range(SLDA_topic_modeling.k):\n",
        "    print('Top 10 words of topic #{}'.format(k))\n",
        "    print(SLDA_topic_modeling.get_topic_words(k, top_n=20))\n",
        "\n",
        "SLDA_topic_modeling.summary()"
      ],
      "execution_count": 157,
      "outputs": [
        {
          "output_type": "stream",
          "text": [
            "Top 10 words of topic #0\n",
            "[('team', 0.01764618046581745), ('final', 0.01628982648253441), ('delhi', 0.01628982648253441), ('time', 0.014933470636606216), ('mi', 0.012220760807394981), ('first', 0.01086440496146679), ('win', 0.009508050046861172), ('match', 0.009508050046861172), ('played', 0.009508050046861172), ('rcb', 0.009508050046861172), ('back', 0.008151695132255554), ('congratulation', 0.008151695132255554), ('good', 0.008151695132255554), ('well', 0.008151695132255554), ('dc', 0.008151695132255554), ('season', 0.006795339751988649), ('indian', 0.006795339751988649), ('mumbai', 0.006795339751988649), ('capital', 0.006795339751988649), ('v', 0.006795339751988649)]\n",
            "Top 10 words of topic #1\n",
            "[('win', 0.022097250446677208), ('team', 0.01768074557185173), ('dc', 0.016208576038479805), ('time', 0.016208576038479805), ('delhi', 0.014736408367753029), ('run', 0.011792071163654327), ('well', 0.011792071163654327), ('season', 0.011792071163654327), ('play', 0.010319902561604977), ('indian', 0.008847733959555626), ('good', 0.008847733959555626), ('stoinis', 0.008847733959555626), ('final', 0.008847733959555626), ('one', 0.007375564891844988), ('rcb', 0.007375564891844988), ('capital', 0.007375564891844988), ('trophy', 0.007375564891844988), ('mi', 0.007375564891844988), ('congratulation', 0.007375564891844988), ('guy', 0.005903396289795637)]\n",
            "Top 10 words of topic #2\n",
            "[('final', 0.02112261950969696), ('win', 0.015091893263161182), ('mi', 0.015091893263161182), ('team', 0.015091893263161182), ('stoinis', 0.012076529674232006), ('rcb', 0.012076529674232006), ('delhi', 0.010568847879767418), ('mumbai', 0.009061167016625404), ('made', 0.009061167016625404), ('see', 0.009061167016625404), ('best', 0.009061167016625404), ('player', 0.009061167016625404), ('dc', 0.007553485222160816), ('kane', 0.007553485222160816), ('v', 0.007553485222160816), ('match', 0.007553485222160816), ('face', 0.006045803427696228), ('cricket', 0.006045803427696228), ('time', 0.006045803427696228), ('trophy', 0.006045803427696228)]\n",
            "Top 10 words of topic #3\n",
            "[('final', 0.016090139746665955), ('delhi', 0.016090139746665955), ('dc', 0.013167317025363445), ('well', 0.010244494304060936), ('team', 0.010244494304060936), ('season', 0.010244494304060936), ('srh', 0.010244494304060936), ('see', 0.008783082477748394), ('mi', 0.008783082477748394), ('mumbai', 0.008783082477748394), ('win', 0.008783082477748394), ('run', 0.008783082477748394), ('year', 0.008783082477748394), ('rabada', 0.007321671582758427), ('indian', 0.007321671582758427), ('williamson', 0.007321671582758427), ('let', 0.007321671582758427), ('trophy', 0.005860260222107172), ('play', 0.005860260222107172), ('captain', 0.005860260222107172)]\n",
            "Top 10 words of topic #4\n",
            "[('team', 0.018163541331887245), ('indian', 0.013975176960229874), ('dc', 0.01257905550301075), ('v', 0.01257905550301075), ('see', 0.011182934045791626), ('mi', 0.011182934045791626), ('made', 0.011182934045791626), ('delhi', 0.009786812588572502), ('srh', 0.008390691131353378), ('fan', 0.008390691131353378), ('played', 0.008390691131353378), ('win', 0.008390691131353378), ('well', 0.006994569208472967), ('take', 0.006994569208472967), ('play', 0.006994569208472967), ('rabada', 0.006994569208472967), ('run', 0.006994569208472967), ('year', 0.006994569208472967), ('csk', 0.006994569208472967), ('u', 0.006994569208472967)]\n",
            "Top 10 words of topic #5\n",
            "[('final', 0.022383155301213264), ('time', 0.01539278868585825), ('delhi', 0.013994715176522732), ('dc', 0.012596641667187214), ('team', 0.011198568157851696), ('match', 0.011198568157851696), ('beat', 0.009800494648516178), ('take', 0.009800494648516178), ('mi', 0.00840242113918066), ('well', 0.00840242113918066), ('srh', 0.00840242113918066), ('win', 0.00840242113918066), ('player', 0.00840242113918066), ('indian', 0.00700434809550643), ('stoinis', 0.00700434809550643), ('run', 0.00700434809550643), ('year', 0.00700434809550643), ('best', 0.00700434809550643), ('congratulation', 0.00700434809550643), ('sunrisers', 0.005606274586170912)]\n",
            "Top 10 words of topic #6\n",
            "[('win', 0.021808302029967308), ('team', 0.020355382934212685), ('final', 0.013090793043375015), ('first', 0.013090793043375015), ('delhi', 0.013090793043375015), ('time', 0.011637874878942966), ('best', 0.011637874878942966), ('srh', 0.011637874878942966), ('match', 0.010184956714510918), ('mumbai', 0.010184956714510918), ('mi', 0.008732038550078869), ('capital', 0.008732038550078869), ('dc', 0.008732038550078869), ('indian', 0.008732038550078869), ('player', 0.00727912038564682), ('rcb', 0.00727912038564682), ('get', 0.005826202221214771), ('played', 0.005826202221214771), ('fought', 0.005826202221214771), ('one', 0.005826202221214771)]\n",
            "Top 10 words of topic #7\n",
            "[('team', 0.02315393276512623), ('time', 0.02006879821419716), ('dc', 0.01698366366326809), ('win', 0.013898530043661594), ('season', 0.013898530043661594), ('delhi', 0.01235596276819706), ('indian', 0.01235596276819706), ('well', 0.01235596276819706), ('final', 0.00927082821726799), ('hope', 0.00927082821726799), ('capital', 0.00927082821726799), ('v', 0.00927082821726799), ('rcb', 0.007728261407464743), ('mi', 0.007728261407464743), ('csk', 0.007728261407464743), ('say', 0.006185694597661495), ('new', 0.006185694597661495), ('hyderabad', 0.006185694597661495), ('kxip', 0.006185694597661495), ('cricket', 0.006185694597661495)]\n",
            "Top 10 words of topic #8\n",
            "[('team', 0.017550960183143616), ('delhi', 0.017550960183143616), ('capital', 0.013503851369023323), ('time', 0.013503851369023323), ('mi', 0.012154815718531609), ('v', 0.01080577913671732), ('season', 0.009456743486225605), ('final', 0.009456743486225605), ('win', 0.008107706904411316), ('match', 0.008107706904411316), ('kane', 0.008107706904411316), ('csk', 0.008107706904411316), ('first', 0.008107706904411316), ('day', 0.0067586712539196014), ('williamson', 0.0067586712539196014), ('fan', 0.0067586712539196014), ('good', 0.0067586712539196014), ('dc', 0.0067586712539196014), ('srh', 0.0067586712539196014), ('played', 0.0054096351377666)]\n",
            "Top 10 words of topic #9\n",
            "[('final', 0.016491135582327843), ('win', 0.016491135582327843), ('delhi', 0.01511801965534687), ('team', 0.013744901865720749), ('capital', 0.012371785007417202), ('v', 0.010998668149113655), ('played', 0.009625551290810108), ('dc', 0.008252433501183987), ('match', 0.008252433501183987), ('well', 0.008252433501183987), ('rcb', 0.008252433501183987), ('good', 0.00687931664288044), ('game', 0.00687931664288044), ('run', 0.00687931664288044), ('like', 0.00687931664288044), ('wicket', 0.00687931664288044), ('first', 0.00687931664288044), ('srh', 0.00687931664288044), ('mi', 0.00687931664288044), ('time', 0.00687931664288044)]\n",
            "Top 10 words of topic #10\n",
            "[('win', 0.02159806713461876), ('final', 0.01889999583363533), ('dc', 0.013503851369023323), ('delhi', 0.012154815718531609), ('team', 0.012154815718531609), ('srh', 0.01080577913671732), ('mi', 0.01080577913671732), ('time', 0.009456743486225605), ('season', 0.009456743486225605), ('capital', 0.008107706904411316), ('make', 0.008107706904411316), ('played', 0.008107706904411316), ('good', 0.0067586712539196014), ('finally', 0.0067586712539196014), ('trophy', 0.0067586712539196014), ('rcb', 0.0067586712539196014), ('mumbai', 0.0067586712539196014), ('game', 0.0067586712539196014), ('fan', 0.0054096351377666), ('dhawan', 0.0054096351377666)]\n",
            "Top 10 words of topic #11\n",
            "[('team', 0.013482574373483658), ('dc', 0.013482574373483658), ('final', 0.011986173689365387), ('delhi', 0.011986173689365387), ('capital', 0.011986173689365387), ('v', 0.011986173689365387), ('released', 0.010489772073924541), ('time', 0.00899337138980627), ('year', 0.00899337138980627), ('win', 0.00899337138980627), ('match', 0.007496969774365425), ('season', 0.007496969774365425), ('good', 0.007496969774365425), ('wicket', 0.006000568624585867), ('maiden', 0.006000568624585867), ('hope', 0.006000568624585867), ('kane', 0.006000568624585867), ('reach', 0.006000568624585867), ('williamson', 0.006000568624585867), ('india', 0.006000568624585867)]\n",
            "Top 10 words of topic #12\n",
            "[('final', 0.024662110954523087), ('team', 0.01644597202539444), ('delhi', 0.013707258738577366), ('williamson', 0.010968545451760292), ('win', 0.009599189274013042), ('best', 0.009599189274013042), ('run', 0.009599189274013042), ('mumbai', 0.009599189274013042), ('rcb', 0.009599189274013042), ('mi', 0.009599189274013042), ('kane', 0.008229833096265793), ('match', 0.008229833096265793), ('fan', 0.008229833096265793), ('first', 0.008229833096265793), ('v', 0.008229833096265793), ('time', 0.006860476452857256), ('would', 0.006860476452857256), ('year', 0.006860476452857256), ('november', 0.006860476452857256), ('season', 0.006860476452857256)]\n",
            "Top 10 words of topic #13\n",
            "[('win', 0.015457620844244957), ('delhi', 0.01405365951359272), ('team', 0.01405365951359272), ('v', 0.01405365951359272), ('time', 0.012649697251617908), ('final', 0.011245735920965672), ('first', 0.011245735920965672), ('match', 0.011245735920965672), ('dc', 0.00984177365899086), ('winning', 0.008437811397016048), ('year', 0.007033849600702524), ('made', 0.007033849600702524), ('injured', 0.007033849600702524), ('best', 0.007033849600702524), ('player', 0.007033849600702524), ('capital', 0.007033849600702524), ('tournament', 0.007033849600702524), ('playing', 0.005629887804389), ('played', 0.005629887804389), ('great', 0.005629887804389)]\n",
            "Top 10 words of topic #14\n",
            "[('team', 0.015536963939666748), ('run', 0.013984819874167442), ('mi', 0.012432675808668137), ('v', 0.012432675808668137), ('final', 0.010880531743168831), ('delhi', 0.009328387677669525), ('win', 0.009328387677669525), ('dc', 0.009328387677669525), ('one', 0.009328387677669525), ('mumbai', 0.009328387677669525), ('indian', 0.007776243146508932), ('see', 0.007776243146508932), ('well', 0.007776243146508932), ('come', 0.006224098615348339), ('rr', 0.006224098615348339), ('india', 0.006224098615348339), ('maiden', 0.006224098615348339), ('captain', 0.006224098615348339), ('back', 0.006224098615348339), ('bumrah', 0.006224098615348339)]\n",
            "<Basic Info>\n",
            "| SLDAModel (current version: 0.9.1)\n",
            "| 998 docs, 10089 words\n",
            "| Total Vocabs: 2727, Used Vocabs: 2727\n",
            "| Entropy of words: -6.88604\n",
            "| Removed Vocabs: <NA>\n",
            "|\n",
            "<Training Info>\n",
            "| Iterations: 0, Burn-in steps: 0\n",
            "| Optimization Interval: 10\n",
            "| Log-likelihood per word: -11.70831\n",
            "|\n",
            "<Initial Parameters>\n",
            "| tw: TermWeight.ONE\n",
            "| min_cf: 0 (minimum collection frequency of words)\n",
            "| min_df: 0 (minimum document frequency of words)\n",
            "| rm_top: 0 (the number of top words to be removed)\n",
            "| k: 15 (the number of topics between 1 ~ 32767)\n",
            "| vars: \n",
            "| alpha: 0.1 (hyperparameter of Dirichlet distribution for document-topic)\n",
            "| eta: 0.01 (hyperparameter of Dirichlet distribution for topic-word)\n",
            "| mu: [] (mean of regression coefficients, default value is 0)\n",
            "| nu_sq: [] (variance of regression coefficients, default value is 1)\n",
            "| glm_param: [] (the parameter for Generalized Linear Model, default value is 1)\n",
            "| trained in version 0.9.1\n",
            "|\n",
            "<Parameters>\n",
            "| alpha (Dirichlet prior on the per-document topic distributions)\n",
            "|  [0.1 0.1 0.1 0.1 0.1 0.1 0.1 0.1 0.1 0.1 0.1 0.1 0.1 0.1 0.1]\n",
            "| eta (Dirichlet prior on the per-topic word distribution)\n",
            "|  0.01\n",
            "| regression coefficients of response variables\n",
            "|\n",
            "<Topics>\n",
            "| #0 (710) : team final delhi time mi\n",
            "| #1 (652) : win team dc time delhi\n",
            "| #2 (636) : final win mi team stoinis\n",
            "| #3 (657) : final delhi dc well team\n",
            "| #4 (689) : team indian dc v see\n",
            "| #5 (688) : final time delhi dc team\n",
            "| #6 (661) : win team final first delhi\n",
            "| #7 (621) : team time dc win season\n",
            "| #8 (714) : team delhi capital time mi\n",
            "| #9 (701) : final win delhi team capital\n",
            "| #10 (714) : win final dc delhi team\n",
            "| #11 (641) : team dc final delhi capital\n",
            "| #12 (703) : final team delhi williamson win\n",
            "| #13 (685) : win delhi team v time\n",
            "| #14 (617) : team run mi v final\n",
            "|\n",
            "\n"
          ],
          "name": "stdout"
        }
      ]
    },
    {
      "cell_type": "markdown",
      "metadata": {
        "id": "IxdQxOJWMNY1"
      },
      "source": [
        "**K-means** "
      ]
    },
    {
      "cell_type": "code",
      "metadata": {
        "colab": {
          "base_uri": "https://localhost:8080/"
        },
        "id": "KfiIUggdMRIG",
        "outputId": "1f8339cd-e06d-4c5f-80e9-f882629cf32f"
      },
      "source": [
        "from sklearn.feature_extraction.text import TfidfVectorizer\n",
        "tfidf_vector = TfidfVectorizer()\n",
        "tfidf = tfidf_vector.fit_transform(tweets[\"refine_text\"].values)\n",
        "tfidf.shape"
      ],
      "execution_count": 158,
      "outputs": [
        {
          "output_type": "execute_result",
          "data": {
            "text/plain": [
              "(1000, 2711)"
            ]
          },
          "metadata": {
            "tags": []
          },
          "execution_count": 158
        }
      ]
    },
    {
      "cell_type": "code",
      "metadata": {
        "colab": {
          "base_uri": "https://localhost:8080/"
        },
        "id": "9rT-xBj5MaEa",
        "outputId": "32436747-25e2-4194-f1ff-49f58f70be49"
      },
      "source": [
        "from sklearn.cluster import KMeans\n",
        "model_tfif = KMeans(n_clusters = 10, n_jobs = -1,random_state=99)\n",
        "model_tfif.fit(tfidf)"
      ],
      "execution_count": 160,
      "outputs": [
        {
          "output_type": "execute_result",
          "data": {
            "text/plain": [
              "KMeans(algorithm='auto', copy_x=True, init='k-means++', max_iter=300,\n",
              "       n_clusters=10, n_init=10, n_jobs=-1, precompute_distances='auto',\n",
              "       random_state=99, tol=0.0001, verbose=0)"
            ]
          },
          "metadata": {
            "tags": []
          },
          "execution_count": 160
        }
      ]
    },
    {
      "cell_type": "code",
      "metadata": {
        "id": "5LChvs_BMc8f"
      },
      "source": [
        "labels_tfif = model_tfif.labels_\n",
        "cluster_center_tfif=model_tfif.cluster_centers_"
      ],
      "execution_count": 161,
      "outputs": []
    },
    {
      "cell_type": "code",
      "metadata": {
        "colab": {
          "base_uri": "https://localhost:8080/"
        },
        "id": "ZJHcsZj4MhXL",
        "outputId": "8424168c-f151-43bb-816b-5740c7bd89e9"
      },
      "source": [
        "cluster_center_tfif"
      ],
      "execution_count": 162,
      "outputs": [
        {
          "output_type": "execute_result",
          "data": {
            "text/plain": [
              "array([[0.00051286, 0.        , 0.00189733, ..., 0.00046739, 0.        ,\n",
              "        0.00044525],\n",
              "       [0.        , 0.        , 0.        , ..., 0.        , 0.        ,\n",
              "        0.        ],\n",
              "       [0.        , 0.        , 0.        , ..., 0.        , 0.        ,\n",
              "        0.        ],\n",
              "       ...,\n",
              "       [0.        , 0.        , 0.        , ..., 0.        , 0.        ,\n",
              "        0.        ],\n",
              "       [0.        , 0.        , 0.        , ..., 0.        , 0.        ,\n",
              "        0.        ],\n",
              "       [0.        , 0.00367482, 0.0065745 , ..., 0.        , 0.00315616,\n",
              "        0.        ]])"
            ]
          },
          "metadata": {
            "tags": []
          },
          "execution_count": 162
        }
      ]
    },
    {
      "cell_type": "code",
      "metadata": {
        "id": "Fnd2n6AnMjxK"
      },
      "source": [
        "words = tfidf_vector.get_feature_names()"
      ],
      "execution_count": 163,
      "outputs": []
    },
    {
      "cell_type": "code",
      "metadata": {
        "id": "b1-PcDNpMpFP"
      },
      "source": [
        "from sklearn import metrics\n",
        "silhouette_score_tfif = metrics.silhouette_score(tfidf, labels_tfif, metric='euclidean')"
      ],
      "execution_count": 164,
      "outputs": []
    },
    {
      "cell_type": "code",
      "metadata": {
        "colab": {
          "base_uri": "https://localhost:8080/"
        },
        "id": "UmyoATgFMvw1",
        "outputId": "f9da4383-c982-4f72-fe3b-e62a4393d7f8"
      },
      "source": [
        "silhouette_score_tfif"
      ],
      "execution_count": 165,
      "outputs": [
        {
          "output_type": "execute_result",
          "data": {
            "text/plain": [
              "0.014400088854713158"
            ]
          },
          "metadata": {
            "tags": []
          },
          "execution_count": 165
        }
      ]
    },
    {
      "cell_type": "code",
      "metadata": {
        "colab": {
          "base_uri": "https://localhost:8080/",
          "height": 581
        },
        "id": "TQFeCxXcMxp5",
        "outputId": "d93cf27e-bffb-42e2-dcb4-09d4b64a2e0d"
      },
      "source": [
        "df_tfif = tweets\n",
        "df_tfif['Tfidf cluster Labels'] = model_tfif.labels_\n",
        "df_tfif.head(5)"
      ],
      "execution_count": 166,
      "outputs": [
        {
          "output_type": "execute_result",
          "data": {
            "text/html": [
              "<div>\n",
              "<style scoped>\n",
              "    .dataframe tbody tr th:only-of-type {\n",
              "        vertical-align: middle;\n",
              "    }\n",
              "\n",
              "    .dataframe tbody tr th {\n",
              "        vertical-align: top;\n",
              "    }\n",
              "\n",
              "    .dataframe thead th {\n",
              "        text-align: right;\n",
              "    }\n",
              "</style>\n",
              "<table border=\"1\" class=\"dataframe\">\n",
              "  <thead>\n",
              "    <tr style=\"text-align: right;\">\n",
              "      <th></th>\n",
              "      <th>created</th>\n",
              "      <th>user_location</th>\n",
              "      <th>tweet_text</th>\n",
              "      <th>username</th>\n",
              "      <th>all_hashtags</th>\n",
              "      <th>refine_text</th>\n",
              "      <th>text_length</th>\n",
              "      <th>sentiment_compound_polarity</th>\n",
              "      <th>sentiment_neutral</th>\n",
              "      <th>sentiment_negative</th>\n",
              "      <th>sentiment_pos</th>\n",
              "      <th>sentiment_type</th>\n",
              "      <th>hour</th>\n",
              "      <th>date</th>\n",
              "      <th>minute</th>\n",
              "      <th>Tfidf cluster Labels</th>\n",
              "    </tr>\n",
              "  </thead>\n",
              "  <tbody>\n",
              "    <tr>\n",
              "      <th>0</th>\n",
              "      <td>11/9/2020 4:49</td>\n",
              "      <td>Gotham City</td>\n",
              "      <td>b'Look at #SRH youngster Priyam Garg after Kan...</td>\n",
              "      <td>b'SteadyTheShip'</td>\n",
              "      <td>['SRH', 'SRHvDC', 'DCvSRH', 'IPL2020']</td>\n",
              "      <td>look youngster priyam garg kane williamson mas...</td>\n",
              "      <td>40</td>\n",
              "      <td>0.6969</td>\n",
              "      <td>0.720</td>\n",
              "      <td>0.062</td>\n",
              "      <td>0.218</td>\n",
              "      <td>POSITIVE</td>\n",
              "      <td>4</td>\n",
              "      <td>2020-11-09</td>\n",
              "      <td>49</td>\n",
              "      <td>9</td>\n",
              "    </tr>\n",
              "    <tr>\n",
              "      <th>1</th>\n",
              "      <td>11/9/2020 4:49</td>\n",
              "      <td>Bengaluru South, India</td>\n",
              "      <td>b'This is Mr.360\\xc2\\xb0 @ABdeVilliers17 . Mos...</td>\n",
              "      <td>b'imsapien'</td>\n",
              "      <td>['Cricket', 'IPL2020', 'Eliminater', 'IPLQuali...</td>\n",
              "      <td>mrxcxb dangerous animal cricket</td>\n",
              "      <td>9</td>\n",
              "      <td>-0.4767</td>\n",
              "      <td>0.492</td>\n",
              "      <td>0.508</td>\n",
              "      <td>0.000</td>\n",
              "      <td>NEGATIVE</td>\n",
              "      <td>4</td>\n",
              "      <td>2020-11-09</td>\n",
              "      <td>49</td>\n",
              "      <td>0</td>\n",
              "    </tr>\n",
              "    <tr>\n",
              "      <th>2</th>\n",
              "      <td>11/9/2020 4:48</td>\n",
              "      <td>Chennai, India</td>\n",
              "      <td>b\"Great things happen to those who don't stop ...</td>\n",
              "      <td>b'CricketGirl_45'</td>\n",
              "      <td>['RohitSharma', 'MumbaiIndians', 'IPL2020', 'I...</td>\n",
              "      <td>great thing happen dont stop believing trying ...</td>\n",
              "      <td>21</td>\n",
              "      <td>0.9134</td>\n",
              "      <td>0.356</td>\n",
              "      <td>0.000</td>\n",
              "      <td>0.644</td>\n",
              "      <td>POSITIVE</td>\n",
              "      <td>4</td>\n",
              "      <td>2020-11-09</td>\n",
              "      <td>48</td>\n",
              "      <td>0</td>\n",
              "    </tr>\n",
              "    <tr>\n",
              "      <th>3</th>\n",
              "      <td>11/9/2020 4:48</td>\n",
              "      <td>Chennai, India</td>\n",
              "      <td>b'T Natarajan made a mark with his yorkers in ...</td>\n",
              "      <td>b'ESPNcricinfo'</td>\n",
              "      <td>['IPL2020']</td>\n",
              "      <td>natarajan made mark yorkers xfxfxxc see play t...</td>\n",
              "      <td>19</td>\n",
              "      <td>0.3400</td>\n",
              "      <td>0.789</td>\n",
              "      <td>0.000</td>\n",
              "      <td>0.211</td>\n",
              "      <td>POSITIVE</td>\n",
              "      <td>4</td>\n",
              "      <td>2020-11-09</td>\n",
              "      <td>48</td>\n",
              "      <td>0</td>\n",
              "    </tr>\n",
              "    <tr>\n",
              "      <th>4</th>\n",
              "      <td>11/9/2020 4:47</td>\n",
              "      <td>Kerala, India</td>\n",
              "      <td>b'#IPL2020 Final: Marcus Stoinis warning to @m...</td>\n",
              "      <td>b'InsideSportIND'</td>\n",
              "      <td>['IPL2020', 'iplseason13', 'IPLfinal', 'Mumbai...</td>\n",
              "      <td>marcus stoinis warning check</td>\n",
              "      <td>7</td>\n",
              "      <td>-0.3400</td>\n",
              "      <td>0.556</td>\n",
              "      <td>0.444</td>\n",
              "      <td>0.000</td>\n",
              "      <td>NEGATIVE</td>\n",
              "      <td>4</td>\n",
              "      <td>2020-11-09</td>\n",
              "      <td>47</td>\n",
              "      <td>0</td>\n",
              "    </tr>\n",
              "  </tbody>\n",
              "</table>\n",
              "</div>"
            ],
            "text/plain": [
              "          created           user_location  ... minute Tfidf cluster Labels\n",
              "0  11/9/2020 4:49            Gotham City   ...     49                    9\n",
              "1  11/9/2020 4:49  Bengaluru South, India  ...     49                    0\n",
              "2  11/9/2020 4:48         Chennai, India   ...     48                    0\n",
              "3  11/9/2020 4:48          Chennai, India  ...     48                    0\n",
              "4  11/9/2020 4:47           Kerala, India  ...     47                    0\n",
              "\n",
              "[5 rows x 16 columns]"
            ]
          },
          "metadata": {
            "tags": []
          },
          "execution_count": 166
        }
      ]
    },
    {
      "cell_type": "code",
      "metadata": {
        "colab": {
          "base_uri": "https://localhost:8080/"
        },
        "id": "I0khgtpHNgA6",
        "outputId": "df2c382d-d3a2-4653-bdf6-fc2057b09ea3"
      },
      "source": [
        "df_tfif.groupby(['Tfidf cluster Labels'])['refine_text'].count()"
      ],
      "execution_count": 167,
      "outputs": [
        {
          "output_type": "execute_result",
          "data": {
            "text/plain": [
              "Tfidf cluster Labels\n",
              "0    508\n",
              "1     13\n",
              "2     49\n",
              "3     55\n",
              "4     50\n",
              "5     64\n",
              "6     51\n",
              "7     69\n",
              "8     33\n",
              "9    108\n",
              "Name: refine_text, dtype: int64"
            ]
          },
          "metadata": {
            "tags": []
          },
          "execution_count": 167
        }
      ]
    },
    {
      "cell_type": "code",
      "metadata": {
        "colab": {
          "base_uri": "https://localhost:8080/"
        },
        "id": "yZ0eLlU0NivH",
        "outputId": "f9322152-f3d7-498b-d176-40c385fc39c5"
      },
      "source": [
        "\n",
        "print(\"Top words per cluster:\")\n",
        "order_centroids = model_tfif.cluster_centers_.argsort()[:, ::-1]\n",
        "for i in range(10):\n",
        "    print(\"Cluster %d:\" % i, end='')\n",
        "    for ind in order_centroids[i, :10]:\n",
        "        print(' %s' % words[ind], end='')\n",
        "        print()"
      ],
      "execution_count": 168,
      "outputs": [
        {
          "output_type": "stream",
          "text": [
            "Top words per cluster:\n",
            "Cluster 0: congratulation\n",
            " one\n",
            " season\n",
            " champion\n",
            " year\n",
            " fan\n",
            " match\n",
            " run\n",
            " wicket\n",
            " trophy\n",
            "Cluster 1: csk\n",
            " rps\n",
            " kkr\n",
            " deccan\n",
            " kxip\n",
            " rr\n",
            " srh\n",
            " mi\n",
            " rcb\n",
            " final\n",
            "Cluster 2: win\n",
            " always\n",
            " lose\n",
            " life\n",
            " retweet\n",
            " time\n",
            " like\n",
            " wish\n",
            " first\n",
            " hope\n",
            "Cluster 3: capital\n",
            " delhi\n",
            " maiden\n",
            " run\n",
            " qualifier\n",
            " hyderabad\n",
            " sunrisers\n",
            " join\n",
            " first\n",
            " time\n",
            "Cluster 4: title\n",
            " qualifier\n",
            " tuesday\n",
            " first\n",
            " lost\n",
            " match\n",
            " face\n",
            " final\n",
            " win\n",
            " beat\n",
            "Cluster 5: final\n",
            " finally\n",
            " time\n",
            " congratulation\n",
            " first\n",
            " delhi\n",
            " see\n",
            " qualified\n",
            " trophy\n",
            " made\n",
            "Cluster 6: well\n",
            " played\n",
            " congratulation\n",
            " team\n",
            " better\n",
            " boy\n",
            " proud\n",
            " match\n",
            " done\n",
            " next\n",
            "Cluster 7: dc\n",
            " mi\n",
            " rcb\n",
            " time\n",
            " csk\n",
            " released\n",
            " final\n",
            " made\n",
            " srh\n",
            " fan\n",
            "Cluster 8: mumbai\n",
            " indian\n",
            " win\n",
            " capital\n",
            " join\n",
            " delhi\n",
            " year\n",
            " meet\n",
            " winner\n",
            " time\n",
            "Cluster 9: player\n",
            " team\n",
            " williamson\n",
            " kane\n",
            " injured\n",
            " best\n",
            " season\n",
            " fan\n",
            " good\n",
            " back\n"
          ],
          "name": "stdout"
        }
      ]
    },
    {
      "cell_type": "code",
      "metadata": {
        "colab": {
          "base_uri": "https://localhost:8080/",
          "height": 295
        },
        "id": "ozr59NtYN90f",
        "outputId": "6de619a7-d587-4323-88bd-904aba5fb266"
      },
      "source": [
        "import matplotlib.pyplot as plt\n",
        "plt.bar([x for x in range(10)], df_tfif.groupby(['Tfidf cluster Labels'])['refine_text'].count(), alpha = 0.4)\n",
        "plt.title('KMeans cluster points')\n",
        "plt.xlabel(\"Cluster number\")\n",
        "plt.ylabel(\"Number of points\")\n",
        "plt.show()"
      ],
      "execution_count": 169,
      "outputs": [
        {
          "output_type": "display_data",
          "data": {
            "image/png": "[encoded data removed]",
            "text/plain": [
              "<Figure size 432x288 with 1 Axes>"
            ]
          },
          "metadata": {
            "tags": [],
            "needs_background": "light"
          }
        }
      ]
    },
    {
      "cell_type": "markdown",
      "metadata": {
        "id": "jHCa96igeGlI"
      },
      "source": [
        "**Classification Algorithms**"
      ]
    },
    {
      "cell_type": "markdown",
      "metadata": {
        "id": "qvtVBjgUUYGI"
      },
      "source": [
        "**SVM**\n",
        "\n",
        "\n"
      ]
    },
    {
      "cell_type": "code",
      "metadata": {
        "id": "99IG1N_iU9RX"
      },
      "source": [
        "from sklearn.model_selection import train_test_split\n",
        "X_train, X_test, y_train, y_test = train_test_split(tfidf, tweets[\"sentiment_type\"], test_size=0.2,random_state=109)"
      ],
      "execution_count": 170,
      "outputs": []
    },
    {
      "cell_type": "code",
      "metadata": {
        "id": "BEObzo_bPvrF"
      },
      "source": [
        "import sklearn\n",
        "from sklearn.model_selection import train_test_split\n",
        "from sklearn.feature_extraction.text import CountVectorizer, TfidfTransformer\n",
        "from sklearn.linear_model import SGDClassifier\n",
        "from sklearn.pipeline import Pipeline\n",
        "from sklearn.naive_bayes import MultinomialNB\n",
        "from sklearn.svm import LinearSVC\n",
        "from sklearn.metrics import f1_score, accuracy_score, precision_score, recall_score\n",
        "train, test = sklearn.model_selection.train_test_split(tweets, train_size=0.8, test_size=0.2)\n",
        "svm_pipeline = Pipeline([('vect', CountVectorizer()),\n",
        "                     ('tfidf', TfidfTransformer()),\n",
        "                     ('clf', LinearSVC())])\n",
        "svm = svm_pipeline.fit(train['refine_text'], train['sentiment_type'])\n",
        "test['predicted sentiment'] = svm.predict(test['refine_text'])"
      ],
      "execution_count": 178,
      "outputs": []
    },
    {
      "cell_type": "code",
      "metadata": {
        "colab": {
          "base_uri": "https://localhost:8080/"
        },
        "id": "uVQS3XGFPvur",
        "outputId": "989efeb8-fd89-4271-802c-a3acda6b767e"
      },
      "source": [
        "print('TFIDF-BASED SVM SENTIMENT ANALYSIS:', '\\n')\n",
        "print(test[['refine_text', 'sentiment_type', 'predicted sentiment']].head(10))\n",
        "svm_recall = recall_score(test['sentiment_type'], test['predicted sentiment'], average='macro')\n",
        "svm_precision = precision_score(test['sentiment_type'], test['predicted sentiment'], average='macro')\n",
        "svm_accuracy = accuracy_score(test['sentiment_type'], test['predicted sentiment'])*100\n",
        "svm_f1 = f1_score(test['sentiment_type'], test['predicted sentiment'], average='macro')\n",
        "print('Accuracy of svm :', svm_accuracy)\n",
        "print('f1-score of svm :', svm_f1)\n",
        "print('Precision score of svm :', svm_precision)\n",
        "print('Recall score of svm :', svm_recall)"
      ],
      "execution_count": 172,
      "outputs": [
        {
          "output_type": "stream",
          "text": [
            "TFIDF-BASED SVM SENTIMENT ANALYSIS: \n",
            "\n",
            "                                           refine_text  ... predicted sentiment\n",
            "404                                could beaten easily  ...            POSITIVE\n",
            "20   feeling sad think ind v nz runner au v nz wc f...  ...            POSITIVE\n",
            "86                                another season proud  ...            POSITIVE\n",
            "519  wicket season dwayne bravo kagiso rabada lasit...  ...             NEUTRAL\n",
            "793                 taken season reach maiden congrats  ...            POSITIVE\n",
            "846  started supporting viru gauti used open mcgrat...  ...            POSITIVE\n",
            "668  rcb dc reached final many year change made tea...  ...             NEUTRAL\n",
            "578  xfxfxxaxfxfxxba australia marcus stoinis warmi...  ...            POSITIVE\n",
            "680                                                win  ...            POSITIVE\n",
            "992  marcus stoinis nailed show ball bat picking ba...  ...             NEUTRAL\n",
            "\n",
            "[10 rows x 3 columns]\n",
            "Accuracy of svm : 71.0\n",
            "f1-score of svm : 0.5661567164179105\n",
            "Precision score of svm : 0.7409945753546555\n",
            "Recall score of svm : 0.5413855150697257\n"
          ],
          "name": "stdout"
        }
      ]
    },
    {
      "cell_type": "markdown",
      "metadata": {
        "id": "_dEQfPF-RlzF"
      },
      "source": [
        "**MULTINOMIAL NAIVE BAYES**"
      ]
    },
    {
      "cell_type": "code",
      "metadata": {
        "id": "9W3HJfmjRlBM"
      },
      "source": [
        "\n",
        "nb_pipeline = Pipeline([('vect', CountVectorizer()),\n",
        "                        ('tfidf', TfidfTransformer()),\n",
        "                        ('clf', MultinomialNB())])\n",
        "nb = nb_pipeline.fit(train['refine_text'], train['sentiment_type'])\n",
        "test['nb predicted sentiment'] = nb.predict(test['refine_text'])"
      ],
      "execution_count": 179,
      "outputs": []
    },
    {
      "cell_type": "code",
      "metadata": {
        "colab": {
          "base_uri": "https://localhost:8080/"
        },
        "id": "SDMXypafRrmR",
        "outputId": "6068967e-2c5f-447e-ad3e-01397345ae61"
      },
      "source": [
        "print('\\n', 'MultinomialNB SENTIMENT ANALYSIS:', '\\n')\n",
        "print(test[['refine_text', 'sentiment_type', 'nb predicted sentiment']].head(10))\n",
        "from sklearn.metrics import accuracy_score, recall_score, precision_score, f1_score\n",
        "nb_recall = recall_score(test['sentiment_type'], test['nb predicted sentiment'], average='macro')\n",
        "nb_precision = precision_score(test['sentiment_type'], test['nb predicted sentiment'], average='macro')\n",
        "nb_accuracy = accuracy_score(test['sentiment_type'], test['nb predicted sentiment'])*100\n",
        "nb_f1 = f1_score(test['sentiment_type'], test['nb predicted sentiment'], average='macro')\n",
        "\n",
        "print('Accuracy of MultinomialNB:', nb_accuracy)\n",
        "print('f1-score of MultinomialNB:', nb_f1)\n",
        "print('Precision score of MultinomialNB:', nb_precision)\n",
        "print('Recall score of  MultinomialNB:', nb_recall)"
      ],
      "execution_count": 180,
      "outputs": [
        {
          "output_type": "stream",
          "text": [
            "\n",
            " MultinomialNB SENTIMENT ANALYSIS: \n",
            "\n",
            "                                           refine_text  ... nb predicted sentiment\n",
            "698  stoinis man take first xfxfxxaa special perfor...  ...               POSITIVE\n",
            "4                         marcus stoinis warning check  ...               POSITIVE\n",
            "203                        delhi ke chole bhature join  ...               POSITIVE\n",
            "140  top team table playing well played really hard...  ...               POSITIVE\n",
            "798     abdul samad hit six v norje v bumrah v cummins  ...               POSITIVE\n",
            "619            batsman win match bowler win tournament  ...               POSITIVE\n",
            "237                                       wt highlight  ...               POSITIVE\n",
            "513  real heart break everyone u anyway long wonder...  ...               POSITIVE\n",
            "978  never back big stage whether critical situatio...  ...               POSITIVE\n",
            "421  delhi v mumbai called long back episode sports...  ...               POSITIVE\n",
            "\n",
            "[10 rows x 3 columns]\n",
            "Accuracy of MultinomialNB: 68.5\n",
            "f1-score of MultinomialNB: 0.3456410256410256\n",
            "Precision score of MultinomialNB: 0.4774305555555555\n",
            "Recall score of  MultinomialNB: 0.373775347459558\n"
          ],
          "name": "stdout"
        }
      ]
    },
    {
      "cell_type": "markdown",
      "metadata": {
        "id": "0xIjTeAQW7NW"
      },
      "source": [
        "**GRADIENT BOOSTING**"
      ]
    },
    {
      "cell_type": "code",
      "metadata": {
        "colab": {
          "base_uri": "https://localhost:8080/"
        },
        "id": "gO2oE6dWRlEd",
        "outputId": "6a6a6f62-cc8b-4f04-e592-0487baa9fc6b"
      },
      "source": [
        "from sklearn.ensemble import GradientBoostingClassifier\n",
        "gbpln = Pipeline([('vect', CountVectorizer()),\n",
        "                     ('tfidf', TfidfTransformer()),\n",
        "                     ('clf', GradientBoostingClassifier(n_estimators=200,verbose=30))])\n",
        "gb = gbpln.fit(train['refine_text'], train['sentiment_type'])\n",
        "test['GB predicted sentiment'] = gb.predict(test['refine_text'])"
      ],
      "execution_count": 181,
      "outputs": [
        {
          "output_type": "stream",
          "text": [
            "      Iter       Train Loss   Remaining Time \n",
            "         1         691.3705            2.38s\n",
            "         2         673.7685            2.35s\n",
            "         3         658.9098            2.45s\n",
            "         4         645.3990            2.58s\n",
            "         5         633.6244            2.51s\n",
            "         6         621.7345            2.47s\n",
            "         7         612.8142            2.41s\n",
            "         8         604.1359            2.40s\n",
            "         9         595.0521            2.38s\n",
            "        10         587.6922            2.34s\n",
            "        11         579.6022            2.34s\n",
            "        12         571.2708            2.33s\n",
            "        13         563.6481            2.31s\n",
            "        14         556.3329            2.29s\n",
            "        15         550.7362            2.27s\n",
            "        16         544.0024            2.25s\n",
            "        17         538.7549            2.25s\n",
            "        18         533.1211            2.24s\n",
            "        19         527.6800            2.22s\n",
            "        20         522.7511            2.20s\n",
            "        21         517.8159            2.18s\n",
            "        22         513.4322            2.16s\n",
            "        23         509.2281            2.15s\n",
            "        24         504.7447            2.14s\n",
            "        25         500.7329            2.12s\n",
            "        26         496.1612            2.11s\n",
            "        27         491.7173            2.10s\n",
            "        28         488.1109            2.08s\n",
            "        29         483.5155            2.07s\n",
            "        30         480.2375            2.05s\n",
            "        31         477.1110            2.03s\n",
            "        32         473.7058            2.02s\n",
            "        33         470.8651            2.01s\n",
            "        34         467.7186            1.99s\n",
            "        35         464.3112            2.00s\n",
            "        36         461.2005            1.98s\n",
            "        37         457.2039            1.97s\n",
            "        38         454.4018            1.96s\n",
            "        39         451.4495            1.94s\n",
            "        40         448.8835            1.92s\n",
            "        41         445.4708            1.91s\n",
            "        42         442.0499            1.89s\n",
            "        43         438.6087            1.87s\n",
            "        44         435.4794            1.85s\n",
            "        45         432.0712            1.84s\n",
            "        46         429.2006            1.83s\n",
            "        47         426.3030            1.81s\n",
            "        48         423.6723            1.80s\n",
            "        49         420.8697            1.79s\n",
            "        50         418.7071            1.78s\n",
            "        51         416.3266            1.77s\n",
            "        52         413.5398            1.76s\n",
            "        53         411.2367            1.76s\n",
            "        54         409.0964            1.75s\n",
            "        55         406.6091            1.74s\n",
            "        56         403.7786            1.72s\n",
            "        57         401.2896            1.71s\n",
            "        58         399.1634            1.70s\n",
            "        59         396.4118            1.69s\n",
            "        60         394.1593            1.67s\n",
            "        61         392.0387            1.66s\n",
            "        62         390.0571            1.65s\n",
            "        63         387.8988            1.64s\n",
            "        64         386.2847            1.63s\n",
            "        65         384.1110            1.62s\n",
            "        66         382.0673            1.60s\n",
            "        67         379.9686            1.59s\n",
            "        68         377.8915            1.58s\n",
            "        69         375.6544            1.57s\n",
            "        70         374.0377            1.57s\n",
            "        71         372.1339            1.56s\n",
            "        72         370.1473            1.54s\n",
            "        73         368.2674            1.54s\n",
            "        74         366.6145            1.53s\n",
            "        75         364.8889            1.51s\n",
            "        76         363.1019            1.51s\n",
            "        77         361.3073            1.50s\n",
            "        78         359.6840            1.49s\n",
            "        79         358.1166            1.47s\n",
            "        80         356.3098            1.46s\n",
            "        81         354.6797            1.45s\n",
            "        82         353.0752            1.44s\n",
            "        83         351.2527            1.43s\n",
            "        84         349.7093            1.41s\n",
            "        85         348.1588            1.40s\n",
            "        86         346.1609            1.39s\n",
            "        87         344.0907            1.39s\n",
            "        88         342.0849            1.37s\n",
            "        89         340.8191            1.36s\n",
            "        90         339.4739            1.35s\n",
            "        91         338.0788            1.33s\n",
            "        92         336.6744            1.32s\n",
            "        93         335.1369            1.31s\n",
            "        94         333.6303            1.29s\n",
            "        95         331.8055            1.28s\n",
            "        96         330.4277            1.27s\n",
            "        97         329.1372            1.26s\n",
            "        98         327.8712            1.24s\n",
            "        99         326.2571            1.23s\n",
            "       100         325.1395            1.22s\n",
            "       101         323.9223            1.20s\n",
            "       102         322.7325            1.19s\n",
            "       103         321.1139            1.18s\n",
            "       104         319.7027            1.16s\n",
            "       105         318.6337            1.15s\n",
            "       106         317.3527            1.14s\n",
            "       107         316.1246            1.13s\n",
            "       108         314.9921            1.11s\n",
            "       109         313.5856            1.10s\n",
            "       110         312.2492            1.09s\n",
            "       111         311.1173            1.07s\n",
            "       112         309.7417            1.06s\n",
            "       113         308.3820            1.05s\n",
            "       114         306.8124            1.03s\n",
            "       115         305.6792            1.02s\n",
            "       116         304.6003            1.01s\n",
            "       117         303.5425            1.00s\n",
            "       118         302.1609            0.98s\n",
            "       119         301.1716            0.97s\n",
            "       120         299.8793            0.96s\n",
            "       121         298.6374            0.94s\n",
            "       122         297.5824            0.93s\n",
            "       123         296.6468            0.92s\n",
            "       124         295.2208            0.91s\n",
            "       125         294.0361            0.89s\n",
            "       126         292.8104            0.88s\n",
            "       127         291.8203            0.87s\n",
            "       128         290.6797            0.86s\n",
            "       129         289.7719            0.84s\n",
            "       130         288.5966            0.83s\n",
            "       131         287.5317            0.82s\n",
            "       132         286.5185            0.81s\n",
            "       133         285.5986            0.79s\n",
            "       134         284.4058            0.78s\n",
            "       135         283.5171            0.77s\n",
            "       136         282.5808            0.76s\n",
            "       137         281.6697            0.75s\n",
            "       138         280.7323            0.73s\n",
            "       139         279.7512            0.72s\n",
            "       140         278.8001            0.71s\n",
            "       141         277.9857            0.70s\n",
            "       142         276.8885            0.69s\n",
            "       143         275.8500            0.67s\n",
            "       144         274.8536            0.66s\n",
            "       145         273.6486            0.65s\n",
            "       146         272.8151            0.64s\n",
            "       147         272.0156            0.63s\n",
            "       148         270.8423            0.62s\n",
            "       149         269.8861            0.60s\n",
            "       150         268.8953            0.59s\n",
            "       151         267.6804            0.58s\n",
            "       152         266.4701            0.57s\n",
            "       153         265.6038            0.56s\n",
            "       154         264.6833            0.55s\n",
            "       155         263.9155            0.53s\n",
            "       156         262.9005            0.52s\n",
            "       157         261.9332            0.51s\n",
            "       158         261.0714            0.50s\n",
            "       159         260.1681            0.49s\n",
            "       160         259.3134            0.48s\n",
            "       161         258.4339            0.46s\n",
            "       162         257.5928            0.45s\n",
            "       163         256.8263            0.44s\n",
            "       164         255.8102            0.43s\n",
            "       165         255.0553            0.42s\n",
            "       166         254.2094            0.40s\n",
            "       167         253.3871            0.39s\n",
            "       168         252.6462            0.38s\n",
            "       169         251.6617            0.37s\n",
            "       170         250.8588            0.36s\n",
            "       171         249.8508            0.35s\n",
            "       172         248.9570            0.33s\n",
            "       173         247.9994            0.32s\n",
            "       174         247.2426            0.31s\n",
            "       175         246.4036            0.30s\n",
            "       176         245.6033            0.29s\n",
            "       177         244.8173            0.27s\n",
            "       178         244.1143            0.26s\n",
            "       179         243.1890            0.25s\n",
            "       180         242.4397            0.24s\n",
            "       181         241.5338            0.23s\n",
            "       182         240.6136            0.21s\n",
            "       183         239.8301            0.20s\n",
            "       184         239.1960            0.19s\n",
            "       185         238.5206            0.18s\n",
            "       186         237.8425            0.17s\n",
            "       187         237.1035            0.15s\n",
            "       188         236.4965            0.14s\n",
            "       189         235.8131            0.13s\n",
            "       190         235.1721            0.12s\n",
            "       191         234.4640            0.11s\n",
            "       192         233.5741            0.09s\n",
            "       193         232.7790            0.08s\n",
            "       194         231.9972            0.07s\n",
            "       195         230.9602            0.06s\n",
            "       196         230.1232            0.05s\n",
            "       197         229.4762            0.04s\n",
            "       198         228.5901            0.02s\n",
            "       199         227.9767            0.01s\n",
            "       200         227.2410            0.00s\n"
          ],
          "name": "stdout"
        }
      ]
    },
    {
      "cell_type": "code",
      "metadata": {
        "colab": {
          "base_uri": "https://localhost:8080/"
        },
        "id": "OqMwL7t2RlH4",
        "outputId": "84691ced-1d3d-4d80-942c-4e0502366b45"
      },
      "source": [
        "print('GRADIENTBOOSTING SENTIMENT ANALYSIS:', '\\n')\n",
        "print(test[['refine_text', 'sentiment_type', 'GB predicted sentiment']].head(10))\n",
        "\n",
        "gb_recall = recall_score(test['sentiment_type'], test['GB predicted sentiment'], average='macro')\n",
        "gb_precision = precision_score(test['sentiment_type'], test['GB predicted sentiment'], average='macro')\n",
        "gb_accuracy = accuracy_score(test['sentiment_type'], test['GB predicted sentiment'])*100\n",
        "gb_f1 = f1_score(test['sentiment_type'], test['GB predicted sentiment'], average='macro')\n",
        "\n",
        "print('Accuracy of GradientBoosting:', gb_accuracy)\n",
        "print('f1-score of GradientBoosting:', gb_f1)\n",
        "print('Precision score of GradientBoosting:', gb_precision)\n",
        "print('Recall score of GradientBoosting:', gb_recall)"
      ],
      "execution_count": 182,
      "outputs": [
        {
          "output_type": "stream",
          "text": [
            "GRADIENTBOOSTING SENTIMENT ANALYSIS: \n",
            "\n",
            "                                           refine_text  ... GB predicted sentiment\n",
            "698  stoinis man take first xfxfxxaa special perfor...  ...               POSITIVE\n",
            "4                         marcus stoinis warning check  ...               NEGATIVE\n",
            "203                        delhi ke chole bhature join  ...               POSITIVE\n",
            "140  top team table playing well played really hard...  ...               POSITIVE\n",
            "798     abdul samad hit six v norje v bumrah v cummins  ...               POSITIVE\n",
            "619            batsman win match bowler win tournament  ...               POSITIVE\n",
            "237                                       wt highlight  ...               POSITIVE\n",
            "513  real heart break everyone u anyway long wonder...  ...               POSITIVE\n",
            "978  never back big stage whether critical situatio...  ...               POSITIVE\n",
            "421  delhi v mumbai called long back episode sports...  ...               POSITIVE\n",
            "\n",
            "[10 rows x 3 columns]\n",
            "Accuracy of GradientBoosting: 77.5\n",
            "f1-score of GradientBoosting: 0.6323015220074044\n",
            "Precision score of GradientBoosting: 0.711576549811844\n",
            "Recall score of GradientBoosting: 0.5991138914479875\n"
          ],
          "name": "stdout"
        }
      ]
    },
    {
      "cell_type": "markdown",
      "metadata": {
        "id": "WnDMuV29ViIH"
      },
      "source": [
        "**RANDOM FOREST**"
      ]
    },
    {
      "cell_type": "code",
      "metadata": {
        "id": "W2dsqZ8OVY8B"
      },
      "source": [
        "from sklearn import tree\n",
        "from sklearn.ensemble import RandomForestClassifier\n",
        "from sklearn.ensemble import GradientBoostingClassifier\n",
        "pln = Pipeline([('vect', CountVectorizer()),\n",
        "                     ('tfidf', TfidfTransformer()),\n",
        "                     ('clf', RandomForestClassifier(n_estimators=100))])\n",
        "rf = pln.fit(train['refine_text'], train['sentiment_type'])\n",
        "test['GB predicted sentiment'] = rf.predict(test['refine_text'])"
      ],
      "execution_count": 183,
      "outputs": []
    },
    {
      "cell_type": "code",
      "metadata": {
        "colab": {
          "base_uri": "https://localhost:8080/"
        },
        "id": "CS0JQN11VY_Z",
        "outputId": "3c6c903f-ca1e-403e-e85a-e90f5dea8e38"
      },
      "source": [
        "print('RANDOM FOREST SENTIMENT ANALYSIS:', '\\n')\n",
        "print(test[['refine_text', 'sentiment_type', 'GB predicted sentiment']].head(10))\n",
        "\n",
        "rf_recall = recall_score(test['sentiment_type'], test['GB predicted sentiment'], average='macro')\n",
        "rf_precision = precision_score(test['sentiment_type'], test['GB predicted sentiment'], average='macro')\n",
        "rf_accuracy = accuracy_score(test['sentiment_type'], test['GB predicted sentiment'])*100\n",
        "rf_f1 = f1_score(test['sentiment_type'], test['GB predicted sentiment'], average='macro')\n",
        "\n",
        "print('Accuracy of RandomForest:', rf_accuracy)\n",
        "print('f1-score of RandomForest:', rf_f1)\n",
        "print('Precision score of RandomForest:', rf_precision)\n",
        "print('Recall score of RandomForest:', rf_recall)"
      ],
      "execution_count": 186,
      "outputs": [
        {
          "output_type": "stream",
          "text": [
            "RANDOM FOREST SENTIMENT ANALYSIS: \n",
            "\n",
            "                                           refine_text  ... GB predicted sentiment\n",
            "698  stoinis man take first xfxfxxaa special perfor...  ...               POSITIVE\n",
            "4                         marcus stoinis warning check  ...                NEUTRAL\n",
            "203                        delhi ke chole bhature join  ...               POSITIVE\n",
            "140  top team table playing well played really hard...  ...               POSITIVE\n",
            "798     abdul samad hit six v norje v bumrah v cummins  ...                NEUTRAL\n",
            "619            batsman win match bowler win tournament  ...               POSITIVE\n",
            "237                                       wt highlight  ...                NEUTRAL\n",
            "513  real heart break everyone u anyway long wonder...  ...               POSITIVE\n",
            "978  never back big stage whether critical situatio...  ...                NEUTRAL\n",
            "421  delhi v mumbai called long back episode sports...  ...                NEUTRAL\n",
            "\n",
            "[10 rows x 3 columns]\n",
            "Accuracy of RandomForest: 73.5\n",
            "f1-score of RandomForest: 0.5621968822524636\n",
            "Precision score of RandomForest: 0.7092102846648302\n",
            "Recall score of RandomForest: 0.5919517172377584\n"
          ],
          "name": "stdout"
        }
      ]
    }
  ]
}